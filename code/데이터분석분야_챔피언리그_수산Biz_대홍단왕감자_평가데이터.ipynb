{
 "cells": [
  {
   "cell_type": "code",
   "execution_count": 5,
   "metadata": {
    "_cell_guid": "b1076dfc-b9ad-4769-8c92-a6c4dae69d19",
    "_uuid": "8f2839f25d086af736a60e9eeb907d3b93b6e0e5",
    "execution": {
     "iopub.execute_input": "2021-09-15T04:07:57.246574Z",
     "iopub.status.busy": "2021-09-15T04:07:57.246313Z",
     "iopub.status.idle": "2021-09-15T04:07:57.266444Z",
     "shell.execute_reply": "2021-09-15T04:07:57.265433Z",
     "shell.execute_reply.started": "2021-09-15T04:07:57.246545Z"
    }
   },
   "outputs": [
    {
     "name": "stdout",
     "output_type": "stream",
     "text": [
      "/kaggle/input/validdata/sample_valid_submission (1).csv\n",
      "/kaggle/input/valid-result/valid_result_R.csv\n",
      "/kaggle/input/valid-org/valid_org.csv\n",
      "/kaggle/input/bigcontest/2021 ___Biz_.xlsx\n",
      "/kaggle/input/bigcontest/2021 ___Biz__update_210831.xlsx\n",
      "/kaggle/input/train-data/2021 ___Biz_.csv\n"
     ]
    }
   ],
   "source": [
    "# This Python 3 environment comes with many helpful analytics libraries installed\n",
    "# It is defined by the kaggle/python Docker image: https://github.com/kaggle/docker-python\n",
    "# For example, here's several helpful packages to load\n",
    "\n",
    "\n",
    "import numpy as np # linear algebra\n",
    "import pandas as pd # data processing, CSV file I/O (e.g. pd.read_csv)\n",
    "\n",
    "# Input data files are available in the read-only \"../input/\" directory\n",
    "# For example, running this (by clicking run or pressing Shift+Enter) will list all files under the input directory\n",
    "\n",
    "import os\n",
    "for dirname, _, filenames in os.walk('/kaggle/input'):\n",
    "    for filename in filenames:\n",
    "        print(os.path.join(dirname, filename))\n",
    "\n",
    "# You can write up to 20GB to the current directory (/kaggle/working/) that gets preserved as output when you create a version using \"Save & Run All\" \n",
    "# You can also write temporary files to /kaggle/temp/, but they won't be saved outside of the current session"
   ]
  },
  {
   "cell_type": "markdown",
   "metadata": {},
   "source": [
    "# Data Load"
   ]
  },
  {
   "cell_type": "code",
   "execution_count": 6,
   "metadata": {
    "execution": {
     "iopub.execute_input": "2021-09-15T04:07:57.279147Z",
     "iopub.status.busy": "2021-09-15T04:07:57.278396Z",
     "iopub.status.idle": "2021-09-15T04:07:57.412466Z",
     "shell.execute_reply": "2021-09-15T04:07:57.411654Z",
     "shell.execute_reply.started": "2021-09-15T04:07:57.279084Z"
    }
   },
   "outputs": [
    {
     "data": {
      "text/html": [
       "<div>\n",
       "<style scoped>\n",
       "    .dataframe tbody tr th:only-of-type {\n",
       "        vertical-align: middle;\n",
       "    }\n",
       "\n",
       "    .dataframe tbody tr th {\n",
       "        vertical-align: top;\n",
       "    }\n",
       "\n",
       "    .dataframe thead th {\n",
       "        text-align: right;\n",
       "    }\n",
       "</style>\n",
       "<table border=\"1\" class=\"dataframe\">\n",
       "  <thead>\n",
       "    <tr style=\"text-align: right;\">\n",
       "      <th></th>\n",
       "      <th>REG_DATE</th>\n",
       "      <th>P_TYPE</th>\n",
       "      <th>CTRY_1</th>\n",
       "      <th>CTRY_2</th>\n",
       "      <th>P_PURPOSE</th>\n",
       "      <th>CATEGORY_1</th>\n",
       "      <th>CATEGORY_2</th>\n",
       "      <th>P_NAME</th>\n",
       "      <th>P_IMPORT_TYPE</th>\n",
       "      <th>P_PRICE</th>\n",
       "    </tr>\n",
       "  </thead>\n",
       "  <tbody>\n",
       "    <tr>\n",
       "      <th>0</th>\n",
       "      <td>2015-12-28</td>\n",
       "      <td>수산물</td>\n",
       "      <td>아르헨티나</td>\n",
       "      <td>아르헨티나</td>\n",
       "      <td>판매용</td>\n",
       "      <td>갑각류</td>\n",
       "      <td>새우</td>\n",
       "      <td>아르헨티나붉은새우</td>\n",
       "      <td>냉동</td>\n",
       "      <td>7.48</td>\n",
       "    </tr>\n",
       "    <tr>\n",
       "      <th>1</th>\n",
       "      <td>2015-12-28</td>\n",
       "      <td>수산물</td>\n",
       "      <td>바레인</td>\n",
       "      <td>바레인</td>\n",
       "      <td>판매용</td>\n",
       "      <td>갑각류</td>\n",
       "      <td>게</td>\n",
       "      <td>꽃게</td>\n",
       "      <td>냉동</td>\n",
       "      <td>2.92</td>\n",
       "    </tr>\n",
       "    <tr>\n",
       "      <th>2</th>\n",
       "      <td>2015-12-28</td>\n",
       "      <td>수산물</td>\n",
       "      <td>바레인</td>\n",
       "      <td>바레인</td>\n",
       "      <td>판매용</td>\n",
       "      <td>갑각류</td>\n",
       "      <td>게</td>\n",
       "      <td>꽃게</td>\n",
       "      <td>냉동,절단</td>\n",
       "      <td>3.36</td>\n",
       "    </tr>\n",
       "    <tr>\n",
       "      <th>3</th>\n",
       "      <td>2015-12-28</td>\n",
       "      <td>수산물</td>\n",
       "      <td>칠레</td>\n",
       "      <td>칠레</td>\n",
       "      <td>판매용</td>\n",
       "      <td>패류 멍게류</td>\n",
       "      <td>해삼</td>\n",
       "      <td>해삼</td>\n",
       "      <td>건조,자숙</td>\n",
       "      <td>18.26</td>\n",
       "    </tr>\n",
       "    <tr>\n",
       "      <th>4</th>\n",
       "      <td>2015-12-28</td>\n",
       "      <td>수산물</td>\n",
       "      <td>중국</td>\n",
       "      <td>중국</td>\n",
       "      <td>판매용</td>\n",
       "      <td>어류</td>\n",
       "      <td>서대 박대 페루다</td>\n",
       "      <td>서대</td>\n",
       "      <td>냉동</td>\n",
       "      <td>4.79</td>\n",
       "    </tr>\n",
       "    <tr>\n",
       "      <th>...</th>\n",
       "      <td>...</td>\n",
       "      <td>...</td>\n",
       "      <td>...</td>\n",
       "      <td>...</td>\n",
       "      <td>...</td>\n",
       "      <td>...</td>\n",
       "      <td>...</td>\n",
       "      <td>...</td>\n",
       "      <td>...</td>\n",
       "      <td>...</td>\n",
       "    </tr>\n",
       "    <tr>\n",
       "      <th>42068</th>\n",
       "      <td>2019-12-30</td>\n",
       "      <td>수산물</td>\n",
       "      <td>러시아</td>\n",
       "      <td>러시아</td>\n",
       "      <td>판매용</td>\n",
       "      <td>갑각류</td>\n",
       "      <td>게</td>\n",
       "      <td>왕게</td>\n",
       "      <td>활</td>\n",
       "      <td>38.44</td>\n",
       "    </tr>\n",
       "    <tr>\n",
       "      <th>42069</th>\n",
       "      <td>2019-12-30</td>\n",
       "      <td>수산물</td>\n",
       "      <td>중국</td>\n",
       "      <td>중국</td>\n",
       "      <td>판매용</td>\n",
       "      <td>연체류 해물모듬</td>\n",
       "      <td>낙지</td>\n",
       "      <td>낙지</td>\n",
       "      <td>활</td>\n",
       "      <td>8.28</td>\n",
       "    </tr>\n",
       "    <tr>\n",
       "      <th>42070</th>\n",
       "      <td>2019-12-30</td>\n",
       "      <td>수산물</td>\n",
       "      <td>러시아</td>\n",
       "      <td>러시아</td>\n",
       "      <td>판매용</td>\n",
       "      <td>갑각류</td>\n",
       "      <td>게</td>\n",
       "      <td>대게</td>\n",
       "      <td>활</td>\n",
       "      <td>23.40</td>\n",
       "    </tr>\n",
       "    <tr>\n",
       "      <th>42071</th>\n",
       "      <td>2019-12-30</td>\n",
       "      <td>수산물</td>\n",
       "      <td>중국</td>\n",
       "      <td>중국</td>\n",
       "      <td>판매용</td>\n",
       "      <td>패류 멍게류</td>\n",
       "      <td>바지락</td>\n",
       "      <td>바지락</td>\n",
       "      <td>활</td>\n",
       "      <td>0.85</td>\n",
       "    </tr>\n",
       "    <tr>\n",
       "      <th>42072</th>\n",
       "      <td>2019-12-30</td>\n",
       "      <td>수산물</td>\n",
       "      <td>노르웨이</td>\n",
       "      <td>노르웨이</td>\n",
       "      <td>판매용</td>\n",
       "      <td>어류</td>\n",
       "      <td>연어</td>\n",
       "      <td>연어</td>\n",
       "      <td>냉장</td>\n",
       "      <td>13.21</td>\n",
       "    </tr>\n",
       "  </tbody>\n",
       "</table>\n",
       "<p>42073 rows × 10 columns</p>\n",
       "</div>"
      ],
      "text/plain": [
       "         REG_DATE P_TYPE CTRY_1 CTRY_2 P_PURPOSE CATEGORY_1 CATEGORY_2  \\\n",
       "0      2015-12-28    수산물  아르헨티나  아르헨티나       판매용        갑각류         새우   \n",
       "1      2015-12-28    수산물    바레인    바레인       판매용        갑각류          게   \n",
       "2      2015-12-28    수산물    바레인    바레인       판매용        갑각류          게   \n",
       "3      2015-12-28    수산물     칠레     칠레       판매용     패류 멍게류         해삼   \n",
       "4      2015-12-28    수산물     중국     중국       판매용         어류  서대 박대 페루다   \n",
       "...           ...    ...    ...    ...       ...        ...        ...   \n",
       "42068  2019-12-30    수산물    러시아    러시아       판매용        갑각류          게   \n",
       "42069  2019-12-30    수산물     중국     중국       판매용   연체류 해물모듬         낙지   \n",
       "42070  2019-12-30    수산물    러시아    러시아       판매용        갑각류          게   \n",
       "42071  2019-12-30    수산물     중국     중국       판매용     패류 멍게류        바지락   \n",
       "42072  2019-12-30    수산물   노르웨이   노르웨이       판매용         어류         연어   \n",
       "\n",
       "          P_NAME P_IMPORT_TYPE P_PRICE  \n",
       "0      아르헨티나붉은새우            냉동    7.48  \n",
       "1             꽃게            냉동    2.92  \n",
       "2             꽃게         냉동,절단    3.36  \n",
       "3             해삼         건조,자숙   18.26  \n",
       "4             서대            냉동    4.79  \n",
       "...          ...           ...     ...  \n",
       "42068         왕게             활   38.44  \n",
       "42069         낙지             활    8.28  \n",
       "42070         대게             활   23.40  \n",
       "42071        바지락             활    0.85  \n",
       "42072         연어            냉장   13.21  \n",
       "\n",
       "[42073 rows x 10 columns]"
      ]
     },
     "execution_count": 6,
     "metadata": {},
     "output_type": "execute_result"
    }
   ],
   "source": [
    "train = pd.read_csv(\"../input/train-data/2021 ___Biz_.csv\",encoding='CP949')\n",
    "train"
   ]
  },
  {
   "cell_type": "code",
   "execution_count": 7,
   "metadata": {
    "execution": {
     "iopub.execute_input": "2021-09-15T04:07:57.414490Z",
     "iopub.status.busy": "2021-09-15T04:07:57.414235Z",
     "iopub.status.idle": "2021-09-15T04:07:57.424195Z",
     "shell.execute_reply": "2021-09-15T04:07:57.423368Z",
     "shell.execute_reply.started": "2021-09-15T04:07:57.414458Z"
    }
   },
   "outputs": [
    {
     "data": {
      "text/plain": [
       "78"
      ]
     },
     "execution_count": 7,
     "metadata": {},
     "output_type": "execute_result"
    }
   ],
   "source": [
    "len(train.P_IMPORT_TYPE.unique())"
   ]
  },
  {
   "cell_type": "markdown",
   "metadata": {},
   "source": [
    "# 타입재정리"
   ]
  },
  {
   "cell_type": "code",
   "execution_count": 8,
   "metadata": {
    "execution": {
     "iopub.execute_input": "2021-09-15T04:07:57.426036Z",
     "iopub.status.busy": "2021-09-15T04:07:57.425724Z",
     "iopub.status.idle": "2021-09-15T04:07:57.431056Z",
     "shell.execute_reply": "2021-09-15T04:07:57.430136Z",
     "shell.execute_reply.started": "2021-09-15T04:07:57.426000Z"
    }
   },
   "outputs": [],
   "source": [
    "def convert_target_datatype(x):\n",
    "    return float(x.replace(',', '').rstrip())"
   ]
  },
  {
   "cell_type": "code",
   "execution_count": 9,
   "metadata": {
    "execution": {
     "iopub.execute_input": "2021-09-15T04:07:57.433650Z",
     "iopub.status.busy": "2021-09-15T04:07:57.433319Z",
     "iopub.status.idle": "2021-09-15T04:07:57.476499Z",
     "shell.execute_reply": "2021-09-15T04:07:57.475866Z",
     "shell.execute_reply.started": "2021-09-15T04:07:57.433543Z"
    }
   },
   "outputs": [],
   "source": [
    "train.P_PRICE = train.P_PRICE.apply(convert_target_datatype)"
   ]
  },
  {
   "cell_type": "code",
   "execution_count": 10,
   "metadata": {
    "execution": {
     "iopub.execute_input": "2021-09-15T04:07:57.477923Z",
     "iopub.status.busy": "2021-09-15T04:07:57.477626Z",
     "iopub.status.idle": "2021-09-15T04:07:57.481906Z",
     "shell.execute_reply": "2021-09-15T04:07:57.481023Z",
     "shell.execute_reply.started": "2021-09-15T04:07:57.477890Z"
    }
   },
   "outputs": [],
   "source": [
    "def convert_target_datatype_type(x):\n",
    "    return (x.split(','))"
   ]
  },
  {
   "cell_type": "code",
   "execution_count": 11,
   "metadata": {
    "execution": {
     "iopub.execute_input": "2021-09-15T04:07:57.483567Z",
     "iopub.status.busy": "2021-09-15T04:07:57.483157Z",
     "iopub.status.idle": "2021-09-15T04:07:57.514952Z",
     "shell.execute_reply": "2021-09-15T04:07:57.514243Z",
     "shell.execute_reply.started": "2021-09-15T04:07:57.483534Z"
    }
   },
   "outputs": [],
   "source": [
    "train.P_IMPORT_TYPE = train.P_IMPORT_TYPE.apply(convert_target_datatype_type)"
   ]
  },
  {
   "cell_type": "code",
   "execution_count": 12,
   "metadata": {
    "execution": {
     "iopub.execute_input": "2021-09-15T04:07:57.516451Z",
     "iopub.status.busy": "2021-09-15T04:07:57.516161Z",
     "iopub.status.idle": "2021-09-15T04:07:57.528294Z",
     "shell.execute_reply": "2021-09-15T04:07:57.527567Z",
     "shell.execute_reply.started": "2021-09-15T04:07:57.516402Z"
    }
   },
   "outputs": [],
   "source": [
    "train['storage'] = None\n",
    "train['part'] = None\n",
    "train['process'] = None\n",
    "train['sashimi'] = None\n",
    "train['steaming_processing'] = None"
   ]
  },
  {
   "cell_type": "code",
   "execution_count": 13,
   "metadata": {
    "execution": {
     "iopub.execute_input": "2021-09-15T04:07:57.529664Z",
     "iopub.status.busy": "2021-09-15T04:07:57.529319Z",
     "iopub.status.idle": "2021-09-15T04:07:57.536756Z",
     "shell.execute_reply": "2021-09-15T04:07:57.535728Z",
     "shell.execute_reply.started": "2021-09-15T04:07:57.529625Z"
    }
   },
   "outputs": [],
   "source": [
    "type_1 = ['건조','냉동','냉장','염장','활']\n",
    "type_2 = ['간','개아지살','곤이','껍질','꼬리_외화획득용','난포선','내장','눈살','다리','동체','머리','머리_외화획득용','머리살','목살','볼살','알','외투막','지느러미','집게다리','창난','턱살','줄기','살']\n",
    "type_3 = ['절단','슬라이스(S)','필렛(F)','한쪽껍질붙은','훈제','캐비아대용']\n",
    "type_4 = ['포장횟감','횟감']\n",
    "type_5 = ['자숙']"
   ]
  },
  {
   "cell_type": "code",
   "execution_count": 14,
   "metadata": {
    "execution": {
     "iopub.execute_input": "2021-09-15T04:07:57.538492Z",
     "iopub.status.busy": "2021-09-15T04:07:57.538212Z",
     "iopub.status.idle": "2021-09-15T04:08:34.939604Z",
     "shell.execute_reply": "2021-09-15T04:08:34.938880Z",
     "shell.execute_reply.started": "2021-09-15T04:07:57.538459Z"
    }
   },
   "outputs": [
    {
     "name": "stderr",
     "output_type": "stream",
     "text": [
      "/opt/conda/lib/python3.7/site-packages/ipykernel_launcher.py:5: SettingWithCopyWarning: \n",
      "A value is trying to be set on a copy of a slice from a DataFrame\n",
      "\n",
      "See the caveats in the documentation: https://pandas.pydata.org/pandas-docs/stable/user_guide/indexing.html#returning-a-view-versus-a-copy\n",
      "  \"\"\"\n",
      "/opt/conda/lib/python3.7/site-packages/ipykernel_launcher.py:17: SettingWithCopyWarning: \n",
      "A value is trying to be set on a copy of a slice from a DataFrame\n",
      "\n",
      "See the caveats in the documentation: https://pandas.pydata.org/pandas-docs/stable/user_guide/indexing.html#returning-a-view-versus-a-copy\n",
      "/opt/conda/lib/python3.7/site-packages/ipykernel_launcher.py:21: SettingWithCopyWarning: \n",
      "A value is trying to be set on a copy of a slice from a DataFrame\n",
      "\n",
      "See the caveats in the documentation: https://pandas.pydata.org/pandas-docs/stable/user_guide/indexing.html#returning-a-view-versus-a-copy\n",
      "/opt/conda/lib/python3.7/site-packages/ipykernel_launcher.py:25: SettingWithCopyWarning: \n",
      "A value is trying to be set on a copy of a slice from a DataFrame\n",
      "\n",
      "See the caveats in the documentation: https://pandas.pydata.org/pandas-docs/stable/user_guide/indexing.html#returning-a-view-versus-a-copy\n",
      "/opt/conda/lib/python3.7/site-packages/ipykernel_launcher.py:19: SettingWithCopyWarning: \n",
      "A value is trying to be set on a copy of a slice from a DataFrame\n",
      "\n",
      "See the caveats in the documentation: https://pandas.pydata.org/pandas-docs/stable/user_guide/indexing.html#returning-a-view-versus-a-copy\n",
      "/opt/conda/lib/python3.7/site-packages/ipykernel_launcher.py:23: SettingWithCopyWarning: \n",
      "A value is trying to be set on a copy of a slice from a DataFrame\n",
      "\n",
      "See the caveats in the documentation: https://pandas.pydata.org/pandas-docs/stable/user_guide/indexing.html#returning-a-view-versus-a-copy\n"
     ]
    }
   ],
   "source": [
    "for i in range(len(train)):\n",
    "    x = train.P_IMPORT_TYPE[i]\n",
    "    if len(x) == 1: \n",
    "        if x[0] in type_1:\n",
    "            train.storage[i] = x[0]\n",
    "        elif x[0] in type_2:\n",
    "            train.part[i] = x[0]\n",
    "        elif x[0] in type_3:\n",
    "            train.process[i] = x[0]\n",
    "        elif x[0] in type_4:\n",
    "            train.sashimi[i] = x[0]            \n",
    "        elif x[0] in type_5:\n",
    "            train.steaming_processing.append[i] = x[0]\n",
    "    elif len(x) >= 2:\n",
    "        for j in range(len(x)):\n",
    "            if x[j] in type_1:\n",
    "                train.storage[i] = x[j]\n",
    "            elif x[j] in type_2:\n",
    "                train.part[i] = x[j]\n",
    "            elif x[j] in type_3:\n",
    "                train.process[i] = x[j]\n",
    "            elif x[j] in type_4:\n",
    "                train.sashimi[i] = x[j]            \n",
    "            elif x[j] in type_5:\n",
    "                train.steaming_processing[i] = x[j]"
   ]
  },
  {
   "cell_type": "markdown",
   "metadata": {},
   "source": [
    "# REG_DATE 전처리\n",
    "- REG_DATE를 year, month, day로 나눠서 각 컬럼을 추가한다\n",
    "- 각 월의 day를 기준으로 1~5주차로 나눠 컬럼을 추가한다"
   ]
  },
  {
   "cell_type": "code",
   "execution_count": 15,
   "metadata": {
    "execution": {
     "iopub.execute_input": "2021-09-15T04:08:34.942778Z",
     "iopub.status.busy": "2021-09-15T04:08:34.942512Z",
     "iopub.status.idle": "2021-09-15T04:08:35.007549Z",
     "shell.execute_reply": "2021-09-15T04:08:35.006815Z",
     "shell.execute_reply.started": "2021-09-15T04:08:34.942745Z"
    }
   },
   "outputs": [],
   "source": [
    "train[\"YEAR\"] = train.REG_DATE.apply(lambda x: x.split('-')[0])\n",
    "train[\"MONTH\"] = train.REG_DATE.apply(lambda x: x.split('-')[1])\n",
    "train[\"DAY\"] = train.REG_DATE.apply(lambda x: x.split('-')[2])"
   ]
  },
  {
   "cell_type": "code",
   "execution_count": 16,
   "metadata": {
    "execution": {
     "iopub.execute_input": "2021-09-15T04:08:35.009063Z",
     "iopub.status.busy": "2021-09-15T04:08:35.008727Z",
     "iopub.status.idle": "2021-09-15T04:08:35.028846Z",
     "shell.execute_reply": "2021-09-15T04:08:35.028180Z",
     "shell.execute_reply.started": "2021-09-15T04:08:35.009026Z"
    }
   },
   "outputs": [],
   "source": [
    "train['REG_DATE'] = pd.to_datetime(train['REG_DATE'], format='%Y/%m/%d')"
   ]
  },
  {
   "cell_type": "code",
   "execution_count": 17,
   "metadata": {
    "execution": {
     "iopub.execute_input": "2021-09-15T04:08:35.030356Z",
     "iopub.status.busy": "2021-09-15T04:08:35.030010Z",
     "iopub.status.idle": "2021-09-15T04:08:35.035203Z",
     "shell.execute_reply": "2021-09-15T04:08:35.034459Z",
     "shell.execute_reply.started": "2021-09-15T04:08:35.030321Z"
    }
   },
   "outputs": [],
   "source": [
    "train['주차'] = None"
   ]
  },
  {
   "cell_type": "code",
   "execution_count": 18,
   "metadata": {
    "execution": {
     "iopub.execute_input": "2021-09-15T04:08:35.037110Z",
     "iopub.status.busy": "2021-09-15T04:08:35.036621Z",
     "iopub.status.idle": "2021-09-15T04:08:35.084027Z",
     "shell.execute_reply": "2021-09-15T04:08:35.083280Z",
     "shell.execute_reply.started": "2021-09-15T04:08:35.037075Z"
    }
   },
   "outputs": [],
   "source": [
    "_2015 = train[train.REG_DATE.dt.year == 2015]"
   ]
  },
  {
   "cell_type": "markdown",
   "metadata": {},
   "source": [
    "#### 2015년은 12월 28일 한 주 밖에 없어 2016년 1월 첫주차로 생각 "
   ]
  },
  {
   "cell_type": "code",
   "execution_count": 19,
   "metadata": {
    "execution": {
     "iopub.execute_input": "2021-09-15T04:08:35.085742Z",
     "iopub.status.busy": "2021-09-15T04:08:35.085485Z",
     "iopub.status.idle": "2021-09-15T04:08:35.090288Z",
     "shell.execute_reply": "2021-09-15T04:08:35.089620Z",
     "shell.execute_reply.started": "2021-09-15T04:08:35.085710Z"
    }
   },
   "outputs": [
    {
     "name": "stderr",
     "output_type": "stream",
     "text": [
      "/opt/conda/lib/python3.7/site-packages/ipykernel_launcher.py:1: SettingWithCopyWarning: \n",
      "A value is trying to be set on a copy of a slice from a DataFrame.\n",
      "Try using .loc[row_indexer,col_indexer] = value instead\n",
      "\n",
      "See the caveats in the documentation: https://pandas.pydata.org/pandas-docs/stable/user_guide/indexing.html#returning-a-view-versus-a-copy\n",
      "  \"\"\"Entry point for launching an IPython kernel.\n"
     ]
    }
   ],
   "source": [
    "_2015['주차'] = 1"
   ]
  },
  {
   "cell_type": "code",
   "execution_count": 20,
   "metadata": {
    "execution": {
     "iopub.execute_input": "2021-09-15T04:08:35.091898Z",
     "iopub.status.busy": "2021-09-15T04:08:35.091507Z",
     "iopub.status.idle": "2021-09-15T04:08:35.124748Z",
     "shell.execute_reply": "2021-09-15T04:08:35.124100Z",
     "shell.execute_reply.started": "2021-09-15T04:08:35.091866Z"
    }
   },
   "outputs": [],
   "source": [
    "_2016 = train[train.REG_DATE.dt.year == 2016]\n",
    "_2017 = train[train.REG_DATE.dt.year == 2017]\n",
    "_2018 = train[train.REG_DATE.dt.year == 2018]\n",
    "_2019 = train[train.REG_DATE.dt.year == 2019]"
   ]
  },
  {
   "cell_type": "code",
   "execution_count": 21,
   "metadata": {
    "execution": {
     "iopub.execute_input": "2021-09-15T04:08:35.126100Z",
     "iopub.status.busy": "2021-09-15T04:08:35.125849Z",
     "iopub.status.idle": "2021-09-15T04:08:35.802735Z",
     "shell.execute_reply": "2021-09-15T04:08:35.801974Z",
     "shell.execute_reply.started": "2021-09-15T04:08:35.126067Z"
    }
   },
   "outputs": [
    {
     "name": "stderr",
     "output_type": "stream",
     "text": [
      "/opt/conda/lib/python3.7/site-packages/ipykernel_launcher.py:8: SettingWithCopyWarning: \n",
      "A value is trying to be set on a copy of a slice from a DataFrame\n",
      "\n",
      "See the caveats in the documentation: https://pandas.pydata.org/pandas-docs/stable/user_guide/indexing.html#returning-a-view-versus-a-copy\n",
      "  \n",
      "/opt/conda/lib/python3.7/site-packages/IPython/core/interactiveshell.py:3441: SettingWithCopyWarning: \n",
      "A value is trying to be set on a copy of a slice from a DataFrame\n",
      "\n",
      "See the caveats in the documentation: https://pandas.pydata.org/pandas-docs/stable/user_guide/indexing.html#returning-a-view-versus-a-copy\n",
      "  exec(code_obj, self.user_global_ns, self.user_ns)\n",
      "/opt/conda/lib/python3.7/site-packages/ipykernel_launcher.py:12: SettingWithCopyWarning: \n",
      "A value is trying to be set on a copy of a slice from a DataFrame\n",
      "\n",
      "See the caveats in the documentation: https://pandas.pydata.org/pandas-docs/stable/user_guide/indexing.html#returning-a-view-versus-a-copy\n",
      "  if sys.path[0] == '':\n"
     ]
    }
   ],
   "source": [
    "max_ = 32\n",
    "w = 2\n",
    "for i in _2016.index:\n",
    "     if _2016.REG_DATE[i].month == 1:\n",
    "            x = _2016.REG_DATE[i].day\n",
    "            if max_ >= x:\n",
    "                max_ = x\n",
    "                _2016['주차'][i] = w\n",
    "            else:\n",
    "                max_ = x\n",
    "                w += 1\n",
    "                _2016['주차'][i] = w"
   ]
  },
  {
   "cell_type": "markdown",
   "metadata": {},
   "source": [
    "#### 2015년 12월 28일을 2016년 1월 첫주차로 생각했기 때문에 2016년 1월 데이터는 2주차 부터 시작 "
   ]
  },
  {
   "cell_type": "code",
   "execution_count": 22,
   "metadata": {
    "execution": {
     "iopub.execute_input": "2021-09-15T04:08:35.805915Z",
     "iopub.status.busy": "2021-09-15T04:08:35.805713Z",
     "iopub.status.idle": "2021-09-15T04:08:42.750349Z",
     "shell.execute_reply": "2021-09-15T04:08:42.749146Z",
     "shell.execute_reply.started": "2021-09-15T04:08:35.805891Z"
    }
   },
   "outputs": [
    {
     "name": "stderr",
     "output_type": "stream",
     "text": [
      "/opt/conda/lib/python3.7/site-packages/ipykernel_launcher.py:9: SettingWithCopyWarning: \n",
      "A value is trying to be set on a copy of a slice from a DataFrame\n",
      "\n",
      "See the caveats in the documentation: https://pandas.pydata.org/pandas-docs/stable/user_guide/indexing.html#returning-a-view-versus-a-copy\n",
      "  if __name__ == '__main__':\n",
      "/opt/conda/lib/python3.7/site-packages/ipykernel_launcher.py:13: SettingWithCopyWarning: \n",
      "A value is trying to be set on a copy of a slice from a DataFrame\n",
      "\n",
      "See the caveats in the documentation: https://pandas.pydata.org/pandas-docs/stable/user_guide/indexing.html#returning-a-view-versus-a-copy\n",
      "  del sys.path[0]\n"
     ]
    }
   ],
   "source": [
    "for j in range(2,13):\n",
    "    max_ = 32\n",
    "    w = 1\n",
    "    for i in _2016.index:\n",
    "        if _2016.REG_DATE[i].month == j:\n",
    "            x = _2016.REG_DATE[i].day\n",
    "            if max_ >= x:\n",
    "                max_ = x\n",
    "                _2016['주차'][i] = w\n",
    "            else:\n",
    "                max_ = x\n",
    "                w += 1\n",
    "                _2016['주차'][i] = w"
   ]
  },
  {
   "cell_type": "code",
   "execution_count": 23,
   "metadata": {
    "execution": {
     "iopub.execute_input": "2021-09-15T04:08:42.751959Z",
     "iopub.status.busy": "2021-09-15T04:08:42.751584Z",
     "iopub.status.idle": "2021-09-15T04:08:50.672792Z",
     "shell.execute_reply": "2021-09-15T04:08:50.672099Z",
     "shell.execute_reply.started": "2021-09-15T04:08:42.751926Z"
    }
   },
   "outputs": [
    {
     "name": "stderr",
     "output_type": "stream",
     "text": [
      "/opt/conda/lib/python3.7/site-packages/ipykernel_launcher.py:9: SettingWithCopyWarning: \n",
      "A value is trying to be set on a copy of a slice from a DataFrame\n",
      "\n",
      "See the caveats in the documentation: https://pandas.pydata.org/pandas-docs/stable/user_guide/indexing.html#returning-a-view-versus-a-copy\n",
      "  if __name__ == '__main__':\n",
      "/opt/conda/lib/python3.7/site-packages/ipykernel_launcher.py:13: SettingWithCopyWarning: \n",
      "A value is trying to be set on a copy of a slice from a DataFrame\n",
      "\n",
      "See the caveats in the documentation: https://pandas.pydata.org/pandas-docs/stable/user_guide/indexing.html#returning-a-view-versus-a-copy\n",
      "  del sys.path[0]\n"
     ]
    }
   ],
   "source": [
    "for j in range(1,13):\n",
    "    max_ = 32\n",
    "    w = 1\n",
    "    for i in _2017.index:\n",
    "        if _2017.REG_DATE[i].month == j:\n",
    "            x = _2017.REG_DATE[i].day\n",
    "            if max_ >= x:\n",
    "                max_ = x\n",
    "                _2017['주차'][i] = w\n",
    "            else:\n",
    "                max_ = x\n",
    "                w += 1\n",
    "                _2017['주차'][i] = w"
   ]
  },
  {
   "cell_type": "code",
   "execution_count": 24,
   "metadata": {
    "execution": {
     "iopub.execute_input": "2021-09-15T04:08:50.679425Z",
     "iopub.status.busy": "2021-09-15T04:08:50.677219Z",
     "iopub.status.idle": "2021-09-15T04:08:59.030884Z",
     "shell.execute_reply": "2021-09-15T04:08:59.030184Z",
     "shell.execute_reply.started": "2021-09-15T04:08:50.679386Z"
    }
   },
   "outputs": [
    {
     "name": "stderr",
     "output_type": "stream",
     "text": [
      "/opt/conda/lib/python3.7/site-packages/ipykernel_launcher.py:9: SettingWithCopyWarning: \n",
      "A value is trying to be set on a copy of a slice from a DataFrame\n",
      "\n",
      "See the caveats in the documentation: https://pandas.pydata.org/pandas-docs/stable/user_guide/indexing.html#returning-a-view-versus-a-copy\n",
      "  if __name__ == '__main__':\n",
      "/opt/conda/lib/python3.7/site-packages/ipykernel_launcher.py:13: SettingWithCopyWarning: \n",
      "A value is trying to be set on a copy of a slice from a DataFrame\n",
      "\n",
      "See the caveats in the documentation: https://pandas.pydata.org/pandas-docs/stable/user_guide/indexing.html#returning-a-view-versus-a-copy\n",
      "  del sys.path[0]\n"
     ]
    }
   ],
   "source": [
    "for j in range(1,13):\n",
    "    max_ = 32\n",
    "    w = 1\n",
    "    for i in _2018.index:\n",
    "        if _2018.REG_DATE[i].month == j:\n",
    "            x = _2018.REG_DATE[i].day\n",
    "            if max_ >= x:\n",
    "                max_ = x\n",
    "                _2018['주차'][i] = w\n",
    "            else:\n",
    "                max_ = x\n",
    "                w += 1\n",
    "                _2018['주차'][i] = w"
   ]
  },
  {
   "cell_type": "code",
   "execution_count": 25,
   "metadata": {
    "execution": {
     "iopub.execute_input": "2021-09-15T04:08:59.032273Z",
     "iopub.status.busy": "2021-09-15T04:08:59.032005Z",
     "iopub.status.idle": "2021-09-15T04:09:06.864854Z",
     "shell.execute_reply": "2021-09-15T04:09:06.864113Z",
     "shell.execute_reply.started": "2021-09-15T04:08:59.032241Z"
    }
   },
   "outputs": [
    {
     "name": "stderr",
     "output_type": "stream",
     "text": [
      "/opt/conda/lib/python3.7/site-packages/ipykernel_launcher.py:9: SettingWithCopyWarning: \n",
      "A value is trying to be set on a copy of a slice from a DataFrame\n",
      "\n",
      "See the caveats in the documentation: https://pandas.pydata.org/pandas-docs/stable/user_guide/indexing.html#returning-a-view-versus-a-copy\n",
      "  if __name__ == '__main__':\n",
      "/opt/conda/lib/python3.7/site-packages/ipykernel_launcher.py:13: SettingWithCopyWarning: \n",
      "A value is trying to be set on a copy of a slice from a DataFrame\n",
      "\n",
      "See the caveats in the documentation: https://pandas.pydata.org/pandas-docs/stable/user_guide/indexing.html#returning-a-view-versus-a-copy\n",
      "  del sys.path[0]\n"
     ]
    }
   ],
   "source": [
    "for j in range(1,13):\n",
    "    max_ = 32\n",
    "    w = 1\n",
    "    for i in _2019.index:\n",
    "        if _2019.REG_DATE[i].month == j:\n",
    "            x = _2019.REG_DATE[i].day\n",
    "            if max_ >= x:\n",
    "                max_ = x\n",
    "                _2019['주차'][i] = w\n",
    "            else:\n",
    "                max_ = x\n",
    "                w += 1\n",
    "                _2019['주차'][i] = w"
   ]
  },
  {
   "cell_type": "code",
   "execution_count": 26,
   "metadata": {
    "execution": {
     "iopub.execute_input": "2021-09-15T04:09:06.866470Z",
     "iopub.status.busy": "2021-09-15T04:09:06.866215Z",
     "iopub.status.idle": "2021-09-15T04:09:06.899073Z",
     "shell.execute_reply": "2021-09-15T04:09:06.898177Z",
     "shell.execute_reply.started": "2021-09-15T04:09:06.866438Z"
    }
   },
   "outputs": [],
   "source": [
    "train = pd.concat([_2015,_2016,_2017,_2018,_2019])"
   ]
  },
  {
   "cell_type": "code",
   "execution_count": 27,
   "metadata": {
    "execution": {
     "iopub.execute_input": "2021-09-15T04:09:06.900919Z",
     "iopub.status.busy": "2021-09-15T04:09:06.900629Z",
     "iopub.status.idle": "2021-09-15T04:09:06.944089Z",
     "shell.execute_reply": "2021-09-15T04:09:06.943299Z",
     "shell.execute_reply.started": "2021-09-15T04:09:06.900884Z"
    }
   },
   "outputs": [
    {
     "data": {
      "text/html": [
       "<div>\n",
       "<style scoped>\n",
       "    .dataframe tbody tr th:only-of-type {\n",
       "        vertical-align: middle;\n",
       "    }\n",
       "\n",
       "    .dataframe tbody tr th {\n",
       "        vertical-align: top;\n",
       "    }\n",
       "\n",
       "    .dataframe thead th {\n",
       "        text-align: right;\n",
       "    }\n",
       "</style>\n",
       "<table border=\"1\" class=\"dataframe\">\n",
       "  <thead>\n",
       "    <tr style=\"text-align: right;\">\n",
       "      <th></th>\n",
       "      <th>REG_DATE</th>\n",
       "      <th>YEAR</th>\n",
       "      <th>MONTH</th>\n",
       "      <th>DAY</th>\n",
       "      <th>주차</th>\n",
       "    </tr>\n",
       "  </thead>\n",
       "  <tbody>\n",
       "    <tr>\n",
       "      <th>0</th>\n",
       "      <td>2015-12-28</td>\n",
       "      <td>2015</td>\n",
       "      <td>12</td>\n",
       "      <td>28</td>\n",
       "      <td>1</td>\n",
       "    </tr>\n",
       "    <tr>\n",
       "      <th>199</th>\n",
       "      <td>2016-01-04</td>\n",
       "      <td>2016</td>\n",
       "      <td>01</td>\n",
       "      <td>04</td>\n",
       "      <td>2</td>\n",
       "    </tr>\n",
       "    <tr>\n",
       "      <th>414</th>\n",
       "      <td>2016-01-11</td>\n",
       "      <td>2016</td>\n",
       "      <td>01</td>\n",
       "      <td>11</td>\n",
       "      <td>3</td>\n",
       "    </tr>\n",
       "    <tr>\n",
       "      <th>635</th>\n",
       "      <td>2016-01-18</td>\n",
       "      <td>2016</td>\n",
       "      <td>01</td>\n",
       "      <td>18</td>\n",
       "      <td>4</td>\n",
       "    </tr>\n",
       "    <tr>\n",
       "      <th>824</th>\n",
       "      <td>2016-01-25</td>\n",
       "      <td>2016</td>\n",
       "      <td>01</td>\n",
       "      <td>25</td>\n",
       "      <td>5</td>\n",
       "    </tr>\n",
       "    <tr>\n",
       "      <th>...</th>\n",
       "      <td>...</td>\n",
       "      <td>...</td>\n",
       "      <td>...</td>\n",
       "      <td>...</td>\n",
       "      <td>...</td>\n",
       "    </tr>\n",
       "    <tr>\n",
       "      <th>41025</th>\n",
       "      <td>2019-12-02</td>\n",
       "      <td>2019</td>\n",
       "      <td>12</td>\n",
       "      <td>02</td>\n",
       "      <td>1</td>\n",
       "    </tr>\n",
       "    <tr>\n",
       "      <th>41234</th>\n",
       "      <td>2019-12-09</td>\n",
       "      <td>2019</td>\n",
       "      <td>12</td>\n",
       "      <td>09</td>\n",
       "      <td>2</td>\n",
       "    </tr>\n",
       "    <tr>\n",
       "      <th>41446</th>\n",
       "      <td>2019-12-16</td>\n",
       "      <td>2019</td>\n",
       "      <td>12</td>\n",
       "      <td>16</td>\n",
       "      <td>3</td>\n",
       "    </tr>\n",
       "    <tr>\n",
       "      <th>41672</th>\n",
       "      <td>2019-12-23</td>\n",
       "      <td>2019</td>\n",
       "      <td>12</td>\n",
       "      <td>23</td>\n",
       "      <td>4</td>\n",
       "    </tr>\n",
       "    <tr>\n",
       "      <th>41884</th>\n",
       "      <td>2019-12-30</td>\n",
       "      <td>2019</td>\n",
       "      <td>12</td>\n",
       "      <td>30</td>\n",
       "      <td>5</td>\n",
       "    </tr>\n",
       "  </tbody>\n",
       "</table>\n",
       "<p>210 rows × 5 columns</p>\n",
       "</div>"
      ],
      "text/plain": [
       "        REG_DATE  YEAR MONTH DAY 주차\n",
       "0     2015-12-28  2015    12  28  1\n",
       "199   2016-01-04  2016    01  04  2\n",
       "414   2016-01-11  2016    01  11  3\n",
       "635   2016-01-18  2016    01  18  4\n",
       "824   2016-01-25  2016    01  25  5\n",
       "...          ...   ...   ...  .. ..\n",
       "41025 2019-12-02  2019    12  02  1\n",
       "41234 2019-12-09  2019    12  09  2\n",
       "41446 2019-12-16  2019    12  16  3\n",
       "41672 2019-12-23  2019    12  23  4\n",
       "41884 2019-12-30  2019    12  30  5\n",
       "\n",
       "[210 rows x 5 columns]"
      ]
     },
     "execution_count": 27,
     "metadata": {},
     "output_type": "execute_result"
    }
   ],
   "source": [
    "_tmp = train.drop_duplicates(['REG_DATE'])\n",
    "_tmp[['REG_DATE','YEAR','MONTH','DAY','주차']]"
   ]
  },
  {
   "cell_type": "markdown",
   "metadata": {},
   "source": [
    "# Train"
   ]
  },
  {
   "cell_type": "markdown",
   "metadata": {},
   "source": [
    "### - 라벨인코딩"
   ]
  },
  {
   "cell_type": "code",
   "execution_count": 28,
   "metadata": {
    "execution": {
     "iopub.execute_input": "2021-09-15T04:09:06.945828Z",
     "iopub.status.busy": "2021-09-15T04:09:06.945554Z",
     "iopub.status.idle": "2021-09-15T04:09:07.732702Z",
     "shell.execute_reply": "2021-09-15T04:09:07.732036Z",
     "shell.execute_reply.started": "2021-09-15T04:09:06.945795Z"
    }
   },
   "outputs": [],
   "source": [
    "from sklearn.preprocessing import LabelEncoder"
   ]
  },
  {
   "cell_type": "code",
   "execution_count": 29,
   "metadata": {
    "execution": {
     "iopub.execute_input": "2021-09-15T04:09:07.734002Z",
     "iopub.status.busy": "2021-09-15T04:09:07.733766Z",
     "iopub.status.idle": "2021-09-15T04:09:07.739038Z",
     "shell.execute_reply": "2021-09-15T04:09:07.738420Z",
     "shell.execute_reply.started": "2021-09-15T04:09:07.733972Z"
    }
   },
   "outputs": [
    {
     "data": {
      "text/plain": [
       "Index(['REG_DATE', 'P_TYPE', 'CTRY_1', 'CTRY_2', 'P_PURPOSE', 'CATEGORY_1',\n",
       "       'CATEGORY_2', 'P_NAME', 'P_IMPORT_TYPE', 'P_PRICE', 'storage', 'part',\n",
       "       'process', 'sashimi', 'steaming_processing', 'YEAR', 'MONTH', 'DAY',\n",
       "       '주차'],\n",
       "      dtype='object')"
      ]
     },
     "execution_count": 29,
     "metadata": {},
     "output_type": "execute_result"
    }
   ],
   "source": [
    "train.columns"
   ]
  },
  {
   "cell_type": "code",
   "execution_count": 30,
   "metadata": {
    "execution": {
     "iopub.execute_input": "2021-09-15T04:09:07.740456Z",
     "iopub.status.busy": "2021-09-15T04:09:07.740167Z",
     "iopub.status.idle": "2021-09-15T04:09:07.752333Z",
     "shell.execute_reply": "2021-09-15T04:09:07.751704Z",
     "shell.execute_reply.started": "2021-09-15T04:09:07.740424Z"
    }
   },
   "outputs": [],
   "source": [
    "str_FEATS = ['CTRY_1', 'CTRY_2', 'P_PURPOSE','P_NAME','storage', 'part',\n",
    "       'process', 'sashimi', 'steaming_processing']"
   ]
  },
  {
   "cell_type": "code",
   "execution_count": 31,
   "metadata": {
    "execution": {
     "iopub.execute_input": "2021-09-15T04:09:07.753806Z",
     "iopub.status.busy": "2021-09-15T04:09:07.753447Z",
     "iopub.status.idle": "2021-09-15T04:09:07.843934Z",
     "shell.execute_reply": "2021-09-15T04:09:07.843193Z",
     "shell.execute_reply.started": "2021-09-15T04:09:07.753773Z"
    }
   },
   "outputs": [],
   "source": [
    "train = train.fillna('null')"
   ]
  },
  {
   "cell_type": "code",
   "execution_count": 32,
   "metadata": {
    "execution": {
     "iopub.execute_input": "2021-09-15T04:09:07.845644Z",
     "iopub.status.busy": "2021-09-15T04:09:07.845397Z",
     "iopub.status.idle": "2021-09-15T04:09:07.966450Z",
     "shell.execute_reply": "2021-09-15T04:09:07.965716Z",
     "shell.execute_reply.started": "2021-09-15T04:09:07.845612Z"
    }
   },
   "outputs": [],
   "source": [
    "for feat in str_FEATS:\n",
    "    encoder = LabelEncoder()\n",
    "    train[feat+'_le'] = encoder.fit_transform(train[feat])"
   ]
  },
  {
   "cell_type": "code",
   "execution_count": 33,
   "metadata": {
    "execution": {
     "iopub.execute_input": "2021-09-15T04:09:07.972318Z",
     "iopub.status.busy": "2021-09-15T04:09:07.972093Z",
     "iopub.status.idle": "2021-09-15T04:09:07.978005Z",
     "shell.execute_reply": "2021-09-15T04:09:07.977163Z",
     "shell.execute_reply.started": "2021-09-15T04:09:07.972295Z"
    }
   },
   "outputs": [
    {
     "data": {
      "text/plain": [
       "Index(['REG_DATE', 'P_TYPE', 'CTRY_1', 'CTRY_2', 'P_PURPOSE', 'CATEGORY_1',\n",
       "       'CATEGORY_2', 'P_NAME', 'P_IMPORT_TYPE', 'P_PRICE', 'storage', 'part',\n",
       "       'process', 'sashimi', 'steaming_processing', 'YEAR', 'MONTH', 'DAY',\n",
       "       '주차', 'CTRY_1_le', 'CTRY_2_le', 'P_PURPOSE_le', 'P_NAME_le',\n",
       "       'storage_le', 'part_le', 'process_le', 'sashimi_le',\n",
       "       'steaming_processing_le'],\n",
       "      dtype='object')"
      ]
     },
     "execution_count": 33,
     "metadata": {},
     "output_type": "execute_result"
    }
   ],
   "source": [
    "train.columns"
   ]
  },
  {
   "cell_type": "code",
   "execution_count": 34,
   "metadata": {
    "execution": {
     "iopub.execute_input": "2021-09-15T04:09:07.979646Z",
     "iopub.status.busy": "2021-09-15T04:09:07.979404Z",
     "iopub.status.idle": "2021-09-15T04:09:08.028354Z",
     "shell.execute_reply": "2021-09-15T04:09:08.027533Z",
     "shell.execute_reply.started": "2021-09-15T04:09:07.979616Z"
    }
   },
   "outputs": [
    {
     "data": {
      "text/html": [
       "<div>\n",
       "<style scoped>\n",
       "    .dataframe tbody tr th:only-of-type {\n",
       "        vertical-align: middle;\n",
       "    }\n",
       "\n",
       "    .dataframe tbody tr th {\n",
       "        vertical-align: top;\n",
       "    }\n",
       "\n",
       "    .dataframe thead th {\n",
       "        text-align: right;\n",
       "    }\n",
       "</style>\n",
       "<table border=\"1\" class=\"dataframe\">\n",
       "  <thead>\n",
       "    <tr style=\"text-align: right;\">\n",
       "      <th></th>\n",
       "      <th>CTRY_1</th>\n",
       "      <th>CTRY_2</th>\n",
       "      <th>P_PURPOSE</th>\n",
       "      <th>P_NAME</th>\n",
       "      <th>storage</th>\n",
       "      <th>part</th>\n",
       "      <th>process</th>\n",
       "      <th>sashimi</th>\n",
       "      <th>steaming_processing</th>\n",
       "    </tr>\n",
       "  </thead>\n",
       "  <tbody>\n",
       "    <tr>\n",
       "      <th>0</th>\n",
       "      <td>아르헨티나</td>\n",
       "      <td>아르헨티나</td>\n",
       "      <td>판매용</td>\n",
       "      <td>아르헨티나붉은새우</td>\n",
       "      <td>냉동</td>\n",
       "      <td>null</td>\n",
       "      <td>null</td>\n",
       "      <td>null</td>\n",
       "      <td>null</td>\n",
       "    </tr>\n",
       "    <tr>\n",
       "      <th>1</th>\n",
       "      <td>바레인</td>\n",
       "      <td>바레인</td>\n",
       "      <td>판매용</td>\n",
       "      <td>꽃게</td>\n",
       "      <td>냉동</td>\n",
       "      <td>null</td>\n",
       "      <td>null</td>\n",
       "      <td>null</td>\n",
       "      <td>null</td>\n",
       "    </tr>\n",
       "    <tr>\n",
       "      <th>2</th>\n",
       "      <td>바레인</td>\n",
       "      <td>바레인</td>\n",
       "      <td>판매용</td>\n",
       "      <td>꽃게</td>\n",
       "      <td>냉동</td>\n",
       "      <td>null</td>\n",
       "      <td>절단</td>\n",
       "      <td>null</td>\n",
       "      <td>null</td>\n",
       "    </tr>\n",
       "    <tr>\n",
       "      <th>3</th>\n",
       "      <td>칠레</td>\n",
       "      <td>칠레</td>\n",
       "      <td>판매용</td>\n",
       "      <td>해삼</td>\n",
       "      <td>건조</td>\n",
       "      <td>null</td>\n",
       "      <td>null</td>\n",
       "      <td>null</td>\n",
       "      <td>자숙</td>\n",
       "    </tr>\n",
       "    <tr>\n",
       "      <th>4</th>\n",
       "      <td>중국</td>\n",
       "      <td>중국</td>\n",
       "      <td>판매용</td>\n",
       "      <td>서대</td>\n",
       "      <td>냉동</td>\n",
       "      <td>null</td>\n",
       "      <td>null</td>\n",
       "      <td>null</td>\n",
       "      <td>null</td>\n",
       "    </tr>\n",
       "    <tr>\n",
       "      <th>...</th>\n",
       "      <td>...</td>\n",
       "      <td>...</td>\n",
       "      <td>...</td>\n",
       "      <td>...</td>\n",
       "      <td>...</td>\n",
       "      <td>...</td>\n",
       "      <td>...</td>\n",
       "      <td>...</td>\n",
       "      <td>...</td>\n",
       "    </tr>\n",
       "    <tr>\n",
       "      <th>42068</th>\n",
       "      <td>러시아</td>\n",
       "      <td>러시아</td>\n",
       "      <td>판매용</td>\n",
       "      <td>왕게</td>\n",
       "      <td>활</td>\n",
       "      <td>null</td>\n",
       "      <td>null</td>\n",
       "      <td>null</td>\n",
       "      <td>null</td>\n",
       "    </tr>\n",
       "    <tr>\n",
       "      <th>42069</th>\n",
       "      <td>중국</td>\n",
       "      <td>중국</td>\n",
       "      <td>판매용</td>\n",
       "      <td>낙지</td>\n",
       "      <td>활</td>\n",
       "      <td>null</td>\n",
       "      <td>null</td>\n",
       "      <td>null</td>\n",
       "      <td>null</td>\n",
       "    </tr>\n",
       "    <tr>\n",
       "      <th>42070</th>\n",
       "      <td>러시아</td>\n",
       "      <td>러시아</td>\n",
       "      <td>판매용</td>\n",
       "      <td>대게</td>\n",
       "      <td>활</td>\n",
       "      <td>null</td>\n",
       "      <td>null</td>\n",
       "      <td>null</td>\n",
       "      <td>null</td>\n",
       "    </tr>\n",
       "    <tr>\n",
       "      <th>42071</th>\n",
       "      <td>중국</td>\n",
       "      <td>중국</td>\n",
       "      <td>판매용</td>\n",
       "      <td>바지락</td>\n",
       "      <td>활</td>\n",
       "      <td>null</td>\n",
       "      <td>null</td>\n",
       "      <td>null</td>\n",
       "      <td>null</td>\n",
       "    </tr>\n",
       "    <tr>\n",
       "      <th>42072</th>\n",
       "      <td>노르웨이</td>\n",
       "      <td>노르웨이</td>\n",
       "      <td>판매용</td>\n",
       "      <td>연어</td>\n",
       "      <td>냉장</td>\n",
       "      <td>null</td>\n",
       "      <td>null</td>\n",
       "      <td>null</td>\n",
       "      <td>null</td>\n",
       "    </tr>\n",
       "  </tbody>\n",
       "</table>\n",
       "<p>42073 rows × 9 columns</p>\n",
       "</div>"
      ],
      "text/plain": [
       "      CTRY_1 CTRY_2 P_PURPOSE     P_NAME storage  part process sashimi  \\\n",
       "0      아르헨티나  아르헨티나       판매용  아르헨티나붉은새우      냉동  null    null    null   \n",
       "1        바레인    바레인       판매용         꽃게      냉동  null    null    null   \n",
       "2        바레인    바레인       판매용         꽃게      냉동  null      절단    null   \n",
       "3         칠레     칠레       판매용         해삼      건조  null    null    null   \n",
       "4         중국     중국       판매용         서대      냉동  null    null    null   \n",
       "...      ...    ...       ...        ...     ...   ...     ...     ...   \n",
       "42068    러시아    러시아       판매용         왕게       활  null    null    null   \n",
       "42069     중국     중국       판매용         낙지       활  null    null    null   \n",
       "42070    러시아    러시아       판매용         대게       활  null    null    null   \n",
       "42071     중국     중국       판매용        바지락       활  null    null    null   \n",
       "42072   노르웨이   노르웨이       판매용         연어      냉장  null    null    null   \n",
       "\n",
       "      steaming_processing  \n",
       "0                    null  \n",
       "1                    null  \n",
       "2                    null  \n",
       "3                      자숙  \n",
       "4                    null  \n",
       "...                   ...  \n",
       "42068                null  \n",
       "42069                null  \n",
       "42070                null  \n",
       "42071                null  \n",
       "42072                null  \n",
       "\n",
       "[42073 rows x 9 columns]"
      ]
     },
     "execution_count": 34,
     "metadata": {},
     "output_type": "execute_result"
    }
   ],
   "source": [
    "train[['CTRY_1', 'CTRY_2', 'P_PURPOSE','P_NAME','storage', 'part',\n",
    "       'process', 'sashimi', 'steaming_processing']]"
   ]
  },
  {
   "cell_type": "code",
   "execution_count": 35,
   "metadata": {
    "execution": {
     "iopub.execute_input": "2021-09-15T04:09:08.030051Z",
     "iopub.status.busy": "2021-09-15T04:09:08.029798Z",
     "iopub.status.idle": "2021-09-15T04:09:08.045034Z",
     "shell.execute_reply": "2021-09-15T04:09:08.043932Z",
     "shell.execute_reply.started": "2021-09-15T04:09:08.030019Z"
    }
   },
   "outputs": [
    {
     "data": {
      "text/html": [
       "<div>\n",
       "<style scoped>\n",
       "    .dataframe tbody tr th:only-of-type {\n",
       "        vertical-align: middle;\n",
       "    }\n",
       "\n",
       "    .dataframe tbody tr th {\n",
       "        vertical-align: top;\n",
       "    }\n",
       "\n",
       "    .dataframe thead th {\n",
       "        text-align: right;\n",
       "    }\n",
       "</style>\n",
       "<table border=\"1\" class=\"dataframe\">\n",
       "  <thead>\n",
       "    <tr style=\"text-align: right;\">\n",
       "      <th></th>\n",
       "      <th>CTRY_1_le</th>\n",
       "      <th>CTRY_2_le</th>\n",
       "      <th>P_PURPOSE_le</th>\n",
       "      <th>P_NAME_le</th>\n",
       "      <th>storage_le</th>\n",
       "      <th>part_le</th>\n",
       "      <th>process_le</th>\n",
       "      <th>sashimi_le</th>\n",
       "      <th>steaming_processing_le</th>\n",
       "    </tr>\n",
       "  </thead>\n",
       "  <tbody>\n",
       "    <tr>\n",
       "      <th>0</th>\n",
       "      <td>48</td>\n",
       "      <td>49</td>\n",
       "      <td>3</td>\n",
       "      <td>172</td>\n",
       "      <td>1</td>\n",
       "      <td>0</td>\n",
       "      <td>0</td>\n",
       "      <td>0</td>\n",
       "      <td>0</td>\n",
       "    </tr>\n",
       "    <tr>\n",
       "      <th>1</th>\n",
       "      <td>30</td>\n",
       "      <td>29</td>\n",
       "      <td>3</td>\n",
       "      <td>48</td>\n",
       "      <td>1</td>\n",
       "      <td>0</td>\n",
       "      <td>0</td>\n",
       "      <td>0</td>\n",
       "      <td>0</td>\n",
       "    </tr>\n",
       "    <tr>\n",
       "      <th>2</th>\n",
       "      <td>30</td>\n",
       "      <td>29</td>\n",
       "      <td>3</td>\n",
       "      <td>48</td>\n",
       "      <td>1</td>\n",
       "      <td>0</td>\n",
       "      <td>2</td>\n",
       "      <td>0</td>\n",
       "      <td>0</td>\n",
       "    </tr>\n",
       "    <tr>\n",
       "      <th>3</th>\n",
       "      <td>66</td>\n",
       "      <td>66</td>\n",
       "      <td>3</td>\n",
       "      <td>265</td>\n",
       "      <td>0</td>\n",
       "      <td>0</td>\n",
       "      <td>0</td>\n",
       "      <td>0</td>\n",
       "      <td>1</td>\n",
       "    </tr>\n",
       "    <tr>\n",
       "      <th>4</th>\n",
       "      <td>65</td>\n",
       "      <td>64</td>\n",
       "      <td>3</td>\n",
       "      <td>158</td>\n",
       "      <td>1</td>\n",
       "      <td>0</td>\n",
       "      <td>0</td>\n",
       "      <td>0</td>\n",
       "      <td>0</td>\n",
       "    </tr>\n",
       "    <tr>\n",
       "      <th>...</th>\n",
       "      <td>...</td>\n",
       "      <td>...</td>\n",
       "      <td>...</td>\n",
       "      <td>...</td>\n",
       "      <td>...</td>\n",
       "      <td>...</td>\n",
       "      <td>...</td>\n",
       "      <td>...</td>\n",
       "      <td>...</td>\n",
       "    </tr>\n",
       "    <tr>\n",
       "      <th>42068</th>\n",
       "      <td>16</td>\n",
       "      <td>15</td>\n",
       "      <td>3</td>\n",
       "      <td>187</td>\n",
       "      <td>4</td>\n",
       "      <td>0</td>\n",
       "      <td>0</td>\n",
       "      <td>0</td>\n",
       "      <td>0</td>\n",
       "    </tr>\n",
       "    <tr>\n",
       "      <th>42069</th>\n",
       "      <td>65</td>\n",
       "      <td>64</td>\n",
       "      <td>3</td>\n",
       "      <td>49</td>\n",
       "      <td>4</td>\n",
       "      <td>0</td>\n",
       "      <td>0</td>\n",
       "      <td>0</td>\n",
       "      <td>0</td>\n",
       "    </tr>\n",
       "    <tr>\n",
       "      <th>42070</th>\n",
       "      <td>16</td>\n",
       "      <td>15</td>\n",
       "      <td>3</td>\n",
       "      <td>64</td>\n",
       "      <td>4</td>\n",
       "      <td>0</td>\n",
       "      <td>0</td>\n",
       "      <td>0</td>\n",
       "      <td>0</td>\n",
       "    </tr>\n",
       "    <tr>\n",
       "      <th>42071</th>\n",
       "      <td>65</td>\n",
       "      <td>64</td>\n",
       "      <td>3</td>\n",
       "      <td>120</td>\n",
       "      <td>4</td>\n",
       "      <td>0</td>\n",
       "      <td>0</td>\n",
       "      <td>0</td>\n",
       "      <td>0</td>\n",
       "    </tr>\n",
       "    <tr>\n",
       "      <th>42072</th>\n",
       "      <td>9</td>\n",
       "      <td>9</td>\n",
       "      <td>3</td>\n",
       "      <td>178</td>\n",
       "      <td>2</td>\n",
       "      <td>0</td>\n",
       "      <td>0</td>\n",
       "      <td>0</td>\n",
       "      <td>0</td>\n",
       "    </tr>\n",
       "  </tbody>\n",
       "</table>\n",
       "<p>42073 rows × 9 columns</p>\n",
       "</div>"
      ],
      "text/plain": [
       "       CTRY_1_le  CTRY_2_le  P_PURPOSE_le  P_NAME_le  storage_le  part_le  \\\n",
       "0             48         49             3        172           1        0   \n",
       "1             30         29             3         48           1        0   \n",
       "2             30         29             3         48           1        0   \n",
       "3             66         66             3        265           0        0   \n",
       "4             65         64             3        158           1        0   \n",
       "...          ...        ...           ...        ...         ...      ...   \n",
       "42068         16         15             3        187           4        0   \n",
       "42069         65         64             3         49           4        0   \n",
       "42070         16         15             3         64           4        0   \n",
       "42071         65         64             3        120           4        0   \n",
       "42072          9          9             3        178           2        0   \n",
       "\n",
       "       process_le  sashimi_le  steaming_processing_le  \n",
       "0               0           0                       0  \n",
       "1               0           0                       0  \n",
       "2               2           0                       0  \n",
       "3               0           0                       1  \n",
       "4               0           0                       0  \n",
       "...           ...         ...                     ...  \n",
       "42068           0           0                       0  \n",
       "42069           0           0                       0  \n",
       "42070           0           0                       0  \n",
       "42071           0           0                       0  \n",
       "42072           0           0                       0  \n",
       "\n",
       "[42073 rows x 9 columns]"
      ]
     },
     "execution_count": 35,
     "metadata": {},
     "output_type": "execute_result"
    }
   ],
   "source": [
    "train[['CTRY_1_le', 'CTRY_2_le', 'P_PURPOSE_le', 'P_NAME_le',\n",
    "       'storage_le', 'part_le', 'process_le', 'sashimi_le',\n",
    "       'steaming_processing_le']]"
   ]
  },
  {
   "cell_type": "code",
   "execution_count": 36,
   "metadata": {
    "execution": {
     "iopub.execute_input": "2021-09-15T04:09:08.047097Z",
     "iopub.status.busy": "2021-09-15T04:09:08.046585Z",
     "iopub.status.idle": "2021-09-15T04:09:08.353480Z",
     "shell.execute_reply": "2021-09-15T04:09:08.352747Z",
     "shell.execute_reply.started": "2021-09-15T04:09:08.047056Z"
    }
   },
   "outputs": [],
   "source": [
    "from xgboost import XGBClassifier\n",
    "from catboost import CatBoostClassifier"
   ]
  },
  {
   "cell_type": "code",
   "execution_count": 37,
   "metadata": {
    "execution": {
     "iopub.execute_input": "2021-09-15T04:09:08.355088Z",
     "iopub.status.busy": "2021-09-15T04:09:08.354830Z",
     "iopub.status.idle": "2021-09-15T04:09:08.359616Z",
     "shell.execute_reply": "2021-09-15T04:09:08.358880Z",
     "shell.execute_reply.started": "2021-09-15T04:09:08.355057Z"
    }
   },
   "outputs": [],
   "source": [
    "params = {\n",
    "    \"iterations\": 500,\n",
    "    \"learning_rate\": 0.1,\n",
    "    \"task_type\": \"GPU\",\n",
    "    \"devices\": \"0:1\",\n",
    "    'one_hot_max_size':256,\n",
    "    'scale_pos_weight':1,\n",
    "    'objective':'multi:softmax',\n",
    "    'random_state':2\n",
    "    \n",
    "}"
   ]
  },
  {
   "cell_type": "code",
   "execution_count": 38,
   "metadata": {
    "execution": {
     "iopub.execute_input": "2021-09-15T04:09:08.361585Z",
     "iopub.status.busy": "2021-09-15T04:09:08.361060Z",
     "iopub.status.idle": "2021-09-15T04:09:08.369951Z",
     "shell.execute_reply": "2021-09-15T04:09:08.369327Z",
     "shell.execute_reply.started": "2021-09-15T04:09:08.361551Z"
    }
   },
   "outputs": [],
   "source": [
    "model = XGBClassifier(**params)"
   ]
  },
  {
   "cell_type": "markdown",
   "metadata": {},
   "source": [
    "# Valid"
   ]
  },
  {
   "cell_type": "markdown",
   "metadata": {},
   "source": [
    "#### 제공된 자율평가데이터로부터 사용하기 쉽게 형태를 바꿨다."
   ]
  },
  {
   "cell_type": "code",
   "execution_count": 39,
   "metadata": {
    "execution": {
     "iopub.execute_input": "2021-09-15T04:09:08.371521Z",
     "iopub.status.busy": "2021-09-15T04:09:08.371261Z",
     "iopub.status.idle": "2021-09-15T04:09:08.389486Z",
     "shell.execute_reply": "2021-09-15T04:09:08.388875Z",
     "shell.execute_reply.started": "2021-09-15T04:09:08.371489Z"
    }
   },
   "outputs": [],
   "source": [
    "valid = pd.read_csv('../input/validdata/sample_valid_submission (1).csv',encoding='CP949')\n",
    "valid = valid.sort_values(by='REG_DATE')"
   ]
  },
  {
   "cell_type": "code",
   "execution_count": 40,
   "metadata": {
    "execution": {
     "iopub.execute_input": "2021-09-15T04:09:08.390652Z",
     "iopub.status.busy": "2021-09-15T04:09:08.390428Z",
     "iopub.status.idle": "2021-09-15T04:09:08.397000Z",
     "shell.execute_reply": "2021-09-15T04:09:08.396361Z",
     "shell.execute_reply.started": "2021-09-15T04:09:08.390622Z"
    }
   },
   "outputs": [],
   "source": [
    "from copy import deepcopy"
   ]
  },
  {
   "cell_type": "code",
   "execution_count": 41,
   "metadata": {
    "execution": {
     "iopub.execute_input": "2021-09-15T04:09:08.398542Z",
     "iopub.status.busy": "2021-09-15T04:09:08.398176Z",
     "iopub.status.idle": "2021-09-15T04:09:17.261285Z",
     "shell.execute_reply": "2021-09-15T04:09:17.260384Z",
     "shell.execute_reply.started": "2021-09-15T04:09:08.398510Z"
    }
   },
   "outputs": [
    {
     "name": "stdout",
     "output_type": "stream",
     "text": [
      "Collecting openpyxl\n",
      "  Downloading openpyxl-3.0.8-py2.py3-none-any.whl (244 kB)\n",
      "\u001b[K     |████████████████████████████████| 244 kB 893 kB/s eta 0:00:01\n",
      "\u001b[?25hCollecting et-xmlfile\n",
      "  Downloading et_xmlfile-1.1.0-py3-none-any.whl (4.7 kB)\n",
      "Installing collected packages: et-xmlfile, openpyxl\n",
      "Successfully installed et-xmlfile-1.1.0 openpyxl-3.0.8\n",
      "\u001b[33mWARNING: Running pip as the 'root' user can result in broken permissions and conflicting behaviour with the system package manager. It is recommended to use a virtual environment instead: https://pip.pypa.io/warnings/venv\u001b[0m\n"
     ]
    }
   ],
   "source": [
    "!pip install openpyxl"
   ]
  },
  {
   "cell_type": "code",
   "execution_count": 42,
   "metadata": {
    "execution": {
     "iopub.execute_input": "2021-09-15T04:09:17.263430Z",
     "iopub.status.busy": "2021-09-15T04:09:17.263118Z",
     "iopub.status.idle": "2021-09-15T04:09:19.334217Z",
     "shell.execute_reply": "2021-09-15T04:09:19.333502Z",
     "shell.execute_reply.started": "2021-09-15T04:09:17.263392Z"
    }
   },
   "outputs": [],
   "source": [
    "data = pd.read_excel('../input/bigcontest/2021 ___Biz_.xlsx')"
   ]
  },
  {
   "cell_type": "code",
   "execution_count": 43,
   "metadata": {
    "execution": {
     "iopub.execute_input": "2021-09-15T04:09:19.335861Z",
     "iopub.status.busy": "2021-09-15T04:09:19.335610Z",
     "iopub.status.idle": "2021-09-15T04:09:19.344421Z",
     "shell.execute_reply": "2021-09-15T04:09:19.343720Z",
     "shell.execute_reply.started": "2021-09-15T04:09:19.335829Z"
    }
   },
   "outputs": [],
   "source": [
    "make_valid = pd.DataFrame(columns=['REG_DATE', 'CATEGORY_2', 'P_NAME', 'P_PRICE'])"
   ]
  },
  {
   "cell_type": "code",
   "execution_count": 44,
   "metadata": {
    "execution": {
     "iopub.execute_input": "2021-09-15T04:09:19.346489Z",
     "iopub.status.busy": "2021-09-15T04:09:19.345543Z",
     "iopub.status.idle": "2021-09-15T04:09:19.358320Z",
     "shell.execute_reply": "2021-09-15T04:09:19.357615Z",
     "shell.execute_reply.started": "2021-09-15T04:09:19.346455Z"
    }
   },
   "outputs": [],
   "source": [
    "make_valid['REG_DATE'] = data['REG_DATE'].unique()\n",
    "make_valid['P_PRICE'] = 0\n",
    "squid = deepcopy(make_valid)\n",
    "salmon = deepcopy(make_valid)\n",
    "shrimp = deepcopy(make_valid)"
   ]
  },
  {
   "cell_type": "code",
   "execution_count": 45,
   "metadata": {
    "execution": {
     "iopub.execute_input": "2021-09-15T04:09:19.359971Z",
     "iopub.status.busy": "2021-09-15T04:09:19.359631Z",
     "iopub.status.idle": "2021-09-15T04:09:19.368596Z",
     "shell.execute_reply": "2021-09-15T04:09:19.367830Z",
     "shell.execute_reply.started": "2021-09-15T04:09:19.359937Z"
    }
   },
   "outputs": [],
   "source": [
    "squid['CATEGORY_2'] = '오징어'\n",
    "squid['P_NAME'] = '오징어'\n",
    "salmon['CATEGORY_2'] = '연어'\n",
    "salmon['P_NAME'] = '연어'\n",
    "shrimp['CATEGORY_2'] = '새우'\n",
    "shrimp['P_NAME'] = '흰다리새우'"
   ]
  },
  {
   "cell_type": "code",
   "execution_count": 46,
   "metadata": {
    "execution": {
     "iopub.execute_input": "2021-09-15T04:09:19.370031Z",
     "iopub.status.busy": "2021-09-15T04:09:19.369711Z",
     "iopub.status.idle": "2021-09-15T04:09:19.384841Z",
     "shell.execute_reply": "2021-09-15T04:09:19.384111Z",
     "shell.execute_reply.started": "2021-09-15T04:09:19.369997Z"
    }
   },
   "outputs": [],
   "source": [
    "valid = pd.concat([squid, salmon, shrimp]).reset_index(drop=True)"
   ]
  },
  {
   "cell_type": "code",
   "execution_count": 47,
   "metadata": {
    "execution": {
     "iopub.execute_input": "2021-09-15T04:09:19.386275Z",
     "iopub.status.busy": "2021-09-15T04:09:19.385978Z",
     "iopub.status.idle": "2021-09-15T04:09:19.397440Z",
     "shell.execute_reply": "2021-09-15T04:09:19.396647Z",
     "shell.execute_reply.started": "2021-09-15T04:09:19.386244Z"
    }
   },
   "outputs": [],
   "source": [
    "valid['YEAR'] = valid['REG_DATE'].dt.year\n",
    "valid['MONTH'] = valid['REG_DATE'].dt.month\n",
    "valid['DAY'] = valid['REG_DATE'].dt.day"
   ]
  },
  {
   "cell_type": "code",
   "execution_count": 48,
   "metadata": {
    "execution": {
     "iopub.execute_input": "2021-09-15T04:09:19.400488Z",
     "iopub.status.busy": "2021-09-15T04:09:19.400258Z",
     "iopub.status.idle": "2021-09-15T04:09:19.406730Z",
     "shell.execute_reply": "2021-09-15T04:09:19.406025Z",
     "shell.execute_reply.started": "2021-09-15T04:09:19.400455Z"
    }
   },
   "outputs": [],
   "source": [
    "valid['주차'] = None"
   ]
  },
  {
   "cell_type": "code",
   "execution_count": 49,
   "metadata": {
    "execution": {
     "iopub.execute_input": "2021-09-15T04:09:19.408278Z",
     "iopub.status.busy": "2021-09-15T04:09:19.407875Z",
     "iopub.status.idle": "2021-09-15T04:09:19.543233Z",
     "shell.execute_reply": "2021-09-15T04:09:19.542268Z",
     "shell.execute_reply.started": "2021-09-15T04:09:19.408246Z"
    }
   },
   "outputs": [
    {
     "name": "stderr",
     "output_type": "stream",
     "text": [
      "/opt/conda/lib/python3.7/site-packages/ipykernel_launcher.py:9: SettingWithCopyWarning: \n",
      "A value is trying to be set on a copy of a slice from a DataFrame\n",
      "\n",
      "See the caveats in the documentation: https://pandas.pydata.org/pandas-docs/stable/user_guide/indexing.html#returning-a-view-versus-a-copy\n",
      "  if __name__ == '__main__':\n",
      "/opt/conda/lib/python3.7/site-packages/ipykernel_launcher.py:13: SettingWithCopyWarning: \n",
      "A value is trying to be set on a copy of a slice from a DataFrame\n",
      "\n",
      "See the caveats in the documentation: https://pandas.pydata.org/pandas-docs/stable/user_guide/indexing.html#returning-a-view-versus-a-copy\n",
      "  del sys.path[0]\n"
     ]
    }
   ],
   "source": [
    "for j in range(1,13):\n",
    "    max_ = 32\n",
    "    w = 1\n",
    "    for i in valid.index:\n",
    "        if valid.REG_DATE[i].month == j:\n",
    "            x = valid.REG_DATE[i].day\n",
    "            if max_ >= x:\n",
    "                max_ = x\n",
    "                valid['주차'][i] = w\n",
    "            else:\n",
    "                max_ = x\n",
    "                w += 1\n",
    "                valid['주차'][i] = w"
   ]
  },
  {
   "cell_type": "markdown",
   "metadata": {},
   "source": [
    "# CTRY_1 & CTRY_2 & P_PURPOSE "
   ]
  },
  {
   "cell_type": "code",
   "execution_count": 50,
   "metadata": {
    "execution": {
     "iopub.execute_input": "2021-09-15T04:09:19.545061Z",
     "iopub.status.busy": "2021-09-15T04:09:19.544787Z",
     "iopub.status.idle": "2021-09-15T04:10:03.013869Z",
     "shell.execute_reply": "2021-09-15T04:10:03.013162Z",
     "shell.execute_reply.started": "2021-09-15T04:09:19.545023Z"
    }
   },
   "outputs": [],
   "source": [
    "tmp = pd.DataFrame()\n",
    "j = 0\n",
    "\n",
    "for i in range(len(valid)):\n",
    "    cond1 = train['P_NAME']==valid.loc[i, 'P_NAME']\n",
    "    cond2 = train['MONTH']==valid.loc[i, 'MONTH']\n",
    "    cond3 = train['주차']==valid.loc[i, '주차']\n",
    "    cond = False\n",
    "    for a, b, c in train.loc[cond1 & cond2 & cond3, ['CTRY_1', 'CTRY_2', 'P_PURPOSE']].value_counts().sort_values(ascending=False)[:3].index:\n",
    "        cond = True\n",
    "        tmp.loc[j, 'REG_DATE'] = valid.loc[i, 'REG_DATE']\n",
    "        tmp.loc[j, 'P_NAME'] = valid.loc[i, 'P_NAME']\n",
    "        tmp.loc[j, 'CTRY_1'] = a\n",
    "        tmp.loc[j, 'CTRY_2'] = b\n",
    "        tmp.loc[j, 'P_PURPOSE'] = c\n",
    "        j += 1\n",
    "    if not cond:\n",
    "        for a, b, c in train.loc[cond1, ['CTRY_1', 'CTRY_2','P_PURPOSE']].value_counts()[:3].index:\n",
    "            tmp.loc[j, 'REG_DATE'] = valid.loc[i, 'REG_DATE']\n",
    "            tmp.loc[j, 'P_NAME'] = valid.loc[i, 'P_NAME']\n",
    "            tmp.loc[j, 'CTRY_1'] = a\n",
    "            tmp.loc[j, 'CTRY_2'] = b\n",
    "            tmp.loc[j, 'P_PURPOSE'] = c\n",
    "            j += 1"
   ]
  },
  {
   "cell_type": "code",
   "execution_count": 51,
   "metadata": {
    "execution": {
     "iopub.execute_input": "2021-09-15T04:10:03.015504Z",
     "iopub.status.busy": "2021-09-15T04:10:03.015262Z",
     "iopub.status.idle": "2021-09-15T04:10:03.028115Z",
     "shell.execute_reply": "2021-09-15T04:10:03.026998Z",
     "shell.execute_reply.started": "2021-09-15T04:10:03.015472Z"
    }
   },
   "outputs": [],
   "source": [
    "valid = tmp.merge(valid, how='outer', on=['REG_DATE', 'P_NAME'])"
   ]
  },
  {
   "cell_type": "markdown",
   "metadata": {},
   "source": [
    "# STORAGE 예측"
   ]
  },
  {
   "cell_type": "code",
   "execution_count": 52,
   "metadata": {
    "execution": {
     "iopub.execute_input": "2021-09-15T04:10:03.029755Z",
     "iopub.status.busy": "2021-09-15T04:10:03.029499Z",
     "iopub.status.idle": "2021-09-15T04:10:03.039984Z",
     "shell.execute_reply": "2021-09-15T04:10:03.039096Z",
     "shell.execute_reply.started": "2021-09-15T04:10:03.029724Z"
    }
   },
   "outputs": [],
   "source": [
    "valid = valid.fillna('null')"
   ]
  },
  {
   "cell_type": "code",
   "execution_count": 53,
   "metadata": {
    "execution": {
     "iopub.execute_input": "2021-09-15T04:10:03.043167Z",
     "iopub.status.busy": "2021-09-15T04:10:03.042788Z",
     "iopub.status.idle": "2021-09-15T04:10:03.074560Z",
     "shell.execute_reply": "2021-09-15T04:10:03.073870Z",
     "shell.execute_reply.started": "2021-09-15T04:10:03.043108Z"
    }
   },
   "outputs": [],
   "source": [
    "train['주차'] = train['주차'].astype(int)\n",
    "train['YEAR'] = train['YEAR'].astype(int)\n",
    "train['MONTH'] = train['MONTH'].astype(int)"
   ]
  },
  {
   "cell_type": "code",
   "execution_count": 54,
   "metadata": {
    "execution": {
     "iopub.execute_input": "2021-09-15T04:10:03.077664Z",
     "iopub.status.busy": "2021-09-15T04:10:03.077456Z",
     "iopub.status.idle": "2021-09-15T04:10:03.084213Z",
     "shell.execute_reply": "2021-09-15T04:10:03.083487Z",
     "shell.execute_reply.started": "2021-09-15T04:10:03.077635Z"
    }
   },
   "outputs": [],
   "source": [
    "valid['주차'] = valid['주차'].astype(int)\n",
    "valid['YEAR'] = valid['YEAR'].astype(int)\n",
    "valid['MONTH'] = valid['MONTH'].astype(int)"
   ]
  },
  {
   "cell_type": "code",
   "execution_count": 55,
   "metadata": {
    "execution": {
     "iopub.execute_input": "2021-09-15T04:10:03.086077Z",
     "iopub.status.busy": "2021-09-15T04:10:03.085778Z",
     "iopub.status.idle": "2021-09-15T04:10:03.095782Z",
     "shell.execute_reply": "2021-09-15T04:10:03.095115Z",
     "shell.execute_reply.started": "2021-09-15T04:10:03.086043Z"
    }
   },
   "outputs": [],
   "source": [
    "str_FEATS = ['CTRY_1', 'CTRY_2', 'P_NAME', 'P_PURPOSE',]"
   ]
  },
  {
   "cell_type": "code",
   "execution_count": 56,
   "metadata": {
    "execution": {
     "iopub.execute_input": "2021-09-15T04:10:03.098844Z",
     "iopub.status.busy": "2021-09-15T04:10:03.098650Z",
     "iopub.status.idle": "2021-09-15T04:10:13.608117Z",
     "shell.execute_reply": "2021-09-15T04:10:13.607401Z",
     "shell.execute_reply.started": "2021-09-15T04:10:03.098823Z"
    }
   },
   "outputs": [],
   "source": [
    "for feat in str_FEATS:\n",
    "    valid[feat+'_le'] = valid[feat].apply(lambda x: train.loc[train[feat]==x, feat+'_le'].unique()[0])"
   ]
  },
  {
   "cell_type": "code",
   "execution_count": 57,
   "metadata": {
    "execution": {
     "iopub.execute_input": "2021-09-15T04:10:13.609454Z",
     "iopub.status.busy": "2021-09-15T04:10:13.609215Z",
     "iopub.status.idle": "2021-09-15T04:10:13.615504Z",
     "shell.execute_reply": "2021-09-15T04:10:13.613168Z",
     "shell.execute_reply.started": "2021-09-15T04:10:13.609423Z"
    }
   },
   "outputs": [],
   "source": [
    "FEATS = ['주차', 'YEAR', 'MONTH','CTRY_1_le', 'CTRY_2_le',\n",
    "       'P_NAME_le','P_PURPOSE_le']\n",
    "TARGET = ['storage_le']"
   ]
  },
  {
   "cell_type": "code",
   "execution_count": 58,
   "metadata": {
    "execution": {
     "iopub.execute_input": "2021-09-15T04:10:13.617177Z",
     "iopub.status.busy": "2021-09-15T04:10:13.616588Z",
     "iopub.status.idle": "2021-09-15T04:10:13.624180Z",
     "shell.execute_reply": "2021-09-15T04:10:13.623302Z",
     "shell.execute_reply.started": "2021-09-15T04:10:13.617142Z"
    }
   },
   "outputs": [],
   "source": [
    "model = XGBClassifier(**params)"
   ]
  },
  {
   "cell_type": "code",
   "execution_count": 59,
   "metadata": {
    "execution": {
     "iopub.execute_input": "2021-09-15T04:10:13.626080Z",
     "iopub.status.busy": "2021-09-15T04:10:13.625821Z",
     "iopub.status.idle": "2021-09-15T04:10:24.268923Z",
     "shell.execute_reply": "2021-09-15T04:10:24.268174Z",
     "shell.execute_reply.started": "2021-09-15T04:10:13.626046Z"
    }
   },
   "outputs": [
    {
     "name": "stderr",
     "output_type": "stream",
     "text": [
      "/opt/conda/lib/python3.7/site-packages/xgboost/sklearn.py:1146: UserWarning: The use of label encoder in XGBClassifier is deprecated and will be removed in a future release. To remove this warning, do the following: 1) Pass option use_label_encoder=False when constructing XGBClassifier object; and 2) Encode your labels (y) as integers starting with 0, i.e. 0, 1, 2, ..., [num_class - 1].\n",
      "  warnings.warn(label_encoder_deprecation_msg, UserWarning)\n",
      "/opt/conda/lib/python3.7/site-packages/sklearn/utils/validation.py:72: DataConversionWarning: A column-vector y was passed when a 1d array was expected. Please change the shape of y to (n_samples, ), for example using ravel().\n",
      "  return f(**kwargs)\n"
     ]
    },
    {
     "name": "stdout",
     "output_type": "stream",
     "text": [
      "[04:10:16] WARNING: ../src/learner.cc:573: \n",
      "Parameters: { \"devices\", \"iterations\", \"one_hot_max_size\", \"scale_pos_weight\", \"task_type\" } might not be used.\n",
      "\n",
      "  This may not be accurate due to some parameters are only used in language bindings but\n",
      "  passed down to XGBoost core.  Or some parameters are not used but slip through this\n",
      "  verification. Please open an issue if you find above cases.\n",
      "\n",
      "\n",
      "[04:10:16] WARNING: ../src/learner.cc:1095: Starting in XGBoost 1.3.0, the default evaluation metric used with the objective 'multi:softprob' was changed from 'merror' to 'mlogloss'. Explicitly set eval_metric if you'd like to restore the old behavior.\n"
     ]
    },
    {
     "data": {
      "text/plain": [
       "XGBClassifier(base_score=0.5, booster='gbtree', colsample_bylevel=1,\n",
       "              colsample_bynode=1, colsample_bytree=1, devices='0:1', gamma=0,\n",
       "              gpu_id=-1, importance_type='gain', interaction_constraints='',\n",
       "              iterations=500, learning_rate=0.1, max_delta_step=0, max_depth=6,\n",
       "              min_child_weight=1, missing=nan, monotone_constraints='()',\n",
       "              n_estimators=100, n_jobs=2, num_parallel_tree=1,\n",
       "              objective='multi:softprob', one_hot_max_size=256, random_state=2,\n",
       "              reg_alpha=0, reg_lambda=1, scale_pos_weight=1, subsample=1,\n",
       "              task_type='GPU', tree_method='exact', validate_parameters=1, ...)"
      ]
     },
     "execution_count": 59,
     "metadata": {},
     "output_type": "execute_result"
    }
   ],
   "source": [
    "model.fit(train[FEATS], train[TARGET])"
   ]
  },
  {
   "cell_type": "code",
   "execution_count": 60,
   "metadata": {
    "execution": {
     "iopub.execute_input": "2021-09-15T04:10:24.270410Z",
     "iopub.status.busy": "2021-09-15T04:10:24.270146Z",
     "iopub.status.idle": "2021-09-15T04:10:24.285358Z",
     "shell.execute_reply": "2021-09-15T04:10:24.284813Z",
     "shell.execute_reply.started": "2021-09-15T04:10:24.270375Z"
    }
   },
   "outputs": [],
   "source": [
    "predition = model.predict(valid[FEATS])\n",
    "valid['storage_le'] = predition"
   ]
  },
  {
   "cell_type": "code",
   "execution_count": 61,
   "metadata": {
    "execution": {
     "iopub.execute_input": "2021-09-15T04:10:24.290006Z",
     "iopub.status.busy": "2021-09-15T04:10:24.288448Z",
     "iopub.status.idle": "2021-09-15T04:10:24.301448Z",
     "shell.execute_reply": "2021-09-15T04:10:24.300671Z",
     "shell.execute_reply.started": "2021-09-15T04:10:24.289976Z"
    }
   },
   "outputs": [
    {
     "data": {
      "text/plain": [
       "1    312\n",
       "2    156\n",
       "Name: storage_le, dtype: int64"
      ]
     },
     "execution_count": 61,
     "metadata": {},
     "output_type": "execute_result"
    }
   ],
   "source": [
    "valid.storage_le.value_counts()"
   ]
  },
  {
   "cell_type": "markdown",
   "metadata": {},
   "source": [
    "# PART 예측"
   ]
  },
  {
   "cell_type": "code",
   "execution_count": 62,
   "metadata": {
    "execution": {
     "iopub.execute_input": "2021-09-15T04:10:24.303287Z",
     "iopub.status.busy": "2021-09-15T04:10:24.302632Z",
     "iopub.status.idle": "2021-09-15T04:10:24.308889Z",
     "shell.execute_reply": "2021-09-15T04:10:24.307196Z",
     "shell.execute_reply.started": "2021-09-15T04:10:24.303250Z"
    }
   },
   "outputs": [],
   "source": [
    "FEATS = [ 'YEAR', 'MONTH', '주차', 'CTRY_1_le', 'CTRY_2_le', 'P_NAME_le','storage_le', 'P_PURPOSE_le']\n",
    "TARGET = ['part_le']"
   ]
  },
  {
   "cell_type": "code",
   "execution_count": 63,
   "metadata": {
    "execution": {
     "iopub.execute_input": "2021-09-15T04:10:24.310438Z",
     "iopub.status.busy": "2021-09-15T04:10:24.310097Z",
     "iopub.status.idle": "2021-09-15T04:10:24.318582Z",
     "shell.execute_reply": "2021-09-15T04:10:24.317803Z",
     "shell.execute_reply.started": "2021-09-15T04:10:24.310402Z"
    }
   },
   "outputs": [],
   "source": [
    "model = XGBClassifier(**params)"
   ]
  },
  {
   "cell_type": "code",
   "execution_count": 64,
   "metadata": {
    "execution": {
     "iopub.execute_input": "2021-09-15T04:10:24.320323Z",
     "iopub.status.busy": "2021-09-15T04:10:24.319878Z",
     "iopub.status.idle": "2021-09-15T04:10:50.120181Z",
     "shell.execute_reply": "2021-09-15T04:10:50.119428Z",
     "shell.execute_reply.started": "2021-09-15T04:10:24.320290Z"
    }
   },
   "outputs": [
    {
     "name": "stdout",
     "output_type": "stream",
     "text": [
      "[04:10:24] WARNING: ../src/learner.cc:573: \n",
      "Parameters: { \"devices\", \"iterations\", \"one_hot_max_size\", \"scale_pos_weight\", \"task_type\" } might not be used.\n",
      "\n",
      "  This may not be accurate due to some parameters are only used in language bindings but\n",
      "  passed down to XGBoost core.  Or some parameters are not used but slip through this\n",
      "  verification. Please open an issue if you find above cases.\n",
      "\n",
      "\n",
      "[04:10:24] WARNING: ../src/learner.cc:1095: Starting in XGBoost 1.3.0, the default evaluation metric used with the objective 'multi:softprob' was changed from 'merror' to 'mlogloss'. Explicitly set eval_metric if you'd like to restore the old behavior.\n"
     ]
    },
    {
     "data": {
      "text/plain": [
       "XGBClassifier(base_score=0.5, booster='gbtree', colsample_bylevel=1,\n",
       "              colsample_bynode=1, colsample_bytree=1, devices='0:1', gamma=0,\n",
       "              gpu_id=-1, importance_type='gain', interaction_constraints='',\n",
       "              iterations=500, learning_rate=0.1, max_delta_step=0, max_depth=6,\n",
       "              min_child_weight=1, missing=nan, monotone_constraints='()',\n",
       "              n_estimators=100, n_jobs=2, num_parallel_tree=1,\n",
       "              objective='multi:softprob', one_hot_max_size=256, random_state=2,\n",
       "              reg_alpha=0, reg_lambda=1, scale_pos_weight=1, subsample=1,\n",
       "              task_type='GPU', tree_method='exact', validate_parameters=1, ...)"
      ]
     },
     "execution_count": 64,
     "metadata": {},
     "output_type": "execute_result"
    }
   ],
   "source": [
    "model.fit(train[FEATS], train[TARGET])"
   ]
  },
  {
   "cell_type": "code",
   "execution_count": 65,
   "metadata": {
    "execution": {
     "iopub.execute_input": "2021-09-15T04:10:50.121864Z",
     "iopub.status.busy": "2021-09-15T04:10:50.121408Z",
     "iopub.status.idle": "2021-09-15T04:10:50.139392Z",
     "shell.execute_reply": "2021-09-15T04:10:50.138710Z",
     "shell.execute_reply.started": "2021-09-15T04:10:50.121825Z"
    }
   },
   "outputs": [],
   "source": [
    "predition = model.predict(valid[FEATS])\n",
    "valid['part_le'] = predition"
   ]
  },
  {
   "cell_type": "markdown",
   "metadata": {},
   "source": [
    "# PROCESS 예측"
   ]
  },
  {
   "cell_type": "code",
   "execution_count": 66,
   "metadata": {
    "execution": {
     "iopub.execute_input": "2021-09-15T04:10:50.141287Z",
     "iopub.status.busy": "2021-09-15T04:10:50.140814Z",
     "iopub.status.idle": "2021-09-15T04:10:50.145415Z",
     "shell.execute_reply": "2021-09-15T04:10:50.144646Z",
     "shell.execute_reply.started": "2021-09-15T04:10:50.141252Z"
    }
   },
   "outputs": [],
   "source": [
    "FEATS = [ 'YEAR', 'MONTH', '주차', 'CTRY_1_le', 'CTRY_2_le', 'P_NAME_le','storage_le','part_le', 'P_PURPOSE_le']\n",
    "TARGET = ['process_le']"
   ]
  },
  {
   "cell_type": "code",
   "execution_count": 67,
   "metadata": {
    "execution": {
     "iopub.execute_input": "2021-09-15T04:10:50.147338Z",
     "iopub.status.busy": "2021-09-15T04:10:50.146863Z",
     "iopub.status.idle": "2021-09-15T04:10:50.155870Z",
     "shell.execute_reply": "2021-09-15T04:10:50.155075Z",
     "shell.execute_reply.started": "2021-09-15T04:10:50.147305Z"
    }
   },
   "outputs": [],
   "source": [
    "model = XGBClassifier(**params)"
   ]
  },
  {
   "cell_type": "code",
   "execution_count": 68,
   "metadata": {
    "execution": {
     "iopub.execute_input": "2021-09-15T04:10:50.157931Z",
     "iopub.status.busy": "2021-09-15T04:10:50.157546Z",
     "iopub.status.idle": "2021-09-15T04:10:59.836177Z",
     "shell.execute_reply": "2021-09-15T04:10:59.835486Z",
     "shell.execute_reply.started": "2021-09-15T04:10:50.157849Z"
    }
   },
   "outputs": [
    {
     "name": "stdout",
     "output_type": "stream",
     "text": [
      "[04:10:50] WARNING: ../src/learner.cc:573: \n",
      "Parameters: { \"devices\", \"iterations\", \"one_hot_max_size\", \"scale_pos_weight\", \"task_type\" } might not be used.\n",
      "\n",
      "  This may not be accurate due to some parameters are only used in language bindings but\n",
      "  passed down to XGBoost core.  Or some parameters are not used but slip through this\n",
      "  verification. Please open an issue if you find above cases.\n",
      "\n",
      "\n",
      "[04:10:50] WARNING: ../src/learner.cc:1095: Starting in XGBoost 1.3.0, the default evaluation metric used with the objective 'multi:softprob' was changed from 'merror' to 'mlogloss'. Explicitly set eval_metric if you'd like to restore the old behavior.\n"
     ]
    },
    {
     "data": {
      "text/plain": [
       "XGBClassifier(base_score=0.5, booster='gbtree', colsample_bylevel=1,\n",
       "              colsample_bynode=1, colsample_bytree=1, devices='0:1', gamma=0,\n",
       "              gpu_id=-1, importance_type='gain', interaction_constraints='',\n",
       "              iterations=500, learning_rate=0.1, max_delta_step=0, max_depth=6,\n",
       "              min_child_weight=1, missing=nan, monotone_constraints='()',\n",
       "              n_estimators=100, n_jobs=2, num_parallel_tree=1,\n",
       "              objective='multi:softprob', one_hot_max_size=256, random_state=2,\n",
       "              reg_alpha=0, reg_lambda=1, scale_pos_weight=1, subsample=1,\n",
       "              task_type='GPU', tree_method='exact', validate_parameters=1, ...)"
      ]
     },
     "execution_count": 68,
     "metadata": {},
     "output_type": "execute_result"
    }
   ],
   "source": [
    "model.fit(train[FEATS], train[TARGET])"
   ]
  },
  {
   "cell_type": "code",
   "execution_count": 69,
   "metadata": {
    "execution": {
     "iopub.execute_input": "2021-09-15T04:10:59.837620Z",
     "iopub.status.busy": "2021-09-15T04:10:59.837377Z",
     "iopub.status.idle": "2021-09-15T04:10:59.849909Z",
     "shell.execute_reply": "2021-09-15T04:10:59.849319Z",
     "shell.execute_reply.started": "2021-09-15T04:10:59.837589Z"
    }
   },
   "outputs": [],
   "source": [
    "predition = model.predict(valid[FEATS])\n",
    "valid['process_le'] = predition"
   ]
  },
  {
   "cell_type": "markdown",
   "metadata": {},
   "source": [
    "# SASHIMI 예측"
   ]
  },
  {
   "cell_type": "code",
   "execution_count": 70,
   "metadata": {
    "execution": {
     "iopub.execute_input": "2021-09-15T04:10:59.851880Z",
     "iopub.status.busy": "2021-09-15T04:10:59.851115Z",
     "iopub.status.idle": "2021-09-15T04:10:59.856560Z",
     "shell.execute_reply": "2021-09-15T04:10:59.855624Z",
     "shell.execute_reply.started": "2021-09-15T04:10:59.851842Z"
    }
   },
   "outputs": [],
   "source": [
    "FEATS = [ 'YEAR', 'MONTH', '주차', 'CTRY_1_le', 'CTRY_2_le', 'P_NAME_le','storage_le','part_le', 'P_PURPOSE_le']\n",
    "TARGET = ['sashimi_le']"
   ]
  },
  {
   "cell_type": "code",
   "execution_count": 71,
   "metadata": {
    "execution": {
     "iopub.execute_input": "2021-09-15T04:10:59.858254Z",
     "iopub.status.busy": "2021-09-15T04:10:59.857601Z",
     "iopub.status.idle": "2021-09-15T04:10:59.866464Z",
     "shell.execute_reply": "2021-09-15T04:10:59.865854Z",
     "shell.execute_reply.started": "2021-09-15T04:10:59.858225Z"
    }
   },
   "outputs": [],
   "source": [
    "model = XGBClassifier(**params)"
   ]
  },
  {
   "cell_type": "code",
   "execution_count": 72,
   "metadata": {
    "execution": {
     "iopub.execute_input": "2021-09-15T04:10:59.868193Z",
     "iopub.status.busy": "2021-09-15T04:10:59.867740Z",
     "iopub.status.idle": "2021-09-15T04:11:05.980308Z",
     "shell.execute_reply": "2021-09-15T04:11:05.979475Z",
     "shell.execute_reply.started": "2021-09-15T04:10:59.868162Z"
    }
   },
   "outputs": [
    {
     "name": "stdout",
     "output_type": "stream",
     "text": [
      "[04:10:59] WARNING: ../src/learner.cc:573: \n",
      "Parameters: { \"devices\", \"iterations\", \"one_hot_max_size\", \"scale_pos_weight\", \"task_type\" } might not be used.\n",
      "\n",
      "  This may not be accurate due to some parameters are only used in language bindings but\n",
      "  passed down to XGBoost core.  Or some parameters are not used but slip through this\n",
      "  verification. Please open an issue if you find above cases.\n",
      "\n",
      "\n",
      "[04:10:59] WARNING: ../src/learner.cc:1095: Starting in XGBoost 1.3.0, the default evaluation metric used with the objective 'multi:softprob' was changed from 'merror' to 'mlogloss'. Explicitly set eval_metric if you'd like to restore the old behavior.\n"
     ]
    },
    {
     "data": {
      "text/plain": [
       "XGBClassifier(base_score=0.5, booster='gbtree', colsample_bylevel=1,\n",
       "              colsample_bynode=1, colsample_bytree=1, devices='0:1', gamma=0,\n",
       "              gpu_id=-1, importance_type='gain', interaction_constraints='',\n",
       "              iterations=500, learning_rate=0.1, max_delta_step=0, max_depth=6,\n",
       "              min_child_weight=1, missing=nan, monotone_constraints='()',\n",
       "              n_estimators=100, n_jobs=2, num_parallel_tree=1,\n",
       "              objective='multi:softprob', one_hot_max_size=256, random_state=2,\n",
       "              reg_alpha=0, reg_lambda=1, scale_pos_weight=1, subsample=1,\n",
       "              task_type='GPU', tree_method='exact', validate_parameters=1, ...)"
      ]
     },
     "execution_count": 72,
     "metadata": {},
     "output_type": "execute_result"
    }
   ],
   "source": [
    "model.fit(train[FEATS], train[TARGET])"
   ]
  },
  {
   "cell_type": "code",
   "execution_count": 73,
   "metadata": {
    "execution": {
     "iopub.execute_input": "2021-09-15T04:11:05.981841Z",
     "iopub.status.busy": "2021-09-15T04:11:05.981587Z",
     "iopub.status.idle": "2021-09-15T04:11:06.024409Z",
     "shell.execute_reply": "2021-09-15T04:11:06.023668Z",
     "shell.execute_reply.started": "2021-09-15T04:11:05.981809Z"
    }
   },
   "outputs": [],
   "source": [
    "predition = model.predict(valid[FEATS])\n",
    "valid['sashimi_le'] = predition"
   ]
  },
  {
   "cell_type": "markdown",
   "metadata": {},
   "source": [
    "# STEAMING_PROCESSING 예측"
   ]
  },
  {
   "cell_type": "code",
   "execution_count": 135,
   "metadata": {
    "execution": {
     "iopub.execute_input": "2021-09-15T04:13:46.213379Z",
     "iopub.status.busy": "2021-09-15T04:13:46.212419Z",
     "iopub.status.idle": "2021-09-15T04:13:46.218172Z",
     "shell.execute_reply": "2021-09-15T04:13:46.217447Z",
     "shell.execute_reply.started": "2021-09-15T04:13:46.213330Z"
    }
   },
   "outputs": [],
   "source": [
    "params = {\n",
    "    \"iterations\": 500,\n",
    "    \"learning_rate\": 0.1,\n",
    "    \"task_type\": \"GPU\",\n",
    "    \"devices\": \"0:1\",\n",
    "    'one_hot_max_size':256,\n",
    "    'random_state':2\n",
    "}"
   ]
  },
  {
   "cell_type": "code",
   "execution_count": 136,
   "metadata": {
    "execution": {
     "iopub.execute_input": "2021-09-15T04:13:47.048688Z",
     "iopub.status.busy": "2021-09-15T04:13:47.048078Z",
     "iopub.status.idle": "2021-09-15T04:13:47.052834Z",
     "shell.execute_reply": "2021-09-15T04:13:47.051830Z",
     "shell.execute_reply.started": "2021-09-15T04:13:47.048654Z"
    }
   },
   "outputs": [],
   "source": [
    "model_C = CatBoostClassifier(**params)"
   ]
  },
  {
   "cell_type": "code",
   "execution_count": 137,
   "metadata": {
    "execution": {
     "iopub.execute_input": "2021-09-15T04:13:47.658152Z",
     "iopub.status.busy": "2021-09-15T04:13:47.657604Z",
     "iopub.status.idle": "2021-09-15T04:13:47.663011Z",
     "shell.execute_reply": "2021-09-15T04:13:47.661998Z",
     "shell.execute_reply.started": "2021-09-15T04:13:47.658099Z"
    }
   },
   "outputs": [],
   "source": [
    "FEATS = [ 'YEAR', 'MONTH', '주차', 'CTRY_1_le', 'CTRY_2_le', 'P_NAME_le','storage_le','part_le','sashimi_le', 'P_PURPOSE_le']\n",
    "TARGET = ['steaming_processing_le']"
   ]
  },
  {
   "cell_type": "code",
   "execution_count": 138,
   "metadata": {
    "execution": {
     "iopub.execute_input": "2021-09-15T04:13:48.101638Z",
     "iopub.status.busy": "2021-09-15T04:13:48.100988Z",
     "iopub.status.idle": "2021-09-15T04:15:24.864422Z",
     "shell.execute_reply": "2021-09-15T04:15:24.863808Z",
     "shell.execute_reply.started": "2021-09-15T04:13:48.101598Z"
    }
   },
   "outputs": [
    {
     "name": "stdout",
     "output_type": "stream",
     "text": [
      "0:\tlearn: 0.4939278\ttotal: 70.9ms\tremaining: 35.4s\n",
      "1:\tlearn: 0.3746447\ttotal: 136ms\tremaining: 33.9s\n",
      "2:\tlearn: 0.3075324\ttotal: 206ms\tremaining: 34.1s\n",
      "3:\tlearn: 0.2631550\ttotal: 269ms\tremaining: 33.3s\n",
      "4:\tlearn: 0.2321036\ttotal: 334ms\tremaining: 33s\n",
      "5:\tlearn: 0.2096915\ttotal: 397ms\tremaining: 32.6s\n",
      "6:\tlearn: 0.1935464\ttotal: 460ms\tremaining: 32.4s\n",
      "7:\tlearn: 0.1820895\ttotal: 522ms\tremaining: 32.1s\n",
      "8:\tlearn: 0.1738029\ttotal: 587ms\tremaining: 32s\n",
      "9:\tlearn: 0.1671025\ttotal: 649ms\tremaining: 31.8s\n",
      "10:\tlearn: 0.1609670\ttotal: 712ms\tremaining: 31.6s\n",
      "11:\tlearn: 0.1559244\ttotal: 775ms\tremaining: 31.5s\n",
      "12:\tlearn: 0.1515219\ttotal: 840ms\tremaining: 31.5s\n",
      "13:\tlearn: 0.1480274\ttotal: 903ms\tremaining: 31.3s\n",
      "14:\tlearn: 0.1438441\ttotal: 965ms\tremaining: 31.2s\n",
      "15:\tlearn: 0.1385941\ttotal: 1.03s\tremaining: 31.1s\n",
      "16:\tlearn: 0.1358837\ttotal: 1.09s\tremaining: 31.1s\n",
      "17:\tlearn: 0.1330081\ttotal: 1.16s\tremaining: 31s\n",
      "18:\tlearn: 0.1291795\ttotal: 1.22s\tremaining: 30.9s\n",
      "19:\tlearn: 0.1273272\ttotal: 1.28s\tremaining: 30.8s\n",
      "20:\tlearn: 0.1241885\ttotal: 1.35s\tremaining: 30.7s\n",
      "21:\tlearn: 0.1202711\ttotal: 1.41s\tremaining: 30.7s\n",
      "22:\tlearn: 0.1177510\ttotal: 1.47s\tremaining: 30.5s\n",
      "23:\tlearn: 0.1165312\ttotal: 1.53s\tremaining: 30.5s\n",
      "24:\tlearn: 0.1140215\ttotal: 1.6s\tremaining: 30.4s\n",
      "25:\tlearn: 0.1120874\ttotal: 1.66s\tremaining: 30.3s\n",
      "26:\tlearn: 0.1106243\ttotal: 1.73s\tremaining: 30.2s\n",
      "27:\tlearn: 0.1090447\ttotal: 1.79s\tremaining: 30.2s\n",
      "28:\tlearn: 0.1064645\ttotal: 1.85s\tremaining: 30.1s\n",
      "29:\tlearn: 0.1046581\ttotal: 1.92s\tremaining: 30s\n",
      "30:\tlearn: 0.1030632\ttotal: 1.98s\tremaining: 29.9s\n",
      "31:\tlearn: 0.1015555\ttotal: 2.04s\tremaining: 29.8s\n",
      "32:\tlearn: 0.0997251\ttotal: 2.1s\tremaining: 29.8s\n",
      "33:\tlearn: 0.0980434\ttotal: 2.17s\tremaining: 29.7s\n",
      "34:\tlearn: 0.0971458\ttotal: 2.23s\tremaining: 29.6s\n",
      "35:\tlearn: 0.0957387\ttotal: 2.29s\tremaining: 29.6s\n",
      "36:\tlearn: 0.0949734\ttotal: 2.36s\tremaining: 29.5s\n",
      "37:\tlearn: 0.0943653\ttotal: 2.42s\tremaining: 29.4s\n",
      "38:\tlearn: 0.0935943\ttotal: 2.48s\tremaining: 29.3s\n",
      "39:\tlearn: 0.0923181\ttotal: 2.54s\tremaining: 29.3s\n",
      "40:\tlearn: 0.0912298\ttotal: 2.61s\tremaining: 29.2s\n",
      "41:\tlearn: 0.0905301\ttotal: 2.67s\tremaining: 29.1s\n",
      "42:\tlearn: 0.0893784\ttotal: 2.73s\tremaining: 29.1s\n",
      "43:\tlearn: 0.0885784\ttotal: 2.8s\tremaining: 29s\n",
      "44:\tlearn: 0.0875894\ttotal: 2.86s\tremaining: 28.9s\n",
      "45:\tlearn: 0.0862326\ttotal: 2.92s\tremaining: 28.9s\n",
      "46:\tlearn: 0.0856399\ttotal: 2.99s\tremaining: 28.8s\n",
      "47:\tlearn: 0.0846745\ttotal: 3.05s\tremaining: 28.7s\n",
      "48:\tlearn: 0.0841818\ttotal: 3.12s\tremaining: 28.7s\n",
      "49:\tlearn: 0.0835232\ttotal: 3.18s\tremaining: 28.6s\n",
      "50:\tlearn: 0.0831233\ttotal: 3.24s\tremaining: 28.5s\n",
      "51:\tlearn: 0.0824329\ttotal: 3.3s\tremaining: 28.4s\n",
      "52:\tlearn: 0.0817049\ttotal: 3.37s\tremaining: 28.4s\n",
      "53:\tlearn: 0.0810653\ttotal: 3.43s\tremaining: 28.3s\n",
      "54:\tlearn: 0.0804468\ttotal: 3.49s\tremaining: 28.3s\n",
      "55:\tlearn: 0.0798764\ttotal: 3.56s\tremaining: 28.2s\n",
      "56:\tlearn: 0.0793520\ttotal: 3.62s\tremaining: 28.1s\n",
      "57:\tlearn: 0.0790889\ttotal: 3.68s\tremaining: 28.1s\n",
      "58:\tlearn: 0.0788958\ttotal: 3.75s\tremaining: 28s\n",
      "59:\tlearn: 0.0784489\ttotal: 3.81s\tremaining: 27.9s\n",
      "60:\tlearn: 0.0781425\ttotal: 3.87s\tremaining: 27.9s\n",
      "61:\tlearn: 0.0775077\ttotal: 3.94s\tremaining: 27.8s\n",
      "62:\tlearn: 0.0771230\ttotal: 4s\tremaining: 27.7s\n",
      "63:\tlearn: 0.0761104\ttotal: 4.06s\tremaining: 27.7s\n",
      "64:\tlearn: 0.0755016\ttotal: 4.12s\tremaining: 27.6s\n",
      "65:\tlearn: 0.0751600\ttotal: 4.19s\tremaining: 27.6s\n",
      "66:\tlearn: 0.0747182\ttotal: 4.25s\tremaining: 27.5s\n",
      "67:\tlearn: 0.0741911\ttotal: 4.31s\tremaining: 27.4s\n",
      "68:\tlearn: 0.0731147\ttotal: 4.38s\tremaining: 27.4s\n",
      "69:\tlearn: 0.0729832\ttotal: 4.44s\tremaining: 27.3s\n",
      "70:\tlearn: 0.0728470\ttotal: 4.52s\tremaining: 27.3s\n",
      "71:\tlearn: 0.0725477\ttotal: 4.63s\tremaining: 27.5s\n",
      "72:\tlearn: 0.0721960\ttotal: 4.73s\tremaining: 27.6s\n",
      "73:\tlearn: 0.0716983\ttotal: 4.83s\tremaining: 27.8s\n",
      "74:\tlearn: 0.0714270\ttotal: 4.89s\tremaining: 27.7s\n",
      "75:\tlearn: 0.0709429\ttotal: 4.96s\tremaining: 27.7s\n",
      "76:\tlearn: 0.0707722\ttotal: 5.02s\tremaining: 27.6s\n",
      "77:\tlearn: 0.0697503\ttotal: 5.09s\tremaining: 27.5s\n",
      "78:\tlearn: 0.0695545\ttotal: 5.16s\tremaining: 27.5s\n",
      "79:\tlearn: 0.0691792\ttotal: 5.23s\tremaining: 27.5s\n",
      "80:\tlearn: 0.0688898\ttotal: 5.29s\tremaining: 27.4s\n",
      "81:\tlearn: 0.0685587\ttotal: 5.36s\tremaining: 27.3s\n",
      "82:\tlearn: 0.0683873\ttotal: 5.42s\tremaining: 27.2s\n",
      "83:\tlearn: 0.0683452\ttotal: 5.48s\tremaining: 27.2s\n",
      "84:\tlearn: 0.0682627\ttotal: 5.55s\tremaining: 27.1s\n",
      "85:\tlearn: 0.0681489\ttotal: 5.61s\tremaining: 27s\n",
      "86:\tlearn: 0.0677378\ttotal: 5.67s\tremaining: 26.9s\n",
      "87:\tlearn: 0.0674426\ttotal: 5.74s\tremaining: 26.9s\n",
      "88:\tlearn: 0.0671961\ttotal: 5.8s\tremaining: 26.8s\n",
      "89:\tlearn: 0.0667966\ttotal: 5.87s\tremaining: 26.7s\n",
      "90:\tlearn: 0.0666047\ttotal: 5.93s\tremaining: 26.6s\n",
      "91:\tlearn: 0.0663385\ttotal: 5.99s\tremaining: 26.6s\n",
      "92:\tlearn: 0.0660433\ttotal: 6.05s\tremaining: 26.5s\n",
      "93:\tlearn: 0.0650360\ttotal: 6.12s\tremaining: 26.4s\n",
      "94:\tlearn: 0.0648625\ttotal: 6.18s\tremaining: 26.3s\n",
      "95:\tlearn: 0.0644461\ttotal: 6.24s\tremaining: 26.3s\n",
      "96:\tlearn: 0.0639508\ttotal: 6.3s\tremaining: 26.2s\n",
      "97:\tlearn: 0.0635618\ttotal: 6.37s\tremaining: 26.1s\n",
      "98:\tlearn: 0.0633780\ttotal: 6.43s\tremaining: 26.1s\n",
      "99:\tlearn: 0.0633205\ttotal: 6.5s\tremaining: 26s\n",
      "100:\tlearn: 0.0632233\ttotal: 6.56s\tremaining: 25.9s\n",
      "101:\tlearn: 0.0630728\ttotal: 6.62s\tremaining: 25.8s\n",
      "102:\tlearn: 0.0630235\ttotal: 6.68s\tremaining: 25.8s\n",
      "103:\tlearn: 0.0629698\ttotal: 6.75s\tremaining: 25.7s\n",
      "104:\tlearn: 0.0627838\ttotal: 6.81s\tremaining: 25.6s\n",
      "105:\tlearn: 0.0626294\ttotal: 6.88s\tremaining: 25.6s\n",
      "106:\tlearn: 0.0625514\ttotal: 6.94s\tremaining: 25.5s\n",
      "107:\tlearn: 0.0618832\ttotal: 7s\tremaining: 25.4s\n",
      "108:\tlearn: 0.0616952\ttotal: 7.06s\tremaining: 25.3s\n",
      "109:\tlearn: 0.0615264\ttotal: 7.13s\tremaining: 25.3s\n",
      "110:\tlearn: 0.0612347\ttotal: 7.19s\tremaining: 25.2s\n",
      "111:\tlearn: 0.0609594\ttotal: 7.25s\tremaining: 25.1s\n",
      "112:\tlearn: 0.0608168\ttotal: 7.32s\tremaining: 25.1s\n",
      "113:\tlearn: 0.0603637\ttotal: 7.38s\tremaining: 25s\n",
      "114:\tlearn: 0.0603396\ttotal: 7.44s\tremaining: 24.9s\n",
      "115:\tlearn: 0.0601923\ttotal: 7.51s\tremaining: 24.8s\n",
      "116:\tlearn: 0.0600675\ttotal: 7.57s\tremaining: 24.8s\n",
      "117:\tlearn: 0.0600306\ttotal: 7.63s\tremaining: 24.7s\n",
      "118:\tlearn: 0.0598675\ttotal: 7.69s\tremaining: 24.6s\n",
      "119:\tlearn: 0.0597507\ttotal: 7.76s\tremaining: 24.6s\n",
      "120:\tlearn: 0.0596985\ttotal: 7.82s\tremaining: 24.5s\n",
      "121:\tlearn: 0.0596964\ttotal: 7.88s\tremaining: 24.4s\n",
      "122:\tlearn: 0.0596172\ttotal: 7.94s\tremaining: 24.3s\n",
      "123:\tlearn: 0.0595913\ttotal: 8s\tremaining: 24.3s\n",
      "124:\tlearn: 0.0595263\ttotal: 8.06s\tremaining: 24.2s\n",
      "125:\tlearn: 0.0594256\ttotal: 8.13s\tremaining: 24.1s\n",
      "126:\tlearn: 0.0591815\ttotal: 8.19s\tremaining: 24.1s\n",
      "127:\tlearn: 0.0589293\ttotal: 8.25s\tremaining: 24s\n",
      "128:\tlearn: 0.0586917\ttotal: 8.32s\tremaining: 23.9s\n",
      "129:\tlearn: 0.0586913\ttotal: 8.38s\tremaining: 23.8s\n",
      "130:\tlearn: 0.0584430\ttotal: 8.44s\tremaining: 23.8s\n",
      "131:\tlearn: 0.0583424\ttotal: 8.5s\tremaining: 23.7s\n",
      "132:\tlearn: 0.0581327\ttotal: 8.56s\tremaining: 23.6s\n",
      "133:\tlearn: 0.0579984\ttotal: 8.63s\tremaining: 23.6s\n",
      "134:\tlearn: 0.0578422\ttotal: 8.69s\tremaining: 23.5s\n",
      "135:\tlearn: 0.0578241\ttotal: 8.75s\tremaining: 23.4s\n",
      "136:\tlearn: 0.0577316\ttotal: 8.81s\tremaining: 23.4s\n",
      "137:\tlearn: 0.0577310\ttotal: 8.87s\tremaining: 23.3s\n",
      "138:\tlearn: 0.0576010\ttotal: 8.93s\tremaining: 23.2s\n",
      "139:\tlearn: 0.0575125\ttotal: 8.99s\tremaining: 23.1s\n",
      "140:\tlearn: 0.0573619\ttotal: 9.06s\tremaining: 23.1s\n",
      "141:\tlearn: 0.0573605\ttotal: 9.11s\tremaining: 23s\n",
      "142:\tlearn: 0.0572653\ttotal: 9.17s\tremaining: 22.9s\n",
      "143:\tlearn: 0.0571566\ttotal: 9.23s\tremaining: 22.8s\n",
      "144:\tlearn: 0.0570355\ttotal: 9.29s\tremaining: 22.8s\n",
      "145:\tlearn: 0.0569423\ttotal: 9.36s\tremaining: 22.7s\n",
      "146:\tlearn: 0.0566492\ttotal: 9.42s\tremaining: 22.6s\n",
      "147:\tlearn: 0.0566482\ttotal: 9.48s\tremaining: 22.6s\n",
      "148:\tlearn: 0.0565209\ttotal: 9.54s\tremaining: 22.5s\n",
      "149:\tlearn: 0.0564826\ttotal: 9.61s\tremaining: 22.4s\n",
      "150:\tlearn: 0.0564068\ttotal: 9.68s\tremaining: 22.4s\n",
      "151:\tlearn: 0.0563235\ttotal: 9.74s\tremaining: 22.3s\n",
      "152:\tlearn: 0.0562196\ttotal: 9.8s\tremaining: 22.2s\n",
      "153:\tlearn: 0.0560194\ttotal: 9.87s\tremaining: 22.2s\n",
      "154:\tlearn: 0.0560187\ttotal: 9.92s\tremaining: 22.1s\n",
      "155:\tlearn: 0.0559696\ttotal: 9.98s\tremaining: 22s\n",
      "156:\tlearn: 0.0558702\ttotal: 10s\tremaining: 21.9s\n",
      "157:\tlearn: 0.0557872\ttotal: 10.1s\tremaining: 21.9s\n",
      "158:\tlearn: 0.0557050\ttotal: 10.2s\tremaining: 21.8s\n",
      "159:\tlearn: 0.0557047\ttotal: 10.2s\tremaining: 21.7s\n",
      "160:\tlearn: 0.0556083\ttotal: 10.3s\tremaining: 21.7s\n",
      "161:\tlearn: 0.0556078\ttotal: 10.3s\tremaining: 21.6s\n",
      "162:\tlearn: 0.0555778\ttotal: 10.4s\tremaining: 21.5s\n",
      "163:\tlearn: 0.0555693\ttotal: 10.5s\tremaining: 21.4s\n",
      "164:\tlearn: 0.0555691\ttotal: 10.5s\tremaining: 21.3s\n",
      "165:\tlearn: 0.0555100\ttotal: 10.6s\tremaining: 21.3s\n",
      "166:\tlearn: 0.0554581\ttotal: 10.6s\tremaining: 21.2s\n",
      "167:\tlearn: 0.0553813\ttotal: 10.7s\tremaining: 21.1s\n",
      "168:\tlearn: 0.0553508\ttotal: 10.8s\tremaining: 21.1s\n",
      "169:\tlearn: 0.0553507\ttotal: 10.8s\tremaining: 21s\n",
      "170:\tlearn: 0.0552664\ttotal: 10.9s\tremaining: 20.9s\n",
      "171:\tlearn: 0.0551871\ttotal: 10.9s\tremaining: 20.9s\n",
      "172:\tlearn: 0.0550939\ttotal: 11s\tremaining: 20.8s\n",
      "173:\tlearn: 0.0550170\ttotal: 11.1s\tremaining: 20.7s\n",
      "174:\tlearn: 0.0549633\ttotal: 11.1s\tremaining: 20.7s\n",
      "175:\tlearn: 0.0548997\ttotal: 11.2s\tremaining: 20.6s\n",
      "176:\tlearn: 0.0548342\ttotal: 11.3s\tremaining: 20.5s\n",
      "177:\tlearn: 0.0548096\ttotal: 11.3s\tremaining: 20.5s\n",
      "178:\tlearn: 0.0547862\ttotal: 11.4s\tremaining: 20.4s\n",
      "179:\tlearn: 0.0547487\ttotal: 11.4s\tremaining: 20.4s\n",
      "180:\tlearn: 0.0547482\ttotal: 11.5s\tremaining: 20.3s\n",
      "181:\tlearn: 0.0547480\ttotal: 11.6s\tremaining: 20.2s\n",
      "182:\tlearn: 0.0547478\ttotal: 11.6s\tremaining: 20.1s\n",
      "183:\tlearn: 0.0547000\ttotal: 11.7s\tremaining: 20s\n",
      "184:\tlearn: 0.0545839\ttotal: 11.7s\tremaining: 20s\n",
      "185:\tlearn: 0.0545055\ttotal: 11.8s\tremaining: 19.9s\n",
      "186:\tlearn: 0.0544820\ttotal: 11.9s\tremaining: 19.9s\n",
      "187:\tlearn: 0.0544648\ttotal: 11.9s\tremaining: 19.8s\n",
      "188:\tlearn: 0.0544515\ttotal: 12s\tremaining: 19.7s\n",
      "189:\tlearn: 0.0543806\ttotal: 12.1s\tremaining: 19.7s\n",
      "190:\tlearn: 0.0543198\ttotal: 12.1s\tremaining: 19.6s\n",
      "191:\tlearn: 0.0542350\ttotal: 12.2s\tremaining: 19.5s\n",
      "192:\tlearn: 0.0541537\ttotal: 12.2s\tremaining: 19.5s\n",
      "193:\tlearn: 0.0540052\ttotal: 12.3s\tremaining: 19.4s\n",
      "194:\tlearn: 0.0539980\ttotal: 12.4s\tremaining: 19.3s\n",
      "195:\tlearn: 0.0539534\ttotal: 12.4s\tremaining: 19.3s\n",
      "196:\tlearn: 0.0539514\ttotal: 12.5s\tremaining: 19.2s\n",
      "197:\tlearn: 0.0538264\ttotal: 12.5s\tremaining: 19.1s\n",
      "198:\tlearn: 0.0538014\ttotal: 12.6s\tremaining: 19.1s\n",
      "199:\tlearn: 0.0537522\ttotal: 12.7s\tremaining: 19s\n",
      "200:\tlearn: 0.0537119\ttotal: 12.7s\tremaining: 18.9s\n",
      "201:\tlearn: 0.0536741\ttotal: 12.8s\tremaining: 18.9s\n",
      "202:\tlearn: 0.0536255\ttotal: 12.9s\tremaining: 18.8s\n",
      "203:\tlearn: 0.0535876\ttotal: 12.9s\tremaining: 18.8s\n",
      "204:\tlearn: 0.0534626\ttotal: 13s\tremaining: 18.7s\n",
      "205:\tlearn: 0.0534544\ttotal: 13.1s\tremaining: 18.6s\n",
      "206:\tlearn: 0.0534461\ttotal: 13.1s\tremaining: 18.6s\n",
      "207:\tlearn: 0.0534460\ttotal: 13.2s\tremaining: 18.5s\n",
      "208:\tlearn: 0.0534022\ttotal: 13.2s\tremaining: 18.4s\n",
      "209:\tlearn: 0.0533492\ttotal: 13.3s\tremaining: 18.4s\n",
      "210:\tlearn: 0.0533211\ttotal: 13.4s\tremaining: 18.3s\n",
      "211:\tlearn: 0.0533209\ttotal: 13.4s\tremaining: 18.2s\n",
      "212:\tlearn: 0.0532365\ttotal: 13.5s\tremaining: 18.1s\n",
      "213:\tlearn: 0.0532365\ttotal: 13.5s\tremaining: 18.1s\n",
      "214:\tlearn: 0.0531785\ttotal: 13.6s\tremaining: 18s\n",
      "215:\tlearn: 0.0531667\ttotal: 13.6s\tremaining: 17.9s\n",
      "216:\tlearn: 0.0530021\ttotal: 13.7s\tremaining: 17.9s\n",
      "217:\tlearn: 0.0529982\ttotal: 13.8s\tremaining: 17.8s\n",
      "218:\tlearn: 0.0529910\ttotal: 13.8s\tremaining: 17.7s\n",
      "219:\tlearn: 0.0529893\ttotal: 13.9s\tremaining: 17.7s\n",
      "220:\tlearn: 0.0529790\ttotal: 14s\tremaining: 17.6s\n",
      "221:\tlearn: 0.0529628\ttotal: 14s\tremaining: 17.6s\n",
      "222:\tlearn: 0.0529619\ttotal: 14.1s\tremaining: 17.5s\n",
      "223:\tlearn: 0.0528733\ttotal: 14.1s\tremaining: 17.4s\n",
      "224:\tlearn: 0.0528550\ttotal: 14.2s\tremaining: 17.4s\n",
      "225:\tlearn: 0.0528543\ttotal: 14.3s\tremaining: 17.3s\n",
      "226:\tlearn: 0.0528081\ttotal: 14.3s\tremaining: 17.2s\n",
      "227:\tlearn: 0.0528076\ttotal: 14.4s\tremaining: 17.2s\n",
      "228:\tlearn: 0.0528075\ttotal: 14.4s\tremaining: 17.1s\n",
      "229:\tlearn: 0.0528062\ttotal: 14.5s\tremaining: 17.1s\n",
      "230:\tlearn: 0.0528059\ttotal: 14.6s\tremaining: 17s\n",
      "231:\tlearn: 0.0526070\ttotal: 14.6s\tremaining: 16.9s\n",
      "232:\tlearn: 0.0525653\ttotal: 14.7s\tremaining: 16.9s\n",
      "233:\tlearn: 0.0525042\ttotal: 14.8s\tremaining: 16.8s\n",
      "234:\tlearn: 0.0525033\ttotal: 14.9s\tremaining: 16.7s\n",
      "235:\tlearn: 0.0525031\ttotal: 14.9s\tremaining: 16.7s\n",
      "236:\tlearn: 0.0524859\ttotal: 15s\tremaining: 16.6s\n",
      "237:\tlearn: 0.0524123\ttotal: 15s\tremaining: 16.6s\n",
      "238:\tlearn: 0.0524121\ttotal: 15.1s\tremaining: 16.5s\n",
      "239:\tlearn: 0.0523629\ttotal: 15.2s\tremaining: 16.4s\n",
      "240:\tlearn: 0.0522938\ttotal: 15.2s\tremaining: 16.4s\n",
      "241:\tlearn: 0.0522215\ttotal: 15.3s\tremaining: 16.3s\n",
      "242:\tlearn: 0.0520889\ttotal: 15.3s\tremaining: 16.2s\n",
      "243:\tlearn: 0.0519955\ttotal: 15.4s\tremaining: 16.2s\n",
      "244:\tlearn: 0.0519530\ttotal: 15.5s\tremaining: 16.1s\n",
      "245:\tlearn: 0.0519461\ttotal: 15.6s\tremaining: 16.1s\n",
      "246:\tlearn: 0.0519378\ttotal: 15.7s\tremaining: 16.1s\n",
      "247:\tlearn: 0.0519137\ttotal: 15.8s\tremaining: 16.1s\n",
      "248:\tlearn: 0.0518557\ttotal: 16s\tremaining: 16.1s\n",
      "249:\tlearn: 0.0518486\ttotal: 16.1s\tremaining: 16.1s\n",
      "250:\tlearn: 0.0518068\ttotal: 16.2s\tremaining: 16.1s\n",
      "251:\tlearn: 0.0517934\ttotal: 16.3s\tremaining: 16s\n",
      "252:\tlearn: 0.0517933\ttotal: 16.3s\tremaining: 15.9s\n",
      "253:\tlearn: 0.0517247\ttotal: 16.4s\tremaining: 15.9s\n",
      "254:\tlearn: 0.0516510\ttotal: 16.4s\tremaining: 15.8s\n",
      "255:\tlearn: 0.0516507\ttotal: 16.5s\tremaining: 15.7s\n",
      "256:\tlearn: 0.0516257\ttotal: 16.6s\tremaining: 15.7s\n",
      "257:\tlearn: 0.0516257\ttotal: 16.6s\tremaining: 15.6s\n",
      "258:\tlearn: 0.0515693\ttotal: 16.7s\tremaining: 15.5s\n",
      "259:\tlearn: 0.0515633\ttotal: 16.7s\tremaining: 15.4s\n",
      "260:\tlearn: 0.0515364\ttotal: 16.8s\tremaining: 15.4s\n",
      "261:\tlearn: 0.0515197\ttotal: 16.9s\tremaining: 15.3s\n",
      "262:\tlearn: 0.0514730\ttotal: 16.9s\tremaining: 15.3s\n",
      "263:\tlearn: 0.0513509\ttotal: 17s\tremaining: 15.2s\n",
      "264:\tlearn: 0.0513259\ttotal: 17.1s\tremaining: 15.1s\n",
      "265:\tlearn: 0.0513259\ttotal: 17.1s\tremaining: 15s\n",
      "266:\tlearn: 0.0513172\ttotal: 17.2s\tremaining: 15s\n",
      "267:\tlearn: 0.0512817\ttotal: 17.2s\tremaining: 14.9s\n",
      "268:\tlearn: 0.0512041\ttotal: 17.3s\tremaining: 14.8s\n",
      "269:\tlearn: 0.0512030\ttotal: 17.4s\tremaining: 14.8s\n",
      "270:\tlearn: 0.0512028\ttotal: 17.4s\tremaining: 14.7s\n",
      "271:\tlearn: 0.0512018\ttotal: 17.5s\tremaining: 14.7s\n",
      "272:\tlearn: 0.0511583\ttotal: 17.5s\tremaining: 14.6s\n",
      "273:\tlearn: 0.0511536\ttotal: 17.6s\tremaining: 14.5s\n",
      "274:\tlearn: 0.0510907\ttotal: 17.7s\tremaining: 14.5s\n",
      "275:\tlearn: 0.0510713\ttotal: 17.7s\tremaining: 14.4s\n",
      "276:\tlearn: 0.0510536\ttotal: 17.8s\tremaining: 14.3s\n",
      "277:\tlearn: 0.0510510\ttotal: 17.9s\tremaining: 14.3s\n",
      "278:\tlearn: 0.0510508\ttotal: 17.9s\tremaining: 14.2s\n",
      "279:\tlearn: 0.0510506\ttotal: 18s\tremaining: 14.1s\n",
      "280:\tlearn: 0.0509690\ttotal: 18.1s\tremaining: 14.1s\n",
      "281:\tlearn: 0.0509536\ttotal: 18.1s\tremaining: 14s\n",
      "282:\tlearn: 0.0509078\ttotal: 18.2s\tremaining: 14s\n",
      "283:\tlearn: 0.0509030\ttotal: 18.3s\tremaining: 13.9s\n",
      "284:\tlearn: 0.0508726\ttotal: 18.3s\tremaining: 13.8s\n",
      "285:\tlearn: 0.0508684\ttotal: 18.4s\tremaining: 13.8s\n",
      "286:\tlearn: 0.0508652\ttotal: 18.5s\tremaining: 13.7s\n",
      "287:\tlearn: 0.0507458\ttotal: 18.5s\tremaining: 13.6s\n",
      "288:\tlearn: 0.0507365\ttotal: 18.6s\tremaining: 13.6s\n",
      "289:\tlearn: 0.0507314\ttotal: 18.6s\tremaining: 13.5s\n",
      "290:\tlearn: 0.0507314\ttotal: 18.7s\tremaining: 13.4s\n",
      "291:\tlearn: 0.0507110\ttotal: 18.8s\tremaining: 13.4s\n",
      "292:\tlearn: 0.0506959\ttotal: 18.8s\tremaining: 13.3s\n",
      "293:\tlearn: 0.0506630\ttotal: 18.9s\tremaining: 13.2s\n",
      "294:\tlearn: 0.0506234\ttotal: 18.9s\tremaining: 13.2s\n",
      "295:\tlearn: 0.0506224\ttotal: 19s\tremaining: 13.1s\n",
      "296:\tlearn: 0.0506221\ttotal: 19.1s\tremaining: 13s\n",
      "297:\tlearn: 0.0506184\ttotal: 19.1s\tremaining: 13s\n",
      "298:\tlearn: 0.0505695\ttotal: 19.2s\tremaining: 12.9s\n",
      "299:\tlearn: 0.0505488\ttotal: 19.2s\tremaining: 12.8s\n",
      "300:\tlearn: 0.0505363\ttotal: 19.3s\tremaining: 12.8s\n",
      "301:\tlearn: 0.0505081\ttotal: 19.4s\tremaining: 12.7s\n",
      "302:\tlearn: 0.0505080\ttotal: 19.4s\tremaining: 12.6s\n",
      "303:\tlearn: 0.0505079\ttotal: 19.5s\tremaining: 12.6s\n",
      "304:\tlearn: 0.0505045\ttotal: 19.5s\tremaining: 12.5s\n",
      "305:\tlearn: 0.0505044\ttotal: 19.6s\tremaining: 12.4s\n",
      "306:\tlearn: 0.0504543\ttotal: 19.7s\tremaining: 12.4s\n",
      "307:\tlearn: 0.0504403\ttotal: 19.7s\tremaining: 12.3s\n",
      "308:\tlearn: 0.0504150\ttotal: 19.8s\tremaining: 12.2s\n",
      "309:\tlearn: 0.0504065\ttotal: 19.9s\tremaining: 12.2s\n",
      "310:\tlearn: 0.0504051\ttotal: 19.9s\tremaining: 12.1s\n",
      "311:\tlearn: 0.0503781\ttotal: 20s\tremaining: 12s\n",
      "312:\tlearn: 0.0503148\ttotal: 20s\tremaining: 12s\n",
      "313:\tlearn: 0.0503146\ttotal: 20.1s\tremaining: 11.9s\n",
      "314:\tlearn: 0.0503139\ttotal: 20.2s\tremaining: 11.8s\n",
      "315:\tlearn: 0.0502881\ttotal: 20.2s\tremaining: 11.8s\n",
      "316:\tlearn: 0.0502839\ttotal: 20.3s\tremaining: 11.7s\n",
      "317:\tlearn: 0.0502804\ttotal: 20.4s\tremaining: 11.7s\n",
      "318:\tlearn: 0.0502545\ttotal: 20.4s\tremaining: 11.6s\n",
      "319:\tlearn: 0.0502504\ttotal: 20.5s\tremaining: 11.5s\n",
      "320:\tlearn: 0.0502059\ttotal: 20.6s\tremaining: 11.5s\n",
      "321:\tlearn: 0.0502044\ttotal: 20.6s\tremaining: 11.4s\n",
      "322:\tlearn: 0.0501937\ttotal: 20.7s\tremaining: 11.3s\n",
      "323:\tlearn: 0.0501892\ttotal: 20.7s\tremaining: 11.3s\n",
      "324:\tlearn: 0.0501870\ttotal: 20.8s\tremaining: 11.2s\n",
      "325:\tlearn: 0.0501832\ttotal: 20.9s\tremaining: 11.1s\n",
      "326:\tlearn: 0.0501401\ttotal: 20.9s\tremaining: 11.1s\n",
      "327:\tlearn: 0.0501400\ttotal: 21s\tremaining: 11s\n",
      "328:\tlearn: 0.0501282\ttotal: 21s\tremaining: 10.9s\n",
      "329:\tlearn: 0.0501017\ttotal: 21.1s\tremaining: 10.9s\n",
      "330:\tlearn: 0.0500976\ttotal: 21.2s\tremaining: 10.8s\n",
      "331:\tlearn: 0.0500818\ttotal: 21.2s\tremaining: 10.7s\n",
      "332:\tlearn: 0.0500606\ttotal: 21.3s\tremaining: 10.7s\n",
      "333:\tlearn: 0.0500238\ttotal: 21.4s\tremaining: 10.6s\n",
      "334:\tlearn: 0.0500203\ttotal: 21.4s\tremaining: 10.6s\n",
      "335:\tlearn: 0.0500190\ttotal: 21.5s\tremaining: 10.5s\n",
      "336:\tlearn: 0.0499953\ttotal: 21.5s\tremaining: 10.4s\n",
      "337:\tlearn: 0.0499599\ttotal: 21.6s\tremaining: 10.4s\n",
      "338:\tlearn: 0.0499596\ttotal: 21.7s\tremaining: 10.3s\n",
      "339:\tlearn: 0.0499200\ttotal: 21.7s\tremaining: 10.2s\n",
      "340:\tlearn: 0.0499195\ttotal: 21.8s\tremaining: 10.2s\n",
      "341:\tlearn: 0.0499194\ttotal: 21.9s\tremaining: 10.1s\n",
      "342:\tlearn: 0.0499182\ttotal: 21.9s\tremaining: 10s\n",
      "343:\tlearn: 0.0499156\ttotal: 22s\tremaining: 9.96s\n",
      "344:\tlearn: 0.0499155\ttotal: 22s\tremaining: 9.9s\n",
      "345:\tlearn: 0.0498877\ttotal: 22.1s\tremaining: 9.84s\n",
      "346:\tlearn: 0.0498847\ttotal: 22.2s\tremaining: 9.77s\n",
      "347:\tlearn: 0.0498846\ttotal: 22.2s\tremaining: 9.71s\n",
      "348:\tlearn: 0.0498843\ttotal: 22.3s\tremaining: 9.64s\n",
      "349:\tlearn: 0.0498532\ttotal: 22.3s\tremaining: 9.57s\n",
      "350:\tlearn: 0.0498512\ttotal: 22.4s\tremaining: 9.51s\n",
      "351:\tlearn: 0.0498510\ttotal: 22.5s\tremaining: 9.45s\n",
      "352:\tlearn: 0.0498475\ttotal: 22.5s\tremaining: 9.38s\n",
      "353:\tlearn: 0.0498473\ttotal: 22.6s\tremaining: 9.32s\n",
      "354:\tlearn: 0.0498467\ttotal: 22.7s\tremaining: 9.25s\n",
      "355:\tlearn: 0.0498465\ttotal: 22.7s\tremaining: 9.19s\n",
      "356:\tlearn: 0.0497636\ttotal: 22.8s\tremaining: 9.13s\n",
      "357:\tlearn: 0.0497596\ttotal: 22.8s\tremaining: 9.06s\n",
      "358:\tlearn: 0.0497356\ttotal: 22.9s\tremaining: 9s\n",
      "359:\tlearn: 0.0497352\ttotal: 23s\tremaining: 8.93s\n",
      "360:\tlearn: 0.0497350\ttotal: 23s\tremaining: 8.87s\n",
      "361:\tlearn: 0.0497336\ttotal: 23.1s\tremaining: 8.8s\n",
      "362:\tlearn: 0.0497100\ttotal: 23.2s\tremaining: 8.74s\n",
      "363:\tlearn: 0.0496930\ttotal: 23.2s\tremaining: 8.68s\n",
      "364:\tlearn: 0.0496639\ttotal: 23.3s\tremaining: 8.61s\n",
      "365:\tlearn: 0.0496631\ttotal: 23.3s\tremaining: 8.55s\n",
      "366:\tlearn: 0.0496504\ttotal: 23.4s\tremaining: 8.48s\n",
      "367:\tlearn: 0.0496502\ttotal: 23.5s\tremaining: 8.42s\n",
      "368:\tlearn: 0.0496502\ttotal: 23.5s\tremaining: 8.35s\n",
      "369:\tlearn: 0.0496501\ttotal: 23.6s\tremaining: 8.29s\n",
      "370:\tlearn: 0.0496501\ttotal: 23.6s\tremaining: 8.22s\n",
      "371:\tlearn: 0.0496492\ttotal: 23.7s\tremaining: 8.15s\n",
      "372:\tlearn: 0.0496489\ttotal: 23.8s\tremaining: 8.09s\n",
      "373:\tlearn: 0.0496142\ttotal: 23.8s\tremaining: 8.03s\n",
      "374:\tlearn: 0.0496134\ttotal: 23.9s\tremaining: 7.96s\n",
      "375:\tlearn: 0.0496118\ttotal: 24s\tremaining: 7.9s\n",
      "376:\tlearn: 0.0496118\ttotal: 24s\tremaining: 7.83s\n",
      "377:\tlearn: 0.0495728\ttotal: 24.1s\tremaining: 7.77s\n",
      "378:\tlearn: 0.0495723\ttotal: 24.1s\tremaining: 7.7s\n",
      "379:\tlearn: 0.0495710\ttotal: 24.2s\tremaining: 7.64s\n",
      "380:\tlearn: 0.0495704\ttotal: 24.3s\tremaining: 7.57s\n",
      "381:\tlearn: 0.0495692\ttotal: 24.3s\tremaining: 7.51s\n",
      "382:\tlearn: 0.0495689\ttotal: 24.4s\tremaining: 7.44s\n",
      "383:\tlearn: 0.0495319\ttotal: 24.4s\tremaining: 7.38s\n",
      "384:\tlearn: 0.0495315\ttotal: 24.5s\tremaining: 7.32s\n",
      "385:\tlearn: 0.0495315\ttotal: 24.6s\tremaining: 7.25s\n",
      "386:\tlearn: 0.0495142\ttotal: 24.6s\tremaining: 7.19s\n",
      "387:\tlearn: 0.0495134\ttotal: 24.7s\tremaining: 7.12s\n",
      "388:\tlearn: 0.0495133\ttotal: 24.7s\tremaining: 7.06s\n",
      "389:\tlearn: 0.0495124\ttotal: 24.8s\tremaining: 7s\n",
      "390:\tlearn: 0.0495100\ttotal: 24.9s\tremaining: 6.93s\n",
      "391:\tlearn: 0.0495099\ttotal: 24.9s\tremaining: 6.87s\n",
      "392:\tlearn: 0.0495095\ttotal: 25s\tremaining: 6.8s\n",
      "393:\tlearn: 0.0495086\ttotal: 25.1s\tremaining: 6.74s\n",
      "394:\tlearn: 0.0494944\ttotal: 25.1s\tremaining: 6.68s\n",
      "395:\tlearn: 0.0494923\ttotal: 25.2s\tremaining: 6.61s\n",
      "396:\tlearn: 0.0494919\ttotal: 25.2s\tremaining: 6.55s\n",
      "397:\tlearn: 0.0494766\ttotal: 25.3s\tremaining: 6.48s\n",
      "398:\tlearn: 0.0494489\ttotal: 25.4s\tremaining: 6.42s\n",
      "399:\tlearn: 0.0494488\ttotal: 25.4s\tremaining: 6.36s\n",
      "400:\tlearn: 0.0494481\ttotal: 25.5s\tremaining: 6.29s\n",
      "401:\tlearn: 0.0494478\ttotal: 25.6s\tremaining: 6.23s\n",
      "402:\tlearn: 0.0494451\ttotal: 25.6s\tremaining: 6.17s\n",
      "403:\tlearn: 0.0494395\ttotal: 25.7s\tremaining: 6.1s\n",
      "404:\tlearn: 0.0494372\ttotal: 25.7s\tremaining: 6.04s\n",
      "405:\tlearn: 0.0494367\ttotal: 25.8s\tremaining: 5.97s\n",
      "406:\tlearn: 0.0494085\ttotal: 25.9s\tremaining: 5.91s\n",
      "407:\tlearn: 0.0494059\ttotal: 25.9s\tremaining: 5.85s\n",
      "408:\tlearn: 0.0493924\ttotal: 26s\tremaining: 5.78s\n",
      "409:\tlearn: 0.0493923\ttotal: 26s\tremaining: 5.72s\n",
      "410:\tlearn: 0.0493713\ttotal: 26.1s\tremaining: 5.65s\n",
      "411:\tlearn: 0.0493321\ttotal: 26.2s\tremaining: 5.59s\n",
      "412:\tlearn: 0.0493000\ttotal: 26.2s\tremaining: 5.53s\n",
      "413:\tlearn: 0.0492788\ttotal: 26.3s\tremaining: 5.46s\n",
      "414:\tlearn: 0.0492744\ttotal: 26.4s\tremaining: 5.4s\n",
      "415:\tlearn: 0.0492657\ttotal: 26.5s\tremaining: 5.34s\n",
      "416:\tlearn: 0.0492372\ttotal: 26.6s\tremaining: 5.29s\n",
      "417:\tlearn: 0.0492350\ttotal: 26.7s\tremaining: 5.25s\n",
      "418:\tlearn: 0.0492153\ttotal: 26.9s\tremaining: 5.2s\n",
      "419:\tlearn: 0.0492153\ttotal: 27s\tremaining: 5.14s\n",
      "420:\tlearn: 0.0492151\ttotal: 27.1s\tremaining: 5.08s\n",
      "421:\tlearn: 0.0491783\ttotal: 27.1s\tremaining: 5.01s\n",
      "422:\tlearn: 0.0491720\ttotal: 27.2s\tremaining: 4.95s\n",
      "423:\tlearn: 0.0491405\ttotal: 27.2s\tremaining: 4.88s\n",
      "424:\tlearn: 0.0491361\ttotal: 27.3s\tremaining: 4.82s\n",
      "425:\tlearn: 0.0491180\ttotal: 27.4s\tremaining: 4.75s\n",
      "426:\tlearn: 0.0491180\ttotal: 27.4s\tremaining: 4.68s\n",
      "427:\tlearn: 0.0491180\ttotal: 27.5s\tremaining: 4.62s\n",
      "428:\tlearn: 0.0491168\ttotal: 27.5s\tremaining: 4.55s\n",
      "429:\tlearn: 0.0491168\ttotal: 27.6s\tremaining: 4.49s\n",
      "430:\tlearn: 0.0491162\ttotal: 27.6s\tremaining: 4.42s\n",
      "431:\tlearn: 0.0491019\ttotal: 27.7s\tremaining: 4.36s\n",
      "432:\tlearn: 0.0490702\ttotal: 27.8s\tremaining: 4.29s\n",
      "433:\tlearn: 0.0490702\ttotal: 27.8s\tremaining: 4.23s\n",
      "434:\tlearn: 0.0490571\ttotal: 27.9s\tremaining: 4.17s\n",
      "435:\tlearn: 0.0490571\ttotal: 27.9s\tremaining: 4.1s\n",
      "436:\tlearn: 0.0490553\ttotal: 28s\tremaining: 4.04s\n",
      "437:\tlearn: 0.0490553\ttotal: 28.1s\tremaining: 3.97s\n",
      "438:\tlearn: 0.0490515\ttotal: 28.1s\tremaining: 3.91s\n",
      "439:\tlearn: 0.0490515\ttotal: 28.2s\tremaining: 3.84s\n",
      "440:\tlearn: 0.0490184\ttotal: 28.2s\tremaining: 3.78s\n",
      "441:\tlearn: 0.0490172\ttotal: 28.3s\tremaining: 3.71s\n",
      "442:\tlearn: 0.0490168\ttotal: 28.3s\tremaining: 3.65s\n",
      "443:\tlearn: 0.0490133\ttotal: 28.4s\tremaining: 3.58s\n",
      "444:\tlearn: 0.0490082\ttotal: 28.5s\tremaining: 3.52s\n",
      "445:\tlearn: 0.0490082\ttotal: 28.5s\tremaining: 3.45s\n",
      "446:\tlearn: 0.0490064\ttotal: 28.6s\tremaining: 3.39s\n",
      "447:\tlearn: 0.0490056\ttotal: 28.6s\tremaining: 3.32s\n",
      "448:\tlearn: 0.0490055\ttotal: 28.7s\tremaining: 3.26s\n",
      "449:\tlearn: 0.0489643\ttotal: 28.8s\tremaining: 3.19s\n",
      "450:\tlearn: 0.0489589\ttotal: 28.8s\tremaining: 3.13s\n",
      "451:\tlearn: 0.0489331\ttotal: 28.9s\tremaining: 3.07s\n",
      "452:\tlearn: 0.0489326\ttotal: 28.9s\tremaining: 3s\n",
      "453:\tlearn: 0.0489293\ttotal: 29s\tremaining: 2.94s\n",
      "454:\tlearn: 0.0489292\ttotal: 29.1s\tremaining: 2.88s\n",
      "455:\tlearn: 0.0489098\ttotal: 29.1s\tremaining: 2.81s\n",
      "456:\tlearn: 0.0489095\ttotal: 29.2s\tremaining: 2.75s\n",
      "457:\tlearn: 0.0489084\ttotal: 29.3s\tremaining: 2.68s\n",
      "458:\tlearn: 0.0489058\ttotal: 29.3s\tremaining: 2.62s\n",
      "459:\tlearn: 0.0488907\ttotal: 29.4s\tremaining: 2.56s\n",
      "460:\tlearn: 0.0488888\ttotal: 29.5s\tremaining: 2.49s\n",
      "461:\tlearn: 0.0488761\ttotal: 29.5s\tremaining: 2.43s\n",
      "462:\tlearn: 0.0488756\ttotal: 29.6s\tremaining: 2.36s\n",
      "463:\tlearn: 0.0488594\ttotal: 29.6s\tremaining: 2.3s\n",
      "464:\tlearn: 0.0488593\ttotal: 29.7s\tremaining: 2.24s\n",
      "465:\tlearn: 0.0488589\ttotal: 29.8s\tremaining: 2.17s\n",
      "466:\tlearn: 0.0488486\ttotal: 29.8s\tremaining: 2.11s\n",
      "467:\tlearn: 0.0488485\ttotal: 29.9s\tremaining: 2.04s\n",
      "468:\tlearn: 0.0488204\ttotal: 30s\tremaining: 1.98s\n",
      "469:\tlearn: 0.0487710\ttotal: 30s\tremaining: 1.92s\n",
      "470:\tlearn: 0.0487705\ttotal: 30.1s\tremaining: 1.85s\n",
      "471:\tlearn: 0.0487686\ttotal: 30.2s\tremaining: 1.79s\n",
      "472:\tlearn: 0.0487671\ttotal: 30.2s\tremaining: 1.73s\n",
      "473:\tlearn: 0.0487669\ttotal: 30.3s\tremaining: 1.66s\n",
      "474:\tlearn: 0.0487669\ttotal: 30.4s\tremaining: 1.6s\n",
      "475:\tlearn: 0.0487666\ttotal: 30.5s\tremaining: 1.54s\n",
      "476:\tlearn: 0.0487479\ttotal: 30.6s\tremaining: 1.48s\n",
      "477:\tlearn: 0.0487474\ttotal: 30.8s\tremaining: 1.42s\n",
      "478:\tlearn: 0.0487471\ttotal: 30.9s\tremaining: 1.35s\n",
      "479:\tlearn: 0.0487439\ttotal: 31s\tremaining: 1.29s\n",
      "480:\tlearn: 0.0487429\ttotal: 31.2s\tremaining: 1.23s\n",
      "481:\tlearn: 0.0487287\ttotal: 31.3s\tremaining: 1.17s\n",
      "482:\tlearn: 0.0487284\ttotal: 31.5s\tremaining: 1.11s\n",
      "483:\tlearn: 0.0487282\ttotal: 31.6s\tremaining: 1.04s\n",
      "484:\tlearn: 0.0486761\ttotal: 31.6s\tremaining: 978ms\n",
      "485:\tlearn: 0.0486757\ttotal: 31.7s\tremaining: 912ms\n",
      "486:\tlearn: 0.0486747\ttotal: 31.7s\tremaining: 847ms\n",
      "487:\tlearn: 0.0486745\ttotal: 31.8s\tremaining: 782ms\n",
      "488:\tlearn: 0.0486743\ttotal: 31.9s\tremaining: 717ms\n",
      "489:\tlearn: 0.0486500\ttotal: 31.9s\tremaining: 651ms\n",
      "490:\tlearn: 0.0486374\ttotal: 32s\tremaining: 586ms\n",
      "491:\tlearn: 0.0486374\ttotal: 32s\tremaining: 521ms\n",
      "492:\tlearn: 0.0486283\ttotal: 32.1s\tremaining: 456ms\n",
      "493:\tlearn: 0.0486259\ttotal: 32.2s\tremaining: 391ms\n",
      "494:\tlearn: 0.0486259\ttotal: 32.2s\tremaining: 326ms\n",
      "495:\tlearn: 0.0486168\ttotal: 32.3s\tremaining: 260ms\n",
      "496:\tlearn: 0.0486132\ttotal: 32.4s\tremaining: 195ms\n",
      "497:\tlearn: 0.0486102\ttotal: 32.4s\tremaining: 130ms\n",
      "498:\tlearn: 0.0485969\ttotal: 32.5s\tremaining: 65.1ms\n",
      "499:\tlearn: 0.0485959\ttotal: 32.5s\tremaining: 0us\n"
     ]
    },
    {
     "data": {
      "text/plain": [
       "<catboost.core.CatBoostClassifier at 0x7f5d62762bd0>"
      ]
     },
     "execution_count": 138,
     "metadata": {},
     "output_type": "execute_result"
    }
   ],
   "source": [
    "model_C.fit(train[FEATS], train[TARGET])"
   ]
  },
  {
   "cell_type": "code",
   "execution_count": 139,
   "metadata": {
    "execution": {
     "iopub.execute_input": "2021-09-15T04:15:24.868589Z",
     "iopub.status.busy": "2021-09-15T04:15:24.867871Z",
     "iopub.status.idle": "2021-09-15T04:15:24.887876Z",
     "shell.execute_reply": "2021-09-15T04:15:24.887213Z",
     "shell.execute_reply.started": "2021-09-15T04:15:24.868552Z"
    }
   },
   "outputs": [],
   "source": [
    "predition = model_C.predict(valid[FEATS])\n",
    "valid['steaming_processing_le'] = predition"
   ]
  },
  {
   "cell_type": "markdown",
   "metadata": {},
   "source": [
    "# P_PRICE 예측"
   ]
  },
  {
   "cell_type": "code",
   "execution_count": 140,
   "metadata": {
    "execution": {
     "iopub.execute_input": "2021-09-15T04:15:24.893979Z",
     "iopub.status.busy": "2021-09-15T04:15:24.891931Z",
     "iopub.status.idle": "2021-09-15T04:15:24.898718Z",
     "shell.execute_reply": "2021-09-15T04:15:24.897936Z",
     "shell.execute_reply.started": "2021-09-15T04:15:24.893947Z"
    }
   },
   "outputs": [],
   "source": [
    "from xgboost import XGBRegressor"
   ]
  },
  {
   "cell_type": "code",
   "execution_count": 141,
   "metadata": {
    "execution": {
     "iopub.execute_input": "2021-09-15T04:15:24.905572Z",
     "iopub.status.busy": "2021-09-15T04:15:24.903451Z",
     "iopub.status.idle": "2021-09-15T04:15:24.911026Z",
     "shell.execute_reply": "2021-09-15T04:15:24.910297Z",
     "shell.execute_reply.started": "2021-09-15T04:15:24.905541Z"
    }
   },
   "outputs": [],
   "source": [
    "params = {\n",
    "    \"iterations\": 500,\n",
    "    \"learning_rate\": 0.1,\n",
    "    \"task_type\": \"GPU\",\n",
    "    \"devices\": \"0:1\",\n",
    "    'one_hot_max_size':256,\n",
    "    'objective':'reg:linear',\n",
    "    'random_state':2,\n",
    "    'scale_pos_weight':1\n",
    "}\n"
   ]
  },
  {
   "cell_type": "code",
   "execution_count": 142,
   "metadata": {
    "execution": {
     "iopub.execute_input": "2021-09-15T04:15:24.917113Z",
     "iopub.status.busy": "2021-09-15T04:15:24.914928Z",
     "iopub.status.idle": "2021-09-15T04:15:24.922493Z",
     "shell.execute_reply": "2021-09-15T04:15:24.921781Z",
     "shell.execute_reply.started": "2021-09-15T04:15:24.917080Z"
    }
   },
   "outputs": [],
   "source": [
    "FEATS = ['주차','MONTH','YEAR','CTRY_1_le','CTRY_2_le', 'P_NAME_le', 'storage_le', 'part_le',\n",
    "       'process_le', 'sashimi_le', 'steaming_processing_le', 'P_PURPOSE_le']\n",
    "TARGETS = ['P_PRICE']"
   ]
  },
  {
   "cell_type": "code",
   "execution_count": 143,
   "metadata": {
    "execution": {
     "iopub.execute_input": "2021-09-15T04:15:24.928328Z",
     "iopub.status.busy": "2021-09-15T04:15:24.926352Z",
     "iopub.status.idle": "2021-09-15T04:15:24.933975Z",
     "shell.execute_reply": "2021-09-15T04:15:24.933210Z",
     "shell.execute_reply.started": "2021-09-15T04:15:24.928294Z"
    }
   },
   "outputs": [],
   "source": [
    "model = XGBRegressor(**params)"
   ]
  },
  {
   "cell_type": "code",
   "execution_count": 144,
   "metadata": {
    "execution": {
     "iopub.execute_input": "2021-09-15T04:15:24.936614Z",
     "iopub.status.busy": "2021-09-15T04:15:24.935830Z",
     "iopub.status.idle": "2021-09-15T04:15:27.459804Z",
     "shell.execute_reply": "2021-09-15T04:15:27.459156Z",
     "shell.execute_reply.started": "2021-09-15T04:15:24.936576Z"
    }
   },
   "outputs": [
    {
     "name": "stdout",
     "output_type": "stream",
     "text": [
      "[04:15:24] WARNING: ../src/objective/regression_obj.cu:171: reg:linear is now deprecated in favor of reg:squarederror.\n",
      "[04:15:24] WARNING: ../src/learner.cc:573: \n",
      "Parameters: { \"devices\", \"iterations\", \"one_hot_max_size\", \"task_type\" } might not be used.\n",
      "\n",
      "  This may not be accurate due to some parameters are only used in language bindings but\n",
      "  passed down to XGBoost core.  Or some parameters are not used but slip through this\n",
      "  verification. Please open an issue if you find above cases.\n",
      "\n",
      "\n"
     ]
    },
    {
     "data": {
      "text/plain": [
       "XGBRegressor(base_score=0.5, booster='gbtree', colsample_bylevel=1,\n",
       "             colsample_bynode=1, colsample_bytree=1, devices='0:1', gamma=0,\n",
       "             gpu_id=-1, importance_type='gain', interaction_constraints='',\n",
       "             iterations=500, learning_rate=0.1, max_delta_step=0, max_depth=6,\n",
       "             min_child_weight=1, missing=nan, monotone_constraints='()',\n",
       "             n_estimators=100, n_jobs=2, num_parallel_tree=1,\n",
       "             objective='reg:linear', one_hot_max_size=256, random_state=2,\n",
       "             reg_alpha=0, reg_lambda=1, scale_pos_weight=1, subsample=1,\n",
       "             task_type='GPU', tree_method='exact', validate_parameters=1, ...)"
      ]
     },
     "execution_count": 144,
     "metadata": {},
     "output_type": "execute_result"
    }
   ],
   "source": [
    "model.fit(train[FEATS], train[TARGETS])"
   ]
  },
  {
   "cell_type": "code",
   "execution_count": 145,
   "metadata": {
    "execution": {
     "iopub.execute_input": "2021-09-15T04:15:27.461186Z",
     "iopub.status.busy": "2021-09-15T04:15:27.460914Z",
     "iopub.status.idle": "2021-09-15T04:15:27.470824Z",
     "shell.execute_reply": "2021-09-15T04:15:27.470144Z",
     "shell.execute_reply.started": "2021-09-15T04:15:27.461150Z"
    }
   },
   "outputs": [],
   "source": [
    "pred = model.predict(valid[FEATS])\n",
    "valid[\"P_PRICE\"] = pred"
   ]
  },
  {
   "cell_type": "markdown",
   "metadata": {},
   "source": [
    "# 예측값 VS 실제값 비교 "
   ]
  },
  {
   "cell_type": "code",
   "execution_count": 146,
   "metadata": {
    "execution": {
     "iopub.execute_input": "2021-09-15T04:15:27.472186Z",
     "iopub.status.busy": "2021-09-15T04:15:27.471918Z",
     "iopub.status.idle": "2021-09-15T04:15:27.512930Z",
     "shell.execute_reply": "2021-09-15T04:15:27.512263Z",
     "shell.execute_reply.started": "2021-09-15T04:15:27.472154Z"
    }
   },
   "outputs": [],
   "source": [
    "valid_gt = pd.read_csv(\"../input/valid-org/valid_org.csv\", encoding=\"CP949\")"
   ]
  },
  {
   "cell_type": "code",
   "execution_count": 147,
   "metadata": {
    "execution": {
     "iopub.execute_input": "2021-09-15T04:15:27.516234Z",
     "iopub.status.busy": "2021-09-15T04:15:27.516018Z",
     "iopub.status.idle": "2021-09-15T04:15:27.528814Z",
     "shell.execute_reply": "2021-09-15T04:15:27.528101Z",
     "shell.execute_reply.started": "2021-09-15T04:15:27.516211Z"
    }
   },
   "outputs": [],
   "source": [
    "pred1 = valid.loc[valid['P_NAME']==\"오징어\", :].groupby([\"REG_DATE\"])[\"P_PRICE\"].mean().tolist()\n",
    "pred2 = valid.loc[valid['P_NAME']==\"연어\", :].groupby([\"REG_DATE\"])[\"P_PRICE\"].mean().tolist()\n",
    "pred3 = valid.loc[valid['P_NAME']==\"흰다리새우\", :].groupby([\"REG_DATE\"])[\"P_PRICE\"].mean().tolist()\n",
    "\n",
    "prediction = pred1 + pred2 + pred3"
   ]
  },
  {
   "cell_type": "code",
   "execution_count": 148,
   "metadata": {
    "execution": {
     "iopub.execute_input": "2021-09-15T04:15:27.530150Z",
     "iopub.status.busy": "2021-09-15T04:15:27.529878Z",
     "iopub.status.idle": "2021-09-15T04:15:27.546563Z",
     "shell.execute_reply": "2021-09-15T04:15:27.545917Z",
     "shell.execute_reply.started": "2021-09-15T04:15:27.530102Z"
    }
   },
   "outputs": [],
   "source": [
    "gt1 = valid_gt.loc[valid_gt['P_NAME']==\"오징어\", :].groupby([\"REG_DATE\"])[\"P_PRICE\"].mean().tolist()\n",
    "gt2 = valid_gt.loc[valid_gt['P_NAME']==\"연어\", :].groupby([\"REG_DATE\"])[\"P_PRICE\"].mean().tolist()\n",
    "gt3 = valid_gt.loc[valid_gt['P_NAME']==\"흰다리새우\", :].groupby([\"REG_DATE\"])[\"P_PRICE\"].mean().tolist()\n",
    "\n",
    "ground_truth = gt1 + gt2 + gt3"
   ]
  },
  {
   "cell_type": "code",
   "execution_count": 149,
   "metadata": {
    "execution": {
     "iopub.execute_input": "2021-09-15T04:15:27.547923Z",
     "iopub.status.busy": "2021-09-15T04:15:27.547679Z",
     "iopub.status.idle": "2021-09-15T04:15:27.554837Z",
     "shell.execute_reply": "2021-09-15T04:15:27.553905Z",
     "shell.execute_reply.started": "2021-09-15T04:15:27.547893Z"
    }
   },
   "outputs": [
    {
     "data": {
      "text/plain": [
       "1.2298850191122614"
      ]
     },
     "execution_count": 149,
     "metadata": {},
     "output_type": "execute_result"
    }
   ],
   "source": [
    "from sklearn.metrics import mean_squared_error\n",
    "\n",
    "def rmse(y, y_pred):\n",
    "    return mean_squared_error(y, y_pred)**0.5\n",
    "rmse(ground_truth, prediction)"
   ]
  },
  {
   "cell_type": "code",
   "execution_count": 150,
   "metadata": {
    "execution": {
     "iopub.execute_input": "2021-09-15T04:15:27.556611Z",
     "iopub.status.busy": "2021-09-15T04:15:27.556324Z",
     "iopub.status.idle": "2021-09-15T04:15:27.645831Z",
     "shell.execute_reply": "2021-09-15T04:15:27.644935Z",
     "shell.execute_reply.started": "2021-09-15T04:15:27.556577Z"
    }
   },
   "outputs": [
    {
     "name": "stdout",
     "output_type": "stream",
     "text": [
      "주차 0.05021935\n",
      "MONTH 0.011416837\n",
      "YEAR 0.0050181183\n",
      "CTRY_1_le 0.07469623\n",
      "CTRY_2_le 0.017206483\n",
      "P_NAME_le 0.015486821\n",
      "storage_le 0.12454991\n",
      "part_le 0.006913515\n",
      "process_le 0.23939598\n",
      "sashimi_le 0.32472345\n",
      "steaming_processing_le 0.12651905\n",
      "P_PURPOSE_le 0.0038542484\n"
     ]
    }
   ],
   "source": [
    "for a, b in zip(FEATS, model.feature_importances_):\n",
    "    print(a, b)"
   ]
  },
  {
   "cell_type": "markdown",
   "metadata": {},
   "source": [
    "### 날짜 data 제거 & P_PURPOSE 제거"
   ]
  },
  {
   "cell_type": "code",
   "execution_count": 151,
   "metadata": {
    "execution": {
     "iopub.execute_input": "2021-09-15T04:15:27.647485Z",
     "iopub.status.busy": "2021-09-15T04:15:27.647239Z",
     "iopub.status.idle": "2021-09-15T04:15:27.651340Z",
     "shell.execute_reply": "2021-09-15T04:15:27.650587Z",
     "shell.execute_reply.started": "2021-09-15T04:15:27.647454Z"
    }
   },
   "outputs": [],
   "source": [
    "FEATS = ['CTRY_1_le','CTRY_2_le', 'P_NAME_le', 'storage_le', 'part_le',\n",
    "       'process_le', 'sashimi_le', 'steaming_processing_le']\n",
    "TARGETS = ['P_PRICE']"
   ]
  },
  {
   "cell_type": "code",
   "execution_count": 152,
   "metadata": {
    "execution": {
     "iopub.execute_input": "2021-09-15T04:15:27.652944Z",
     "iopub.status.busy": "2021-09-15T04:15:27.652518Z",
     "iopub.status.idle": "2021-09-15T04:15:27.660827Z",
     "shell.execute_reply": "2021-09-15T04:15:27.660158Z",
     "shell.execute_reply.started": "2021-09-15T04:15:27.652912Z"
    }
   },
   "outputs": [],
   "source": [
    "model = XGBRegressor(**params)"
   ]
  },
  {
   "cell_type": "code",
   "execution_count": 153,
   "metadata": {
    "execution": {
     "iopub.execute_input": "2021-09-15T04:15:27.663707Z",
     "iopub.status.busy": "2021-09-15T04:15:27.663480Z",
     "iopub.status.idle": "2021-09-15T04:15:29.257186Z",
     "shell.execute_reply": "2021-09-15T04:15:29.256482Z",
     "shell.execute_reply.started": "2021-09-15T04:15:27.663685Z"
    }
   },
   "outputs": [
    {
     "name": "stdout",
     "output_type": "stream",
     "text": [
      "[04:15:27] WARNING: ../src/objective/regression_obj.cu:171: reg:linear is now deprecated in favor of reg:squarederror.\n",
      "[04:15:27] WARNING: ../src/learner.cc:573: \n",
      "Parameters: { \"devices\", \"iterations\", \"one_hot_max_size\", \"task_type\" } might not be used.\n",
      "\n",
      "  This may not be accurate due to some parameters are only used in language bindings but\n",
      "  passed down to XGBoost core.  Or some parameters are not used but slip through this\n",
      "  verification. Please open an issue if you find above cases.\n",
      "\n",
      "\n"
     ]
    },
    {
     "data": {
      "text/plain": [
       "XGBRegressor(base_score=0.5, booster='gbtree', colsample_bylevel=1,\n",
       "             colsample_bynode=1, colsample_bytree=1, devices='0:1', gamma=0,\n",
       "             gpu_id=-1, importance_type='gain', interaction_constraints='',\n",
       "             iterations=500, learning_rate=0.1, max_delta_step=0, max_depth=6,\n",
       "             min_child_weight=1, missing=nan, monotone_constraints='()',\n",
       "             n_estimators=100, n_jobs=2, num_parallel_tree=1,\n",
       "             objective='reg:linear', one_hot_max_size=256, random_state=2,\n",
       "             reg_alpha=0, reg_lambda=1, scale_pos_weight=1, subsample=1,\n",
       "             task_type='GPU', tree_method='exact', validate_parameters=1, ...)"
      ]
     },
     "execution_count": 153,
     "metadata": {},
     "output_type": "execute_result"
    }
   ],
   "source": [
    "model.fit(train[FEATS], train[TARGETS])"
   ]
  },
  {
   "cell_type": "code",
   "execution_count": 154,
   "metadata": {
    "execution": {
     "iopub.execute_input": "2021-09-15T04:15:29.258658Z",
     "iopub.status.busy": "2021-09-15T04:15:29.258395Z",
     "iopub.status.idle": "2021-09-15T04:15:29.269457Z",
     "shell.execute_reply": "2021-09-15T04:15:29.268698Z",
     "shell.execute_reply.started": "2021-09-15T04:15:29.258623Z"
    }
   },
   "outputs": [],
   "source": [
    "pred = model.predict(valid[FEATS])\n",
    "valid[\"P_PRICE\"] = pred"
   ]
  },
  {
   "cell_type": "code",
   "execution_count": 155,
   "metadata": {
    "execution": {
     "iopub.execute_input": "2021-09-15T04:15:29.271006Z",
     "iopub.status.busy": "2021-09-15T04:15:29.270633Z",
     "iopub.status.idle": "2021-09-15T04:15:29.287057Z",
     "shell.execute_reply": "2021-09-15T04:15:29.286434Z",
     "shell.execute_reply.started": "2021-09-15T04:15:29.270972Z"
    }
   },
   "outputs": [],
   "source": [
    "pred1 = valid.loc[valid['P_NAME']==\"오징어\", :].groupby([\"REG_DATE\"])[\"P_PRICE\"].mean().tolist()\n",
    "pred2 = valid.loc[valid['P_NAME']==\"연어\", :].groupby([\"REG_DATE\"])[\"P_PRICE\"].mean().tolist()\n",
    "pred3 = valid.loc[valid['P_NAME']==\"흰다리새우\", :].groupby([\"REG_DATE\"])[\"P_PRICE\"].mean().tolist()\n",
    "\n",
    "prediction = pred1 + pred2 + pred3"
   ]
  },
  {
   "cell_type": "code",
   "execution_count": 156,
   "metadata": {
    "execution": {
     "iopub.execute_input": "2021-09-15T04:15:29.288375Z",
     "iopub.status.busy": "2021-09-15T04:15:29.288153Z",
     "iopub.status.idle": "2021-09-15T04:15:29.297429Z",
     "shell.execute_reply": "2021-09-15T04:15:29.296731Z",
     "shell.execute_reply.started": "2021-09-15T04:15:29.288344Z"
    }
   },
   "outputs": [
    {
     "data": {
      "text/plain": [
       "1.0651528904195824"
      ]
     },
     "execution_count": 156,
     "metadata": {},
     "output_type": "execute_result"
    }
   ],
   "source": [
    "rmse(ground_truth, prediction)"
   ]
  },
  {
   "cell_type": "code",
   "execution_count": 157,
   "metadata": {
    "execution": {
     "iopub.execute_input": "2021-09-15T04:15:29.299107Z",
     "iopub.status.busy": "2021-09-15T04:15:29.298750Z",
     "iopub.status.idle": "2021-09-15T04:15:29.373663Z",
     "shell.execute_reply": "2021-09-15T04:15:29.372881Z",
     "shell.execute_reply.started": "2021-09-15T04:15:29.299073Z"
    }
   },
   "outputs": [
    {
     "name": "stdout",
     "output_type": "stream",
     "text": [
      "CTRY_1_le 0.07021021\n",
      "CTRY_2_le 0.01036221\n",
      "P_NAME_le 0.012781565\n",
      "storage_le 0.13574798\n",
      "part_le 0.008187923\n",
      "process_le 0.29719895\n",
      "sashimi_le 0.32332537\n",
      "steaming_processing_le 0.14218579\n"
     ]
    }
   ],
   "source": [
    "for a, b in zip(FEATS, model.feature_importances_):\n",
    "    print(a, b)"
   ]
  },
  {
   "cell_type": "markdown",
   "metadata": {},
   "source": [
    "# TEST "
   ]
  },
  {
   "cell_type": "code",
   "execution_count": 158,
   "metadata": {
    "execution": {
     "iopub.execute_input": "2021-09-15T04:15:29.375222Z",
     "iopub.status.busy": "2021-09-15T04:15:29.374960Z",
     "iopub.status.idle": "2021-09-15T04:15:29.413600Z",
     "shell.execute_reply": "2021-09-15T04:15:29.412974Z",
     "shell.execute_reply.started": "2021-09-15T04:15:29.375190Z"
    }
   },
   "outputs": [],
   "source": [
    "data = pd.read_excel('../input/bigcontest/2021 ___Biz__update_210831.xlsx')"
   ]
  },
  {
   "cell_type": "code",
   "execution_count": 159,
   "metadata": {
    "execution": {
     "iopub.execute_input": "2021-09-15T04:15:29.415079Z",
     "iopub.status.busy": "2021-09-15T04:15:29.414542Z",
     "iopub.status.idle": "2021-09-15T04:15:29.422841Z",
     "shell.execute_reply": "2021-09-15T04:15:29.421422Z",
     "shell.execute_reply.started": "2021-09-15T04:15:29.415052Z"
    }
   },
   "outputs": [],
   "source": [
    "make_test = pd.DataFrame(columns=['REG_DATE', 'CATEGORY_2', 'P_NAME', 'P_PRICE'])"
   ]
  },
  {
   "cell_type": "code",
   "execution_count": 160,
   "metadata": {
    "execution": {
     "iopub.execute_input": "2021-09-15T04:15:29.424637Z",
     "iopub.status.busy": "2021-09-15T04:15:29.423841Z",
     "iopub.status.idle": "2021-09-15T04:15:29.432311Z",
     "shell.execute_reply": "2021-09-15T04:15:29.431583Z",
     "shell.execute_reply.started": "2021-09-15T04:15:29.424602Z"
    }
   },
   "outputs": [],
   "source": [
    "make_test['REG_DATE'] = data['일자']\n",
    "make_test['P_PRICE'] = 0\n",
    "squid = deepcopy(make_test)\n",
    "salmon = deepcopy(make_test)\n",
    "shrimp = deepcopy(make_test)"
   ]
  },
  {
   "cell_type": "code",
   "execution_count": 161,
   "metadata": {
    "execution": {
     "iopub.execute_input": "2021-09-15T04:15:29.434263Z",
     "iopub.status.busy": "2021-09-15T04:15:29.433460Z",
     "iopub.status.idle": "2021-09-15T04:15:29.441301Z",
     "shell.execute_reply": "2021-09-15T04:15:29.440540Z",
     "shell.execute_reply.started": "2021-09-15T04:15:29.434231Z"
    }
   },
   "outputs": [],
   "source": [
    "squid['CATEGORY_2'] = '오징어'\n",
    "squid['P_NAME'] = '오징어'\n",
    "salmon['CATEGORY_2'] = '연어'\n",
    "salmon['P_NAME'] = '연어'\n",
    "shrimp['CATEGORY_2'] = '새우'\n",
    "shrimp['P_NAME'] = '흰다리새우'"
   ]
  },
  {
   "cell_type": "code",
   "execution_count": 162,
   "metadata": {
    "execution": {
     "iopub.execute_input": "2021-09-15T04:15:29.443071Z",
     "iopub.status.busy": "2021-09-15T04:15:29.442592Z",
     "iopub.status.idle": "2021-09-15T04:15:29.450209Z",
     "shell.execute_reply": "2021-09-15T04:15:29.449480Z",
     "shell.execute_reply.started": "2021-09-15T04:15:29.443016Z"
    }
   },
   "outputs": [],
   "source": [
    "test = pd.concat([squid, salmon, shrimp]).reset_index(drop=True)\n",
    "test_2 = test"
   ]
  },
  {
   "cell_type": "code",
   "execution_count": 163,
   "metadata": {
    "execution": {
     "iopub.execute_input": "2021-09-15T04:15:29.451852Z",
     "iopub.status.busy": "2021-09-15T04:15:29.451524Z",
     "iopub.status.idle": "2021-09-15T04:15:29.461769Z",
     "shell.execute_reply": "2021-09-15T04:15:29.461053Z",
     "shell.execute_reply.started": "2021-09-15T04:15:29.451819Z"
    }
   },
   "outputs": [],
   "source": [
    "test['YEAR'] = test['REG_DATE'].dt.year\n",
    "test['MONTH'] = test['REG_DATE'].dt.month\n",
    "test['DAY'] = test['REG_DATE'].dt.day"
   ]
  },
  {
   "cell_type": "code",
   "execution_count": 164,
   "metadata": {
    "execution": {
     "iopub.execute_input": "2021-09-15T04:15:29.464425Z",
     "iopub.status.busy": "2021-09-15T04:15:29.464217Z",
     "iopub.status.idle": "2021-09-15T04:15:29.471964Z",
     "shell.execute_reply": "2021-09-15T04:15:29.471286Z",
     "shell.execute_reply.started": "2021-09-15T04:15:29.464397Z"
    }
   },
   "outputs": [],
   "source": [
    "test['주차'] = None"
   ]
  },
  {
   "cell_type": "code",
   "execution_count": 165,
   "metadata": {
    "execution": {
     "iopub.execute_input": "2021-09-15T04:15:29.476790Z",
     "iopub.status.busy": "2021-09-15T04:15:29.476537Z",
     "iopub.status.idle": "2021-09-15T04:15:29.546035Z",
     "shell.execute_reply": "2021-09-15T04:15:29.545272Z",
     "shell.execute_reply.started": "2021-09-15T04:15:29.476767Z"
    }
   },
   "outputs": [
    {
     "name": "stderr",
     "output_type": "stream",
     "text": [
      "/opt/conda/lib/python3.7/site-packages/ipykernel_launcher.py:9: SettingWithCopyWarning: \n",
      "A value is trying to be set on a copy of a slice from a DataFrame\n",
      "\n",
      "See the caveats in the documentation: https://pandas.pydata.org/pandas-docs/stable/user_guide/indexing.html#returning-a-view-versus-a-copy\n",
      "  if __name__ == '__main__':\n",
      "/opt/conda/lib/python3.7/site-packages/ipykernel_launcher.py:13: SettingWithCopyWarning: \n",
      "A value is trying to be set on a copy of a slice from a DataFrame\n",
      "\n",
      "See the caveats in the documentation: https://pandas.pydata.org/pandas-docs/stable/user_guide/indexing.html#returning-a-view-versus-a-copy\n",
      "  del sys.path[0]\n"
     ]
    }
   ],
   "source": [
    "for j in range(1,13):\n",
    "    max_ = 32\n",
    "    w = 1\n",
    "    for i in test.index:\n",
    "        if test.REG_DATE[i].month == j:\n",
    "            x = test.REG_DATE[i].day\n",
    "            if max_ >= x:\n",
    "                max_ = x\n",
    "                test['주차'][i] = w\n",
    "            else:\n",
    "                max_ = x\n",
    "                w += 1\n",
    "                test['주차'][i] = w"
   ]
  },
  {
   "cell_type": "markdown",
   "metadata": {
    "execution": {
     "iopub.execute_input": "2021-09-14T17:39:12.843062Z",
     "iopub.status.busy": "2021-09-14T17:39:12.842221Z",
     "iopub.status.idle": "2021-09-14T17:39:12.863174Z",
     "shell.execute_reply": "2021-09-14T17:39:12.862058Z",
     "shell.execute_reply.started": "2021-09-14T17:39:12.843021Z"
    }
   },
   "source": [
    "# CTRY_1 & CTRY_2 & P_PURPOSE"
   ]
  },
  {
   "cell_type": "code",
   "execution_count": 166,
   "metadata": {
    "execution": {
     "iopub.execute_input": "2021-09-15T04:15:29.547867Z",
     "iopub.status.busy": "2021-09-15T04:15:29.547606Z",
     "iopub.status.idle": "2021-09-15T04:15:31.057043Z",
     "shell.execute_reply": "2021-09-15T04:15:31.056132Z",
     "shell.execute_reply.started": "2021-09-15T04:15:29.547834Z"
    }
   },
   "outputs": [],
   "source": [
    "tmp = pd.DataFrame()\n",
    "j = 0\n",
    "\n",
    "for i in range(len(test)):\n",
    "    cond1 = train['P_NAME']==test.loc[i, 'P_NAME']\n",
    "    cond2 = train['MONTH']==test.loc[i, 'MONTH']\n",
    "    cond3 = train['주차']==test.loc[i, '주차']\n",
    "    cond = False\n",
    "    for a, b, c in train.loc[cond1 & cond2 & cond3, ['CTRY_1', 'CTRY_2', 'P_PURPOSE']].value_counts().sort_values(ascending=False)[:3].index:\n",
    "        cond = True\n",
    "        tmp.loc[j, 'REG_DATE'] = test.loc[i, 'REG_DATE']\n",
    "        tmp.loc[j, 'P_NAME'] = test.loc[i, 'P_NAME']\n",
    "        tmp.loc[j, 'CTRY_1'] = a\n",
    "        tmp.loc[j, 'CTRY_2'] = b\n",
    "        tmp.loc[j, 'P_PURPOSE'] = c\n",
    "        j += 1\n",
    "    if not cond:\n",
    "        for a, b, c in train.loc[cond1, ['CTRY_1', 'CTRY_2','P_PURPOSE']].value_counts()[:3].index:\n",
    "            tmp.loc[j, 'REG_DATE'] = test.loc[i, 'REG_DATE']\n",
    "            tmp.loc[j, 'P_NAME'] = test.loc[i, 'P_NAME']\n",
    "            tmp.loc[j, 'CTRY_1'] = a\n",
    "            tmp.loc[j, 'CTRY_2'] = b\n",
    "            tmp.loc[j, 'P_PURPOSE'] = c\n",
    "            j += 1"
   ]
  },
  {
   "cell_type": "code",
   "execution_count": 167,
   "metadata": {
    "execution": {
     "iopub.execute_input": "2021-09-15T04:15:31.058683Z",
     "iopub.status.busy": "2021-09-15T04:15:31.058430Z",
     "iopub.status.idle": "2021-09-15T04:15:31.067696Z",
     "shell.execute_reply": "2021-09-15T04:15:31.066441Z",
     "shell.execute_reply.started": "2021-09-15T04:15:31.058647Z"
    }
   },
   "outputs": [],
   "source": [
    "test = tmp.merge(test, how='outer', on=['REG_DATE', 'P_NAME'])"
   ]
  },
  {
   "cell_type": "markdown",
   "metadata": {},
   "source": [
    "# STORAGE 예측"
   ]
  },
  {
   "cell_type": "code",
   "execution_count": 168,
   "metadata": {
    "execution": {
     "iopub.execute_input": "2021-09-15T04:15:31.069433Z",
     "iopub.status.busy": "2021-09-15T04:15:31.069073Z",
     "iopub.status.idle": "2021-09-15T04:15:31.078518Z",
     "shell.execute_reply": "2021-09-15T04:15:31.077739Z",
     "shell.execute_reply.started": "2021-09-15T04:15:31.069399Z"
    }
   },
   "outputs": [],
   "source": [
    "test = test.fillna('null')"
   ]
  },
  {
   "cell_type": "code",
   "execution_count": 169,
   "metadata": {
    "execution": {
     "iopub.execute_input": "2021-09-15T04:15:31.080152Z",
     "iopub.status.busy": "2021-09-15T04:15:31.079883Z",
     "iopub.status.idle": "2021-09-15T04:15:31.087182Z",
     "shell.execute_reply": "2021-09-15T04:15:31.086472Z",
     "shell.execute_reply.started": "2021-09-15T04:15:31.080108Z"
    }
   },
   "outputs": [],
   "source": [
    "str_FEATS = ['CTRY_1', 'CTRY_2', 'P_NAME', 'P_PURPOSE',]"
   ]
  },
  {
   "cell_type": "code",
   "execution_count": 170,
   "metadata": {
    "execution": {
     "iopub.execute_input": "2021-09-15T04:15:31.088710Z",
     "iopub.status.busy": "2021-09-15T04:15:31.088453Z",
     "iopub.status.idle": "2021-09-15T04:15:36.262302Z",
     "shell.execute_reply": "2021-09-15T04:15:36.261507Z",
     "shell.execute_reply.started": "2021-09-15T04:15:31.088679Z"
    }
   },
   "outputs": [],
   "source": [
    "for feat in str_FEATS:\n",
    "    test[feat+'_le'] = test[feat].apply(lambda x: train.loc[train[feat]==x, feat+'_le'].unique()[0])"
   ]
  },
  {
   "cell_type": "code",
   "execution_count": 171,
   "metadata": {
    "execution": {
     "iopub.execute_input": "2021-09-15T04:15:36.264186Z",
     "iopub.status.busy": "2021-09-15T04:15:36.263855Z",
     "iopub.status.idle": "2021-09-15T04:15:36.269189Z",
     "shell.execute_reply": "2021-09-15T04:15:36.268184Z",
     "shell.execute_reply.started": "2021-09-15T04:15:36.264119Z"
    }
   },
   "outputs": [],
   "source": [
    "FEATS = ['주차', 'YEAR', 'MONTH','CTRY_1_le', 'CTRY_2_le',\n",
    "       'P_NAME_le','P_PURPOSE_le']\n",
    "TARGET = ['storage_le']"
   ]
  },
  {
   "cell_type": "code",
   "execution_count": 172,
   "metadata": {
    "execution": {
     "iopub.execute_input": "2021-09-15T04:15:36.270938Z",
     "iopub.status.busy": "2021-09-15T04:15:36.270679Z",
     "iopub.status.idle": "2021-09-15T04:15:36.281395Z",
     "shell.execute_reply": "2021-09-15T04:15:36.280672Z",
     "shell.execute_reply.started": "2021-09-15T04:15:36.270906Z"
    }
   },
   "outputs": [],
   "source": [
    "model = XGBClassifier(**params)"
   ]
  },
  {
   "cell_type": "code",
   "execution_count": 173,
   "metadata": {
    "execution": {
     "iopub.execute_input": "2021-09-15T04:15:36.282803Z",
     "iopub.status.busy": "2021-09-15T04:15:36.282411Z",
     "iopub.status.idle": "2021-09-15T04:15:44.050866Z",
     "shell.execute_reply": "2021-09-15T04:15:44.050149Z",
     "shell.execute_reply.started": "2021-09-15T04:15:36.282769Z"
    }
   },
   "outputs": [
    {
     "name": "stderr",
     "output_type": "stream",
     "text": [
      "/opt/conda/lib/python3.7/site-packages/xgboost/sklearn.py:1146: UserWarning: The use of label encoder in XGBClassifier is deprecated and will be removed in a future release. To remove this warning, do the following: 1) Pass option use_label_encoder=False when constructing XGBClassifier object; and 2) Encode your labels (y) as integers starting with 0, i.e. 0, 1, 2, ..., [num_class - 1].\n",
      "  warnings.warn(label_encoder_deprecation_msg, UserWarning)\n",
      "/opt/conda/lib/python3.7/site-packages/sklearn/utils/validation.py:72: DataConversionWarning: A column-vector y was passed when a 1d array was expected. Please change the shape of y to (n_samples, ), for example using ravel().\n",
      "  return f(**kwargs)\n"
     ]
    },
    {
     "name": "stdout",
     "output_type": "stream",
     "text": [
      "[04:15:36] WARNING: ../src/learner.cc:573: \n",
      "Parameters: { \"devices\", \"iterations\", \"one_hot_max_size\", \"scale_pos_weight\", \"task_type\" } might not be used.\n",
      "\n",
      "  This may not be accurate due to some parameters are only used in language bindings but\n",
      "  passed down to XGBoost core.  Or some parameters are not used but slip through this\n",
      "  verification. Please open an issue if you find above cases.\n",
      "\n",
      "\n",
      "[04:15:36] WARNING: ../src/learner.cc:1095: Starting in XGBoost 1.3.0, the default evaluation metric used with the objective 'multi:softprob' was changed from 'merror' to 'mlogloss'. Explicitly set eval_metric if you'd like to restore the old behavior.\n"
     ]
    },
    {
     "data": {
      "text/plain": [
       "XGBClassifier(base_score=0.5, booster='gbtree', colsample_bylevel=1,\n",
       "              colsample_bynode=1, colsample_bytree=1, devices='0:1', gamma=0,\n",
       "              gpu_id=-1, importance_type='gain', interaction_constraints='',\n",
       "              iterations=500, learning_rate=0.1, max_delta_step=0, max_depth=6,\n",
       "              min_child_weight=1, missing=nan, monotone_constraints='()',\n",
       "              n_estimators=100, n_jobs=2, num_parallel_tree=1,\n",
       "              objective='multi:softprob', one_hot_max_size=256, random_state=2,\n",
       "              reg_alpha=0, reg_lambda=1, scale_pos_weight=1, subsample=1,\n",
       "              task_type='GPU', tree_method='exact', validate_parameters=1, ...)"
      ]
     },
     "execution_count": 173,
     "metadata": {},
     "output_type": "execute_result"
    }
   ],
   "source": [
    "model.fit(train[FEATS],train[TARGET])"
   ]
  },
  {
   "cell_type": "code",
   "execution_count": 174,
   "metadata": {
    "execution": {
     "iopub.execute_input": "2021-09-15T04:15:44.052360Z",
     "iopub.status.busy": "2021-09-15T04:15:44.052055Z",
     "iopub.status.idle": "2021-09-15T04:15:44.064550Z",
     "shell.execute_reply": "2021-09-15T04:15:44.063845Z",
     "shell.execute_reply.started": "2021-09-15T04:15:44.052324Z"
    }
   },
   "outputs": [],
   "source": [
    "predition = model.predict(test[FEATS])\n",
    "test['storage_le'] = predition"
   ]
  },
  {
   "cell_type": "markdown",
   "metadata": {},
   "source": [
    "# PART 예측"
   ]
  },
  {
   "cell_type": "code",
   "execution_count": 175,
   "metadata": {
    "execution": {
     "iopub.execute_input": "2021-09-15T04:15:44.066730Z",
     "iopub.status.busy": "2021-09-15T04:15:44.066170Z",
     "iopub.status.idle": "2021-09-15T04:15:44.071834Z",
     "shell.execute_reply": "2021-09-15T04:15:44.070332Z",
     "shell.execute_reply.started": "2021-09-15T04:15:44.066695Z"
    }
   },
   "outputs": [],
   "source": [
    "FEATS = [ 'YEAR', 'MONTH', '주차', 'CTRY_1_le', 'CTRY_2_le', 'P_NAME_le','storage_le', 'P_PURPOSE_le']\n",
    "TARGET = ['part_le']"
   ]
  },
  {
   "cell_type": "code",
   "execution_count": 176,
   "metadata": {
    "execution": {
     "iopub.execute_input": "2021-09-15T04:15:44.073412Z",
     "iopub.status.busy": "2021-09-15T04:15:44.073201Z",
     "iopub.status.idle": "2021-09-15T04:15:44.080906Z",
     "shell.execute_reply": "2021-09-15T04:15:44.080069Z",
     "shell.execute_reply.started": "2021-09-15T04:15:44.073389Z"
    }
   },
   "outputs": [],
   "source": [
    "model = XGBClassifier(**params)"
   ]
  },
  {
   "cell_type": "code",
   "execution_count": 177,
   "metadata": {
    "execution": {
     "iopub.execute_input": "2021-09-15T04:15:44.082620Z",
     "iopub.status.busy": "2021-09-15T04:15:44.082405Z",
     "iopub.status.idle": "2021-09-15T04:16:09.815089Z",
     "shell.execute_reply": "2021-09-15T04:16:09.814395Z",
     "shell.execute_reply.started": "2021-09-15T04:15:44.082596Z"
    }
   },
   "outputs": [
    {
     "name": "stdout",
     "output_type": "stream",
     "text": [
      "[04:15:44] WARNING: ../src/learner.cc:573: \n",
      "Parameters: { \"devices\", \"iterations\", \"one_hot_max_size\", \"scale_pos_weight\", \"task_type\" } might not be used.\n",
      "\n",
      "  This may not be accurate due to some parameters are only used in language bindings but\n",
      "  passed down to XGBoost core.  Or some parameters are not used but slip through this\n",
      "  verification. Please open an issue if you find above cases.\n",
      "\n",
      "\n",
      "[04:15:44] WARNING: ../src/learner.cc:1095: Starting in XGBoost 1.3.0, the default evaluation metric used with the objective 'multi:softprob' was changed from 'merror' to 'mlogloss'. Explicitly set eval_metric if you'd like to restore the old behavior.\n"
     ]
    },
    {
     "data": {
      "text/plain": [
       "XGBClassifier(base_score=0.5, booster='gbtree', colsample_bylevel=1,\n",
       "              colsample_bynode=1, colsample_bytree=1, devices='0:1', gamma=0,\n",
       "              gpu_id=-1, importance_type='gain', interaction_constraints='',\n",
       "              iterations=500, learning_rate=0.1, max_delta_step=0, max_depth=6,\n",
       "              min_child_weight=1, missing=nan, monotone_constraints='()',\n",
       "              n_estimators=100, n_jobs=2, num_parallel_tree=1,\n",
       "              objective='multi:softprob', one_hot_max_size=256, random_state=2,\n",
       "              reg_alpha=0, reg_lambda=1, scale_pos_weight=1, subsample=1,\n",
       "              task_type='GPU', tree_method='exact', validate_parameters=1, ...)"
      ]
     },
     "execution_count": 177,
     "metadata": {},
     "output_type": "execute_result"
    }
   ],
   "source": [
    "model.fit(train[FEATS],train[TARGET])"
   ]
  },
  {
   "cell_type": "code",
   "execution_count": 178,
   "metadata": {
    "execution": {
     "iopub.execute_input": "2021-09-15T04:16:09.816603Z",
     "iopub.status.busy": "2021-09-15T04:16:09.816346Z",
     "iopub.status.idle": "2021-09-15T04:16:09.830090Z",
     "shell.execute_reply": "2021-09-15T04:16:09.829397Z",
     "shell.execute_reply.started": "2021-09-15T04:16:09.816570Z"
    }
   },
   "outputs": [],
   "source": [
    "predition = model.predict(test[FEATS])\n",
    "test['part_le'] = predition"
   ]
  },
  {
   "cell_type": "markdown",
   "metadata": {
    "execution": {
     "iopub.execute_input": "2021-09-14T17:54:50.886187Z",
     "iopub.status.busy": "2021-09-14T17:54:50.885687Z",
     "iopub.status.idle": "2021-09-14T17:54:50.892001Z",
     "shell.execute_reply": "2021-09-14T17:54:50.890523Z",
     "shell.execute_reply.started": "2021-09-14T17:54:50.886147Z"
    }
   },
   "source": [
    "# PROCESS 예측"
   ]
  },
  {
   "cell_type": "code",
   "execution_count": 179,
   "metadata": {
    "execution": {
     "iopub.execute_input": "2021-09-15T04:16:09.831691Z",
     "iopub.status.busy": "2021-09-15T04:16:09.831426Z",
     "iopub.status.idle": "2021-09-15T04:16:09.835993Z",
     "shell.execute_reply": "2021-09-15T04:16:09.835053Z",
     "shell.execute_reply.started": "2021-09-15T04:16:09.831658Z"
    }
   },
   "outputs": [],
   "source": [
    "FEATS = [ 'YEAR', 'MONTH', '주차', 'CTRY_1_le', 'CTRY_2_le', 'P_NAME_le','storage_le','part_le', 'P_PURPOSE_le']\n",
    "TARGET = ['process_le']"
   ]
  },
  {
   "cell_type": "code",
   "execution_count": 180,
   "metadata": {
    "execution": {
     "iopub.execute_input": "2021-09-15T04:16:09.839185Z",
     "iopub.status.busy": "2021-09-15T04:16:09.837817Z",
     "iopub.status.idle": "2021-09-15T04:16:09.845980Z",
     "shell.execute_reply": "2021-09-15T04:16:09.845308Z",
     "shell.execute_reply.started": "2021-09-15T04:16:09.839151Z"
    }
   },
   "outputs": [],
   "source": [
    "model = XGBClassifier(**params)"
   ]
  },
  {
   "cell_type": "code",
   "execution_count": 181,
   "metadata": {
    "execution": {
     "iopub.execute_input": "2021-09-15T04:16:09.847640Z",
     "iopub.status.busy": "2021-09-15T04:16:09.847132Z",
     "iopub.status.idle": "2021-09-15T04:16:19.516414Z",
     "shell.execute_reply": "2021-09-15T04:16:19.515707Z",
     "shell.execute_reply.started": "2021-09-15T04:16:09.847603Z"
    }
   },
   "outputs": [
    {
     "name": "stdout",
     "output_type": "stream",
     "text": [
      "[04:16:09] WARNING: ../src/learner.cc:573: \n",
      "Parameters: { \"devices\", \"iterations\", \"one_hot_max_size\", \"scale_pos_weight\", \"task_type\" } might not be used.\n",
      "\n",
      "  This may not be accurate due to some parameters are only used in language bindings but\n",
      "  passed down to XGBoost core.  Or some parameters are not used but slip through this\n",
      "  verification. Please open an issue if you find above cases.\n",
      "\n",
      "\n",
      "[04:16:09] WARNING: ../src/learner.cc:1095: Starting in XGBoost 1.3.0, the default evaluation metric used with the objective 'multi:softprob' was changed from 'merror' to 'mlogloss'. Explicitly set eval_metric if you'd like to restore the old behavior.\n"
     ]
    },
    {
     "data": {
      "text/plain": [
       "XGBClassifier(base_score=0.5, booster='gbtree', colsample_bylevel=1,\n",
       "              colsample_bynode=1, colsample_bytree=1, devices='0:1', gamma=0,\n",
       "              gpu_id=-1, importance_type='gain', interaction_constraints='',\n",
       "              iterations=500, learning_rate=0.1, max_delta_step=0, max_depth=6,\n",
       "              min_child_weight=1, missing=nan, monotone_constraints='()',\n",
       "              n_estimators=100, n_jobs=2, num_parallel_tree=1,\n",
       "              objective='multi:softprob', one_hot_max_size=256, random_state=2,\n",
       "              reg_alpha=0, reg_lambda=1, scale_pos_weight=1, subsample=1,\n",
       "              task_type='GPU', tree_method='exact', validate_parameters=1, ...)"
      ]
     },
     "execution_count": 181,
     "metadata": {},
     "output_type": "execute_result"
    }
   ],
   "source": [
    "model.fit(train[FEATS],train[TARGET])"
   ]
  },
  {
   "cell_type": "code",
   "execution_count": 182,
   "metadata": {
    "execution": {
     "iopub.execute_input": "2021-09-15T04:16:19.517961Z",
     "iopub.status.busy": "2021-09-15T04:16:19.517689Z",
     "iopub.status.idle": "2021-09-15T04:16:19.529221Z",
     "shell.execute_reply": "2021-09-15T04:16:19.528542Z",
     "shell.execute_reply.started": "2021-09-15T04:16:19.517927Z"
    }
   },
   "outputs": [],
   "source": [
    "predition = model.predict(test[FEATS])\n",
    "test['process_le'] = predition"
   ]
  },
  {
   "cell_type": "markdown",
   "metadata": {},
   "source": [
    "# SASHIMI예측"
   ]
  },
  {
   "cell_type": "code",
   "execution_count": 183,
   "metadata": {
    "execution": {
     "iopub.execute_input": "2021-09-15T04:16:19.530917Z",
     "iopub.status.busy": "2021-09-15T04:16:19.530572Z",
     "iopub.status.idle": "2021-09-15T04:16:19.535727Z",
     "shell.execute_reply": "2021-09-15T04:16:19.534911Z",
     "shell.execute_reply.started": "2021-09-15T04:16:19.530884Z"
    }
   },
   "outputs": [],
   "source": [
    "FEATS = [ 'YEAR', 'MONTH', '주차', 'CTRY_1_le', 'CTRY_2_le', 'P_NAME_le','storage_le','part_le', 'P_PURPOSE_le']\n",
    "TARGET = ['sashimi_le']"
   ]
  },
  {
   "cell_type": "code",
   "execution_count": 184,
   "metadata": {
    "execution": {
     "iopub.execute_input": "2021-09-15T04:16:19.537310Z",
     "iopub.status.busy": "2021-09-15T04:16:19.536975Z",
     "iopub.status.idle": "2021-09-15T04:16:19.545144Z",
     "shell.execute_reply": "2021-09-15T04:16:19.544265Z",
     "shell.execute_reply.started": "2021-09-15T04:16:19.537273Z"
    }
   },
   "outputs": [],
   "source": [
    "model = XGBClassifier(**params)"
   ]
  },
  {
   "cell_type": "code",
   "execution_count": 185,
   "metadata": {
    "execution": {
     "iopub.execute_input": "2021-09-15T04:16:19.546519Z",
     "iopub.status.busy": "2021-09-15T04:16:19.546326Z",
     "iopub.status.idle": "2021-09-15T04:16:24.890957Z",
     "shell.execute_reply": "2021-09-15T04:16:24.890101Z",
     "shell.execute_reply.started": "2021-09-15T04:16:19.546498Z"
    }
   },
   "outputs": [
    {
     "name": "stdout",
     "output_type": "stream",
     "text": [
      "[04:16:19] WARNING: ../src/learner.cc:573: \n",
      "Parameters: { \"devices\", \"iterations\", \"one_hot_max_size\", \"scale_pos_weight\", \"task_type\" } might not be used.\n",
      "\n",
      "  This may not be accurate due to some parameters are only used in language bindings but\n",
      "  passed down to XGBoost core.  Or some parameters are not used but slip through this\n",
      "  verification. Please open an issue if you find above cases.\n",
      "\n",
      "\n",
      "[04:16:19] WARNING: ../src/learner.cc:1095: Starting in XGBoost 1.3.0, the default evaluation metric used with the objective 'multi:softprob' was changed from 'merror' to 'mlogloss'. Explicitly set eval_metric if you'd like to restore the old behavior.\n"
     ]
    },
    {
     "data": {
      "text/plain": [
       "XGBClassifier(base_score=0.5, booster='gbtree', colsample_bylevel=1,\n",
       "              colsample_bynode=1, colsample_bytree=1, devices='0:1', gamma=0,\n",
       "              gpu_id=-1, importance_type='gain', interaction_constraints='',\n",
       "              iterations=500, learning_rate=0.1, max_delta_step=0, max_depth=6,\n",
       "              min_child_weight=1, missing=nan, monotone_constraints='()',\n",
       "              n_estimators=100, n_jobs=2, num_parallel_tree=1,\n",
       "              objective='multi:softprob', one_hot_max_size=256, random_state=2,\n",
       "              reg_alpha=0, reg_lambda=1, scale_pos_weight=1, subsample=1,\n",
       "              task_type='GPU', tree_method='exact', validate_parameters=1, ...)"
      ]
     },
     "execution_count": 185,
     "metadata": {},
     "output_type": "execute_result"
    }
   ],
   "source": [
    "model.fit(train[FEATS],train[TARGET])"
   ]
  },
  {
   "cell_type": "code",
   "execution_count": 186,
   "metadata": {
    "execution": {
     "iopub.execute_input": "2021-09-15T04:16:24.897569Z",
     "iopub.status.busy": "2021-09-15T04:16:24.895108Z",
     "iopub.status.idle": "2021-09-15T04:16:24.921886Z",
     "shell.execute_reply": "2021-09-15T04:16:24.921206Z",
     "shell.execute_reply.started": "2021-09-15T04:16:24.897529Z"
    }
   },
   "outputs": [],
   "source": [
    "predition = model.predict(test[FEATS])\n",
    "test['sashimi_le'] = predition"
   ]
  },
  {
   "cell_type": "markdown",
   "metadata": {},
   "source": [
    "# STEAMING_PROCESSING 예측"
   ]
  },
  {
   "cell_type": "code",
   "execution_count": 188,
   "metadata": {
    "execution": {
     "iopub.execute_input": "2021-09-15T04:16:24.948601Z",
     "iopub.status.busy": "2021-09-15T04:16:24.946518Z",
     "iopub.status.idle": "2021-09-15T04:16:24.956763Z",
     "shell.execute_reply": "2021-09-15T04:16:24.956161Z",
     "shell.execute_reply.started": "2021-09-15T04:16:24.948566Z"
    }
   },
   "outputs": [],
   "source": [
    "params = {\n",
    "    \"iterations\": 500,\n",
    "    \"learning_rate\": 0.1,\n",
    "    \"task_type\": \"GPU\",\n",
    "    \"devices\": \"0:1\",\n",
    "    'one_hot_max_size':256,\n",
    "    'random_state':2\n",
    "}"
   ]
  },
  {
   "cell_type": "code",
   "execution_count": 189,
   "metadata": {
    "execution": {
     "iopub.execute_input": "2021-09-15T04:16:24.961172Z",
     "iopub.status.busy": "2021-09-15T04:16:24.960682Z",
     "iopub.status.idle": "2021-09-15T04:16:24.968529Z",
     "shell.execute_reply": "2021-09-15T04:16:24.967551Z",
     "shell.execute_reply.started": "2021-09-15T04:16:24.961114Z"
    }
   },
   "outputs": [],
   "source": [
    "model_C = CatBoostClassifier(**params)"
   ]
  },
  {
   "cell_type": "code",
   "execution_count": 190,
   "metadata": {
    "execution": {
     "iopub.execute_input": "2021-09-15T04:16:24.974205Z",
     "iopub.status.busy": "2021-09-15T04:16:24.972823Z",
     "iopub.status.idle": "2021-09-15T04:16:24.981603Z",
     "shell.execute_reply": "2021-09-15T04:16:24.980741Z",
     "shell.execute_reply.started": "2021-09-15T04:16:24.974168Z"
    }
   },
   "outputs": [],
   "source": [
    "FEATS = [ 'YEAR', 'MONTH', '주차', 'CTRY_1_le', 'CTRY_2_le', 'P_NAME_le','storage_le','part_le','sashimi_le', 'P_PURPOSE_le']\n",
    "TARGET = ['steaming_processing_le']"
   ]
  },
  {
   "cell_type": "code",
   "execution_count": 191,
   "metadata": {
    "collapsed": true,
    "execution": {
     "iopub.execute_input": "2021-09-15T04:16:24.986005Z",
     "iopub.status.busy": "2021-09-15T04:16:24.983849Z",
     "iopub.status.idle": "2021-09-15T04:16:57.392355Z",
     "shell.execute_reply": "2021-09-15T04:16:57.391708Z",
     "shell.execute_reply.started": "2021-09-15T04:16:24.985949Z"
    },
    "jupyter": {
     "outputs_hidden": true
    }
   },
   "outputs": [
    {
     "name": "stdout",
     "output_type": "stream",
     "text": [
      "0:\tlearn: 0.4939278\ttotal: 71.3ms\tremaining: 35.6s\n",
      "1:\tlearn: 0.3746446\ttotal: 135ms\tremaining: 33.6s\n",
      "2:\tlearn: 0.3075324\ttotal: 201ms\tremaining: 33.2s\n",
      "3:\tlearn: 0.2631550\ttotal: 262ms\tremaining: 32.5s\n",
      "4:\tlearn: 0.2321036\ttotal: 332ms\tremaining: 32.9s\n",
      "5:\tlearn: 0.2096915\ttotal: 393ms\tremaining: 32.4s\n",
      "6:\tlearn: 0.1935464\ttotal: 455ms\tremaining: 32s\n",
      "7:\tlearn: 0.1820895\ttotal: 522ms\tremaining: 32.1s\n",
      "8:\tlearn: 0.1738029\ttotal: 586ms\tremaining: 32s\n",
      "9:\tlearn: 0.1671024\ttotal: 647ms\tremaining: 31.7s\n",
      "10:\tlearn: 0.1609670\ttotal: 709ms\tremaining: 31.5s\n",
      "11:\tlearn: 0.1559244\ttotal: 771ms\tremaining: 31.3s\n",
      "12:\tlearn: 0.1515219\ttotal: 833ms\tremaining: 31.2s\n",
      "13:\tlearn: 0.1480274\ttotal: 895ms\tremaining: 31.1s\n",
      "14:\tlearn: 0.1438441\ttotal: 957ms\tremaining: 30.9s\n",
      "15:\tlearn: 0.1385941\ttotal: 1.02s\tremaining: 30.8s\n",
      "16:\tlearn: 0.1358837\ttotal: 1.08s\tremaining: 30.7s\n",
      "17:\tlearn: 0.1330082\ttotal: 1.14s\tremaining: 30.6s\n",
      "18:\tlearn: 0.1291795\ttotal: 1.2s\tremaining: 30.5s\n",
      "19:\tlearn: 0.1273272\ttotal: 1.26s\tremaining: 30.4s\n",
      "20:\tlearn: 0.1241885\ttotal: 1.33s\tremaining: 30.3s\n",
      "21:\tlearn: 0.1202711\ttotal: 1.39s\tremaining: 30.2s\n",
      "22:\tlearn: 0.1177510\ttotal: 1.47s\tremaining: 30.5s\n",
      "23:\tlearn: 0.1165312\ttotal: 1.53s\tremaining: 30.5s\n",
      "24:\tlearn: 0.1140214\ttotal: 1.6s\tremaining: 30.4s\n",
      "25:\tlearn: 0.1120874\ttotal: 1.66s\tremaining: 30.2s\n",
      "26:\tlearn: 0.1106243\ttotal: 1.72s\tremaining: 30.2s\n",
      "27:\tlearn: 0.1090446\ttotal: 1.79s\tremaining: 30.1s\n",
      "28:\tlearn: 0.1064645\ttotal: 1.85s\tremaining: 30.1s\n",
      "29:\tlearn: 0.1046582\ttotal: 1.91s\tremaining: 30s\n",
      "30:\tlearn: 0.1030632\ttotal: 1.98s\tremaining: 29.9s\n",
      "31:\tlearn: 0.1015555\ttotal: 2.04s\tremaining: 29.9s\n",
      "32:\tlearn: 0.0997251\ttotal: 2.1s\tremaining: 29.8s\n",
      "33:\tlearn: 0.0980434\ttotal: 2.17s\tremaining: 29.7s\n",
      "34:\tlearn: 0.0971458\ttotal: 2.23s\tremaining: 29.6s\n",
      "35:\tlearn: 0.0957387\ttotal: 2.29s\tremaining: 29.6s\n",
      "36:\tlearn: 0.0949734\ttotal: 2.35s\tremaining: 29.5s\n",
      "37:\tlearn: 0.0943653\ttotal: 2.42s\tremaining: 29.4s\n",
      "38:\tlearn: 0.0935943\ttotal: 2.48s\tremaining: 29.3s\n",
      "39:\tlearn: 0.0923180\ttotal: 2.54s\tremaining: 29.3s\n",
      "40:\tlearn: 0.0912298\ttotal: 2.61s\tremaining: 29.2s\n",
      "41:\tlearn: 0.0905301\ttotal: 2.67s\tremaining: 29.1s\n",
      "42:\tlearn: 0.0893784\ttotal: 2.73s\tremaining: 29s\n",
      "43:\tlearn: 0.0885784\ttotal: 2.8s\tremaining: 29s\n",
      "44:\tlearn: 0.0875894\ttotal: 2.86s\tremaining: 28.9s\n",
      "45:\tlearn: 0.0862326\ttotal: 2.92s\tremaining: 28.8s\n",
      "46:\tlearn: 0.0856399\ttotal: 2.98s\tremaining: 28.8s\n",
      "47:\tlearn: 0.0846746\ttotal: 3.05s\tremaining: 28.7s\n",
      "48:\tlearn: 0.0841818\ttotal: 3.11s\tremaining: 28.6s\n",
      "49:\tlearn: 0.0835232\ttotal: 3.17s\tremaining: 28.6s\n",
      "50:\tlearn: 0.0831233\ttotal: 3.23s\tremaining: 28.5s\n",
      "51:\tlearn: 0.0824329\ttotal: 3.3s\tremaining: 28.4s\n",
      "52:\tlearn: 0.0817049\ttotal: 3.38s\tremaining: 28.5s\n",
      "53:\tlearn: 0.0810653\ttotal: 3.48s\tremaining: 28.7s\n",
      "54:\tlearn: 0.0804468\ttotal: 3.55s\tremaining: 28.7s\n",
      "55:\tlearn: 0.0798764\ttotal: 3.63s\tremaining: 28.8s\n",
      "56:\tlearn: 0.0793520\ttotal: 3.7s\tremaining: 28.8s\n",
      "57:\tlearn: 0.0790889\ttotal: 3.78s\tremaining: 28.8s\n",
      "58:\tlearn: 0.0788958\ttotal: 3.86s\tremaining: 28.8s\n",
      "59:\tlearn: 0.0784489\ttotal: 3.95s\tremaining: 28.9s\n",
      "60:\tlearn: 0.0781425\ttotal: 4.04s\tremaining: 29.1s\n",
      "61:\tlearn: 0.0775077\ttotal: 4.12s\tremaining: 29.1s\n",
      "62:\tlearn: 0.0771230\ttotal: 4.27s\tremaining: 29.6s\n",
      "63:\tlearn: 0.0761104\ttotal: 4.42s\tremaining: 30.1s\n",
      "64:\tlearn: 0.0755016\ttotal: 4.57s\tremaining: 30.6s\n",
      "65:\tlearn: 0.0751600\ttotal: 4.66s\tremaining: 30.6s\n",
      "66:\tlearn: 0.0747182\ttotal: 4.72s\tremaining: 30.5s\n",
      "67:\tlearn: 0.0741911\ttotal: 4.78s\tremaining: 30.4s\n",
      "68:\tlearn: 0.0731147\ttotal: 4.85s\tremaining: 30.3s\n",
      "69:\tlearn: 0.0729832\ttotal: 4.91s\tremaining: 30.2s\n",
      "70:\tlearn: 0.0728470\ttotal: 4.97s\tremaining: 30s\n",
      "71:\tlearn: 0.0725477\ttotal: 5.04s\tremaining: 29.9s\n",
      "72:\tlearn: 0.0721960\ttotal: 5.1s\tremaining: 29.8s\n",
      "73:\tlearn: 0.0716983\ttotal: 5.16s\tremaining: 29.7s\n",
      "74:\tlearn: 0.0714270\ttotal: 5.22s\tremaining: 29.6s\n",
      "75:\tlearn: 0.0709428\ttotal: 5.29s\tremaining: 29.5s\n",
      "76:\tlearn: 0.0707722\ttotal: 5.35s\tremaining: 29.4s\n",
      "77:\tlearn: 0.0697503\ttotal: 5.41s\tremaining: 29.3s\n",
      "78:\tlearn: 0.0695545\ttotal: 5.47s\tremaining: 29.2s\n",
      "79:\tlearn: 0.0691792\ttotal: 5.54s\tremaining: 29.1s\n",
      "80:\tlearn: 0.0688898\ttotal: 5.6s\tremaining: 29s\n",
      "81:\tlearn: 0.0685587\ttotal: 5.66s\tremaining: 28.9s\n",
      "82:\tlearn: 0.0683873\ttotal: 5.72s\tremaining: 28.8s\n",
      "83:\tlearn: 0.0683452\ttotal: 5.79s\tremaining: 28.7s\n",
      "84:\tlearn: 0.0682627\ttotal: 5.85s\tremaining: 28.6s\n",
      "85:\tlearn: 0.0681489\ttotal: 5.92s\tremaining: 28.5s\n",
      "86:\tlearn: 0.0677378\ttotal: 5.98s\tremaining: 28.4s\n",
      "87:\tlearn: 0.0674426\ttotal: 6.04s\tremaining: 28.3s\n",
      "88:\tlearn: 0.0671961\ttotal: 6.1s\tremaining: 28.2s\n",
      "89:\tlearn: 0.0667966\ttotal: 6.17s\tremaining: 28.1s\n",
      "90:\tlearn: 0.0666047\ttotal: 6.23s\tremaining: 28s\n",
      "91:\tlearn: 0.0663385\ttotal: 6.29s\tremaining: 27.9s\n",
      "92:\tlearn: 0.0660433\ttotal: 6.36s\tremaining: 27.8s\n",
      "93:\tlearn: 0.0650360\ttotal: 6.42s\tremaining: 27.7s\n",
      "94:\tlearn: 0.0648625\ttotal: 6.48s\tremaining: 27.6s\n",
      "95:\tlearn: 0.0644462\ttotal: 6.54s\tremaining: 27.5s\n",
      "96:\tlearn: 0.0639508\ttotal: 6.61s\tremaining: 27.4s\n",
      "97:\tlearn: 0.0635619\ttotal: 6.67s\tremaining: 27.4s\n",
      "98:\tlearn: 0.0633780\ttotal: 6.73s\tremaining: 27.3s\n",
      "99:\tlearn: 0.0633205\ttotal: 6.8s\tremaining: 27.2s\n",
      "100:\tlearn: 0.0632233\ttotal: 6.86s\tremaining: 27.1s\n",
      "101:\tlearn: 0.0630728\ttotal: 6.92s\tremaining: 27s\n",
      "102:\tlearn: 0.0630235\ttotal: 6.98s\tremaining: 26.9s\n",
      "103:\tlearn: 0.0629698\ttotal: 7.05s\tremaining: 26.8s\n",
      "104:\tlearn: 0.0627838\ttotal: 7.11s\tremaining: 26.7s\n",
      "105:\tlearn: 0.0626294\ttotal: 7.17s\tremaining: 26.7s\n",
      "106:\tlearn: 0.0625514\ttotal: 7.23s\tremaining: 26.6s\n",
      "107:\tlearn: 0.0618832\ttotal: 7.3s\tremaining: 26.5s\n",
      "108:\tlearn: 0.0616952\ttotal: 7.36s\tremaining: 26.4s\n",
      "109:\tlearn: 0.0615264\ttotal: 7.42s\tremaining: 26.3s\n",
      "110:\tlearn: 0.0612347\ttotal: 7.49s\tremaining: 26.2s\n",
      "111:\tlearn: 0.0609594\ttotal: 7.55s\tremaining: 26.2s\n",
      "112:\tlearn: 0.0608168\ttotal: 7.61s\tremaining: 26.1s\n",
      "113:\tlearn: 0.0603637\ttotal: 7.67s\tremaining: 26s\n",
      "114:\tlearn: 0.0603396\ttotal: 7.74s\tremaining: 25.9s\n",
      "115:\tlearn: 0.0601923\ttotal: 7.8s\tremaining: 25.8s\n",
      "116:\tlearn: 0.0600675\ttotal: 7.87s\tremaining: 25.8s\n",
      "117:\tlearn: 0.0600306\ttotal: 7.93s\tremaining: 25.7s\n",
      "118:\tlearn: 0.0598675\ttotal: 7.99s\tremaining: 25.6s\n",
      "119:\tlearn: 0.0597507\ttotal: 8.05s\tremaining: 25.5s\n",
      "120:\tlearn: 0.0596985\ttotal: 8.12s\tremaining: 25.4s\n",
      "121:\tlearn: 0.0596964\ttotal: 8.17s\tremaining: 25.3s\n",
      "122:\tlearn: 0.0596172\ttotal: 8.23s\tremaining: 25.2s\n",
      "123:\tlearn: 0.0595913\ttotal: 8.3s\tremaining: 25.2s\n",
      "124:\tlearn: 0.0595263\ttotal: 8.36s\tremaining: 25.1s\n",
      "125:\tlearn: 0.0594257\ttotal: 8.42s\tremaining: 25s\n",
      "126:\tlearn: 0.0591815\ttotal: 8.48s\tremaining: 24.9s\n",
      "127:\tlearn: 0.0589293\ttotal: 8.55s\tremaining: 24.8s\n",
      "128:\tlearn: 0.0586917\ttotal: 8.61s\tremaining: 24.8s\n",
      "129:\tlearn: 0.0586914\ttotal: 8.67s\tremaining: 24.7s\n",
      "130:\tlearn: 0.0584431\ttotal: 8.73s\tremaining: 24.6s\n",
      "131:\tlearn: 0.0583424\ttotal: 8.79s\tremaining: 24.5s\n",
      "132:\tlearn: 0.0581327\ttotal: 8.86s\tremaining: 24.4s\n",
      "133:\tlearn: 0.0579984\ttotal: 8.92s\tremaining: 24.4s\n",
      "134:\tlearn: 0.0578422\ttotal: 8.98s\tremaining: 24.3s\n",
      "135:\tlearn: 0.0578241\ttotal: 9.04s\tremaining: 24.2s\n",
      "136:\tlearn: 0.0577316\ttotal: 9.11s\tremaining: 24.1s\n",
      "137:\tlearn: 0.0577310\ttotal: 9.16s\tremaining: 24s\n",
      "138:\tlearn: 0.0576010\ttotal: 9.22s\tremaining: 23.9s\n",
      "139:\tlearn: 0.0575125\ttotal: 9.28s\tremaining: 23.9s\n",
      "140:\tlearn: 0.0573620\ttotal: 9.35s\tremaining: 23.8s\n",
      "141:\tlearn: 0.0573605\ttotal: 9.4s\tremaining: 23.7s\n",
      "142:\tlearn: 0.0572653\ttotal: 9.46s\tremaining: 23.6s\n",
      "143:\tlearn: 0.0571566\ttotal: 9.52s\tremaining: 23.5s\n",
      "144:\tlearn: 0.0570355\ttotal: 9.58s\tremaining: 23.5s\n",
      "145:\tlearn: 0.0569423\ttotal: 9.65s\tremaining: 23.4s\n",
      "146:\tlearn: 0.0566492\ttotal: 9.71s\tremaining: 23.3s\n",
      "147:\tlearn: 0.0566482\ttotal: 9.78s\tremaining: 23.3s\n",
      "148:\tlearn: 0.0565209\ttotal: 9.84s\tremaining: 23.2s\n",
      "149:\tlearn: 0.0564826\ttotal: 9.9s\tremaining: 23.1s\n",
      "150:\tlearn: 0.0564068\ttotal: 9.97s\tremaining: 23s\n",
      "151:\tlearn: 0.0563235\ttotal: 10s\tremaining: 23s\n",
      "152:\tlearn: 0.0562196\ttotal: 10.1s\tremaining: 22.9s\n",
      "153:\tlearn: 0.0560194\ttotal: 10.2s\tremaining: 22.8s\n",
      "154:\tlearn: 0.0560187\ttotal: 10.2s\tremaining: 22.7s\n",
      "155:\tlearn: 0.0559695\ttotal: 10.3s\tremaining: 22.6s\n",
      "156:\tlearn: 0.0558702\ttotal: 10.3s\tremaining: 22.6s\n",
      "157:\tlearn: 0.0557872\ttotal: 10.4s\tremaining: 22.5s\n",
      "158:\tlearn: 0.0557050\ttotal: 10.6s\tremaining: 22.6s\n",
      "159:\tlearn: 0.0557047\ttotal: 10.7s\tremaining: 22.6s\n",
      "160:\tlearn: 0.0556083\ttotal: 10.8s\tremaining: 22.7s\n",
      "161:\tlearn: 0.0556078\ttotal: 10.9s\tremaining: 22.7s\n",
      "162:\tlearn: 0.0555778\ttotal: 11s\tremaining: 22.7s\n",
      "163:\tlearn: 0.0555693\ttotal: 11s\tremaining: 22.6s\n",
      "164:\tlearn: 0.0555690\ttotal: 11.1s\tremaining: 22.5s\n",
      "165:\tlearn: 0.0555100\ttotal: 11.1s\tremaining: 22.4s\n",
      "166:\tlearn: 0.0554581\ttotal: 11.2s\tremaining: 22.3s\n",
      "167:\tlearn: 0.0553813\ttotal: 11.3s\tremaining: 22.3s\n",
      "168:\tlearn: 0.0553508\ttotal: 11.3s\tremaining: 22.2s\n",
      "169:\tlearn: 0.0553507\ttotal: 11.4s\tremaining: 22.1s\n",
      "170:\tlearn: 0.0552664\ttotal: 11.4s\tremaining: 22s\n",
      "171:\tlearn: 0.0551871\ttotal: 11.5s\tremaining: 22s\n",
      "172:\tlearn: 0.0550939\ttotal: 11.6s\tremaining: 21.9s\n",
      "173:\tlearn: 0.0550170\ttotal: 11.6s\tremaining: 21.8s\n",
      "174:\tlearn: 0.0549633\ttotal: 11.7s\tremaining: 21.7s\n",
      "175:\tlearn: 0.0548997\ttotal: 11.8s\tremaining: 21.7s\n",
      "176:\tlearn: 0.0548342\ttotal: 11.8s\tremaining: 21.6s\n",
      "177:\tlearn: 0.0548095\ttotal: 11.9s\tremaining: 21.5s\n",
      "178:\tlearn: 0.0547862\ttotal: 12s\tremaining: 21.4s\n",
      "179:\tlearn: 0.0547487\ttotal: 12s\tremaining: 21.4s\n",
      "180:\tlearn: 0.0547482\ttotal: 12.1s\tremaining: 21.3s\n",
      "181:\tlearn: 0.0547480\ttotal: 12.1s\tremaining: 21.2s\n",
      "182:\tlearn: 0.0547478\ttotal: 12.2s\tremaining: 21.1s\n",
      "183:\tlearn: 0.0547000\ttotal: 12.2s\tremaining: 21s\n",
      "184:\tlearn: 0.0545839\ttotal: 12.3s\tremaining: 20.9s\n",
      "185:\tlearn: 0.0545055\ttotal: 12.4s\tremaining: 20.9s\n",
      "186:\tlearn: 0.0544820\ttotal: 12.4s\tremaining: 20.8s\n",
      "187:\tlearn: 0.0544648\ttotal: 12.5s\tremaining: 20.7s\n",
      "188:\tlearn: 0.0544515\ttotal: 12.6s\tremaining: 20.7s\n",
      "189:\tlearn: 0.0543806\ttotal: 12.6s\tremaining: 20.6s\n",
      "190:\tlearn: 0.0543198\ttotal: 12.7s\tremaining: 20.5s\n",
      "191:\tlearn: 0.0542350\ttotal: 12.7s\tremaining: 20.4s\n",
      "192:\tlearn: 0.0541537\ttotal: 12.8s\tremaining: 20.4s\n",
      "193:\tlearn: 0.0540052\ttotal: 12.9s\tremaining: 20.3s\n",
      "194:\tlearn: 0.0539980\ttotal: 12.9s\tremaining: 20.2s\n",
      "195:\tlearn: 0.0539534\ttotal: 13s\tremaining: 20.2s\n",
      "196:\tlearn: 0.0539514\ttotal: 13s\tremaining: 20.1s\n",
      "197:\tlearn: 0.0538264\ttotal: 13.1s\tremaining: 20s\n",
      "198:\tlearn: 0.0538014\ttotal: 13.2s\tremaining: 19.9s\n",
      "199:\tlearn: 0.0537522\ttotal: 13.2s\tremaining: 19.9s\n",
      "200:\tlearn: 0.0537119\ttotal: 13.3s\tremaining: 19.8s\n",
      "201:\tlearn: 0.0536741\ttotal: 13.4s\tremaining: 19.7s\n",
      "202:\tlearn: 0.0536255\ttotal: 13.4s\tremaining: 19.6s\n",
      "203:\tlearn: 0.0535876\ttotal: 13.5s\tremaining: 19.6s\n",
      "204:\tlearn: 0.0534626\ttotal: 13.6s\tremaining: 19.5s\n",
      "205:\tlearn: 0.0534544\ttotal: 13.6s\tremaining: 19.4s\n",
      "206:\tlearn: 0.0534461\ttotal: 13.7s\tremaining: 19.4s\n",
      "207:\tlearn: 0.0534460\ttotal: 13.7s\tremaining: 19.3s\n",
      "208:\tlearn: 0.0534022\ttotal: 13.8s\tremaining: 19.2s\n",
      "209:\tlearn: 0.0533492\ttotal: 13.9s\tremaining: 19.1s\n",
      "210:\tlearn: 0.0533211\ttotal: 13.9s\tremaining: 19.1s\n",
      "211:\tlearn: 0.0533209\ttotal: 14s\tremaining: 19s\n",
      "212:\tlearn: 0.0532365\ttotal: 14s\tremaining: 18.9s\n",
      "213:\tlearn: 0.0532365\ttotal: 14.1s\tremaining: 18.8s\n",
      "214:\tlearn: 0.0531785\ttotal: 14.1s\tremaining: 18.7s\n",
      "215:\tlearn: 0.0531667\ttotal: 14.2s\tremaining: 18.7s\n",
      "216:\tlearn: 0.0530021\ttotal: 14.3s\tremaining: 18.6s\n",
      "217:\tlearn: 0.0529982\ttotal: 14.3s\tremaining: 18.5s\n",
      "218:\tlearn: 0.0529911\ttotal: 14.4s\tremaining: 18.5s\n",
      "219:\tlearn: 0.0529893\ttotal: 14.5s\tremaining: 18.4s\n",
      "220:\tlearn: 0.0529791\ttotal: 14.5s\tremaining: 18.3s\n",
      "221:\tlearn: 0.0529628\ttotal: 14.6s\tremaining: 18.3s\n",
      "222:\tlearn: 0.0529619\ttotal: 14.6s\tremaining: 18.2s\n",
      "223:\tlearn: 0.0528733\ttotal: 14.7s\tremaining: 18.1s\n",
      "224:\tlearn: 0.0528550\ttotal: 14.8s\tremaining: 18s\n",
      "225:\tlearn: 0.0528543\ttotal: 14.8s\tremaining: 18s\n",
      "226:\tlearn: 0.0528081\ttotal: 14.9s\tremaining: 17.9s\n",
      "227:\tlearn: 0.0528076\ttotal: 14.9s\tremaining: 17.8s\n",
      "228:\tlearn: 0.0528075\ttotal: 15s\tremaining: 17.8s\n",
      "229:\tlearn: 0.0528062\ttotal: 15.1s\tremaining: 17.7s\n",
      "230:\tlearn: 0.0528059\ttotal: 15.1s\tremaining: 17.6s\n",
      "231:\tlearn: 0.0526070\ttotal: 15.2s\tremaining: 17.5s\n",
      "232:\tlearn: 0.0525653\ttotal: 15.3s\tremaining: 17.5s\n",
      "233:\tlearn: 0.0525042\ttotal: 15.3s\tremaining: 17.4s\n",
      "234:\tlearn: 0.0525033\ttotal: 15.4s\tremaining: 17.3s\n",
      "235:\tlearn: 0.0525031\ttotal: 15.4s\tremaining: 17.3s\n",
      "236:\tlearn: 0.0524859\ttotal: 15.5s\tremaining: 17.2s\n",
      "237:\tlearn: 0.0524123\ttotal: 15.6s\tremaining: 17.1s\n",
      "238:\tlearn: 0.0524121\ttotal: 15.6s\tremaining: 17.1s\n",
      "239:\tlearn: 0.0523629\ttotal: 15.7s\tremaining: 17s\n",
      "240:\tlearn: 0.0522938\ttotal: 15.7s\tremaining: 16.9s\n",
      "241:\tlearn: 0.0522215\ttotal: 15.8s\tremaining: 16.9s\n",
      "242:\tlearn: 0.0520889\ttotal: 15.9s\tremaining: 16.8s\n",
      "243:\tlearn: 0.0519955\ttotal: 15.9s\tremaining: 16.7s\n",
      "244:\tlearn: 0.0519530\ttotal: 16s\tremaining: 16.7s\n",
      "245:\tlearn: 0.0519461\ttotal: 16.1s\tremaining: 16.6s\n",
      "246:\tlearn: 0.0519378\ttotal: 16.1s\tremaining: 16.5s\n",
      "247:\tlearn: 0.0519137\ttotal: 16.2s\tremaining: 16.5s\n",
      "248:\tlearn: 0.0518557\ttotal: 16.3s\tremaining: 16.4s\n",
      "249:\tlearn: 0.0518486\ttotal: 16.3s\tremaining: 16.3s\n",
      "250:\tlearn: 0.0518068\ttotal: 16.4s\tremaining: 16.2s\n",
      "251:\tlearn: 0.0517934\ttotal: 16.4s\tremaining: 16.2s\n",
      "252:\tlearn: 0.0517933\ttotal: 16.5s\tremaining: 16.1s\n",
      "253:\tlearn: 0.0517247\ttotal: 16.6s\tremaining: 16s\n",
      "254:\tlearn: 0.0516510\ttotal: 16.6s\tremaining: 16s\n",
      "255:\tlearn: 0.0516507\ttotal: 16.7s\tremaining: 15.9s\n",
      "256:\tlearn: 0.0516257\ttotal: 16.7s\tremaining: 15.8s\n",
      "257:\tlearn: 0.0516257\ttotal: 16.8s\tremaining: 15.8s\n",
      "258:\tlearn: 0.0515693\ttotal: 16.9s\tremaining: 15.7s\n",
      "259:\tlearn: 0.0515633\ttotal: 16.9s\tremaining: 15.6s\n",
      "260:\tlearn: 0.0515364\ttotal: 17s\tremaining: 15.6s\n",
      "261:\tlearn: 0.0515197\ttotal: 17s\tremaining: 15.5s\n",
      "262:\tlearn: 0.0514730\ttotal: 17.1s\tremaining: 15.4s\n",
      "263:\tlearn: 0.0513509\ttotal: 17.2s\tremaining: 15.4s\n",
      "264:\tlearn: 0.0513259\ttotal: 17.2s\tremaining: 15.3s\n",
      "265:\tlearn: 0.0513259\ttotal: 17.3s\tremaining: 15.2s\n",
      "266:\tlearn: 0.0513172\ttotal: 17.3s\tremaining: 15.1s\n",
      "267:\tlearn: 0.0512817\ttotal: 17.4s\tremaining: 15.1s\n",
      "268:\tlearn: 0.0512041\ttotal: 17.5s\tremaining: 15s\n",
      "269:\tlearn: 0.0512004\ttotal: 17.5s\tremaining: 14.9s\n",
      "270:\tlearn: 0.0512003\ttotal: 17.6s\tremaining: 14.9s\n",
      "271:\tlearn: 0.0511992\ttotal: 17.7s\tremaining: 14.8s\n",
      "272:\tlearn: 0.0511558\ttotal: 17.7s\tremaining: 14.7s\n",
      "273:\tlearn: 0.0511517\ttotal: 17.8s\tremaining: 14.7s\n",
      "274:\tlearn: 0.0510887\ttotal: 17.8s\tremaining: 14.6s\n",
      "275:\tlearn: 0.0510693\ttotal: 17.9s\tremaining: 14.5s\n",
      "276:\tlearn: 0.0510516\ttotal: 18s\tremaining: 14.5s\n",
      "277:\tlearn: 0.0510504\ttotal: 18s\tremaining: 14.4s\n",
      "278:\tlearn: 0.0510503\ttotal: 18.1s\tremaining: 14.3s\n",
      "279:\tlearn: 0.0510501\ttotal: 18.2s\tremaining: 14.3s\n",
      "280:\tlearn: 0.0509472\ttotal: 18.2s\tremaining: 14.2s\n",
      "281:\tlearn: 0.0509319\ttotal: 18.3s\tremaining: 14.1s\n",
      "282:\tlearn: 0.0508867\ttotal: 18.4s\tremaining: 14.1s\n",
      "283:\tlearn: 0.0508836\ttotal: 18.4s\tremaining: 14s\n",
      "284:\tlearn: 0.0508534\ttotal: 18.5s\tremaining: 13.9s\n",
      "285:\tlearn: 0.0508491\ttotal: 18.5s\tremaining: 13.9s\n",
      "286:\tlearn: 0.0508420\ttotal: 18.6s\tremaining: 13.8s\n",
      "287:\tlearn: 0.0507234\ttotal: 18.7s\tremaining: 13.7s\n",
      "288:\tlearn: 0.0507093\ttotal: 18.7s\tremaining: 13.7s\n",
      "289:\tlearn: 0.0507033\ttotal: 18.8s\tremaining: 13.6s\n",
      "290:\tlearn: 0.0507033\ttotal: 18.8s\tremaining: 13.5s\n",
      "291:\tlearn: 0.0506829\ttotal: 18.9s\tremaining: 13.5s\n",
      "292:\tlearn: 0.0506659\ttotal: 19s\tremaining: 13.4s\n",
      "293:\tlearn: 0.0506337\ttotal: 19s\tremaining: 13.3s\n",
      "294:\tlearn: 0.0506309\ttotal: 19.1s\tremaining: 13.3s\n",
      "295:\tlearn: 0.0506299\ttotal: 19.2s\tremaining: 13.2s\n",
      "296:\tlearn: 0.0506201\ttotal: 19.2s\tremaining: 13.1s\n",
      "297:\tlearn: 0.0506193\ttotal: 19.3s\tremaining: 13.1s\n",
      "298:\tlearn: 0.0506153\ttotal: 19.3s\tremaining: 13s\n",
      "299:\tlearn: 0.0505945\ttotal: 19.4s\tremaining: 12.9s\n",
      "300:\tlearn: 0.0505857\ttotal: 19.5s\tremaining: 12.9s\n",
      "301:\tlearn: 0.0505835\ttotal: 19.5s\tremaining: 12.8s\n",
      "302:\tlearn: 0.0505829\ttotal: 19.6s\tremaining: 12.7s\n",
      "303:\tlearn: 0.0505828\ttotal: 19.6s\tremaining: 12.7s\n",
      "304:\tlearn: 0.0505827\ttotal: 19.7s\tremaining: 12.6s\n",
      "305:\tlearn: 0.0505745\ttotal: 19.8s\tremaining: 12.5s\n",
      "306:\tlearn: 0.0505743\ttotal: 19.8s\tremaining: 12.5s\n",
      "307:\tlearn: 0.0505587\ttotal: 19.9s\tremaining: 12.4s\n",
      "308:\tlearn: 0.0505543\ttotal: 19.9s\tremaining: 12.3s\n",
      "309:\tlearn: 0.0505505\ttotal: 20s\tremaining: 12.3s\n",
      "310:\tlearn: 0.0505315\ttotal: 20.1s\tremaining: 12.2s\n",
      "311:\tlearn: 0.0505285\ttotal: 20.1s\tremaining: 12.1s\n",
      "312:\tlearn: 0.0504739\ttotal: 20.2s\tremaining: 12.1s\n",
      "313:\tlearn: 0.0504677\ttotal: 20.3s\tremaining: 12s\n",
      "314:\tlearn: 0.0504669\ttotal: 20.3s\tremaining: 11.9s\n",
      "315:\tlearn: 0.0504648\ttotal: 20.4s\tremaining: 11.9s\n",
      "316:\tlearn: 0.0504635\ttotal: 20.5s\tremaining: 11.8s\n",
      "317:\tlearn: 0.0504618\ttotal: 20.5s\tremaining: 11.7s\n",
      "318:\tlearn: 0.0504607\ttotal: 20.6s\tremaining: 11.7s\n",
      "319:\tlearn: 0.0504579\ttotal: 20.6s\tremaining: 11.6s\n",
      "320:\tlearn: 0.0504557\ttotal: 20.7s\tremaining: 11.5s\n",
      "321:\tlearn: 0.0504557\ttotal: 20.8s\tremaining: 11.5s\n",
      "322:\tlearn: 0.0503619\ttotal: 20.8s\tremaining: 11.4s\n",
      "323:\tlearn: 0.0503154\ttotal: 20.9s\tremaining: 11.3s\n",
      "324:\tlearn: 0.0503154\ttotal: 20.9s\tremaining: 11.3s\n",
      "325:\tlearn: 0.0503129\ttotal: 21s\tremaining: 11.2s\n",
      "326:\tlearn: 0.0502689\ttotal: 21.1s\tremaining: 11.1s\n",
      "327:\tlearn: 0.0502625\ttotal: 21.1s\tremaining: 11.1s\n",
      "328:\tlearn: 0.0502621\ttotal: 21.2s\tremaining: 11s\n",
      "329:\tlearn: 0.0502391\ttotal: 21.2s\tremaining: 10.9s\n",
      "330:\tlearn: 0.0502342\ttotal: 21.3s\tremaining: 10.9s\n",
      "331:\tlearn: 0.0502329\ttotal: 21.4s\tremaining: 10.8s\n",
      "332:\tlearn: 0.0502325\ttotal: 21.6s\tremaining: 10.8s\n",
      "333:\tlearn: 0.0502324\ttotal: 21.7s\tremaining: 10.8s\n",
      "334:\tlearn: 0.0502281\ttotal: 21.8s\tremaining: 10.7s\n",
      "335:\tlearn: 0.0501487\ttotal: 21.9s\tremaining: 10.7s\n",
      "336:\tlearn: 0.0501053\ttotal: 22s\tremaining: 10.6s\n",
      "337:\tlearn: 0.0500680\ttotal: 22.1s\tremaining: 10.6s\n",
      "338:\tlearn: 0.0500676\ttotal: 22.1s\tremaining: 10.5s\n",
      "339:\tlearn: 0.0500661\ttotal: 22.2s\tremaining: 10.4s\n",
      "340:\tlearn: 0.0500661\ttotal: 22.2s\tremaining: 10.4s\n",
      "341:\tlearn: 0.0500659\ttotal: 22.3s\tremaining: 10.3s\n",
      "342:\tlearn: 0.0500072\ttotal: 22.4s\tremaining: 10.2s\n",
      "343:\tlearn: 0.0500053\ttotal: 22.4s\tremaining: 10.2s\n",
      "344:\tlearn: 0.0500052\ttotal: 22.5s\tremaining: 10.1s\n",
      "345:\tlearn: 0.0499873\ttotal: 22.5s\tremaining: 10s\n",
      "346:\tlearn: 0.0499337\ttotal: 22.6s\tremaining: 9.97s\n",
      "347:\tlearn: 0.0499329\ttotal: 22.7s\tremaining: 9.9s\n",
      "348:\tlearn: 0.0499322\ttotal: 22.7s\tremaining: 9.83s\n",
      "349:\tlearn: 0.0498892\ttotal: 22.8s\tremaining: 9.77s\n",
      "350:\tlearn: 0.0498604\ttotal: 22.9s\tremaining: 9.7s\n",
      "351:\tlearn: 0.0498604\ttotal: 22.9s\tremaining: 9.63s\n",
      "352:\tlearn: 0.0498588\ttotal: 23s\tremaining: 9.56s\n",
      "353:\tlearn: 0.0498510\ttotal: 23s\tremaining: 9.5s\n",
      "354:\tlearn: 0.0498509\ttotal: 23.1s\tremaining: 9.43s\n",
      "355:\tlearn: 0.0498432\ttotal: 23.1s\tremaining: 9.36s\n",
      "356:\tlearn: 0.0497969\ttotal: 23.2s\tremaining: 9.3s\n",
      "357:\tlearn: 0.0497909\ttotal: 23.3s\tremaining: 9.23s\n",
      "358:\tlearn: 0.0497909\ttotal: 23.3s\tremaining: 9.16s\n",
      "359:\tlearn: 0.0497909\ttotal: 23.4s\tremaining: 9.09s\n",
      "360:\tlearn: 0.0497905\ttotal: 23.4s\tremaining: 9.02s\n",
      "361:\tlearn: 0.0497904\ttotal: 23.5s\tremaining: 8.95s\n",
      "362:\tlearn: 0.0497898\ttotal: 23.5s\tremaining: 8.88s\n",
      "363:\tlearn: 0.0497828\ttotal: 23.6s\tremaining: 8.82s\n",
      "364:\tlearn: 0.0497790\ttotal: 23.7s\tremaining: 8.75s\n",
      "365:\tlearn: 0.0497728\ttotal: 23.7s\tremaining: 8.69s\n",
      "366:\tlearn: 0.0497664\ttotal: 23.8s\tremaining: 8.62s\n",
      "367:\tlearn: 0.0497663\ttotal: 23.9s\tremaining: 8.56s\n",
      "368:\tlearn: 0.0497643\ttotal: 23.9s\tremaining: 8.49s\n",
      "369:\tlearn: 0.0497639\ttotal: 24s\tremaining: 8.43s\n",
      "370:\tlearn: 0.0497637\ttotal: 24s\tremaining: 8.36s\n",
      "371:\tlearn: 0.0497620\ttotal: 24.1s\tremaining: 8.29s\n",
      "372:\tlearn: 0.0497616\ttotal: 24.2s\tremaining: 8.23s\n",
      "373:\tlearn: 0.0497611\ttotal: 24.2s\tremaining: 8.16s\n",
      "374:\tlearn: 0.0497440\ttotal: 24.3s\tremaining: 8.1s\n",
      "375:\tlearn: 0.0497292\ttotal: 24.4s\tremaining: 8.03s\n",
      "376:\tlearn: 0.0496962\ttotal: 24.4s\tremaining: 7.97s\n",
      "377:\tlearn: 0.0496958\ttotal: 24.5s\tremaining: 7.9s\n",
      "378:\tlearn: 0.0496708\ttotal: 24.5s\tremaining: 7.84s\n",
      "379:\tlearn: 0.0496450\ttotal: 24.6s\tremaining: 7.77s\n",
      "380:\tlearn: 0.0496338\ttotal: 24.7s\tremaining: 7.71s\n",
      "381:\tlearn: 0.0496328\ttotal: 24.7s\tremaining: 7.64s\n",
      "382:\tlearn: 0.0496313\ttotal: 24.8s\tremaining: 7.57s\n",
      "383:\tlearn: 0.0496191\ttotal: 24.9s\tremaining: 7.51s\n",
      "384:\tlearn: 0.0496178\ttotal: 24.9s\tremaining: 7.44s\n",
      "385:\tlearn: 0.0496006\ttotal: 25s\tremaining: 7.38s\n",
      "386:\tlearn: 0.0495819\ttotal: 25s\tremaining: 7.31s\n",
      "387:\tlearn: 0.0495813\ttotal: 25.1s\tremaining: 7.25s\n",
      "388:\tlearn: 0.0495805\ttotal: 25.2s\tremaining: 7.18s\n",
      "389:\tlearn: 0.0495799\ttotal: 25.2s\tremaining: 7.12s\n",
      "390:\tlearn: 0.0495788\ttotal: 25.3s\tremaining: 7.05s\n",
      "391:\tlearn: 0.0495432\ttotal: 25.4s\tremaining: 6.99s\n",
      "392:\tlearn: 0.0495425\ttotal: 25.4s\tremaining: 6.92s\n",
      "393:\tlearn: 0.0495173\ttotal: 25.5s\tremaining: 6.86s\n",
      "394:\tlearn: 0.0495103\ttotal: 25.5s\tremaining: 6.79s\n",
      "395:\tlearn: 0.0495101\ttotal: 25.6s\tremaining: 6.73s\n",
      "396:\tlearn: 0.0494930\ttotal: 25.7s\tremaining: 6.66s\n",
      "397:\tlearn: 0.0494929\ttotal: 25.7s\tremaining: 6.6s\n",
      "398:\tlearn: 0.0494920\ttotal: 25.8s\tremaining: 6.53s\n",
      "399:\tlearn: 0.0494919\ttotal: 25.9s\tremaining: 6.47s\n",
      "400:\tlearn: 0.0494509\ttotal: 25.9s\tremaining: 6.4s\n",
      "401:\tlearn: 0.0494179\ttotal: 26s\tremaining: 6.33s\n",
      "402:\tlearn: 0.0494169\ttotal: 26.1s\tremaining: 6.27s\n",
      "403:\tlearn: 0.0494157\ttotal: 26.1s\tremaining: 6.21s\n",
      "404:\tlearn: 0.0494157\ttotal: 26.2s\tremaining: 6.13s\n",
      "405:\tlearn: 0.0494133\ttotal: 26.2s\tremaining: 6.07s\n",
      "406:\tlearn: 0.0493819\ttotal: 26.3s\tremaining: 6s\n",
      "407:\tlearn: 0.0493810\ttotal: 26.3s\tremaining: 5.94s\n",
      "408:\tlearn: 0.0493509\ttotal: 26.4s\tremaining: 5.88s\n",
      "409:\tlearn: 0.0493019\ttotal: 26.5s\tremaining: 5.81s\n",
      "410:\tlearn: 0.0492933\ttotal: 26.5s\tremaining: 5.75s\n",
      "411:\tlearn: 0.0492928\ttotal: 26.6s\tremaining: 5.68s\n",
      "412:\tlearn: 0.0492602\ttotal: 26.7s\tremaining: 5.62s\n",
      "413:\tlearn: 0.0492595\ttotal: 26.7s\tremaining: 5.55s\n",
      "414:\tlearn: 0.0492586\ttotal: 26.8s\tremaining: 5.49s\n",
      "415:\tlearn: 0.0492536\ttotal: 26.9s\tremaining: 5.42s\n",
      "416:\tlearn: 0.0492306\ttotal: 26.9s\tremaining: 5.36s\n",
      "417:\tlearn: 0.0492082\ttotal: 27s\tremaining: 5.29s\n",
      "418:\tlearn: 0.0492081\ttotal: 27s\tremaining: 5.23s\n",
      "419:\tlearn: 0.0492081\ttotal: 27.1s\tremaining: 5.16s\n",
      "420:\tlearn: 0.0492076\ttotal: 27.1s\tremaining: 5.09s\n",
      "421:\tlearn: 0.0491702\ttotal: 27.2s\tremaining: 5.03s\n",
      "422:\tlearn: 0.0491696\ttotal: 27.3s\tremaining: 4.96s\n",
      "423:\tlearn: 0.0491237\ttotal: 27.3s\tremaining: 4.9s\n",
      "424:\tlearn: 0.0490980\ttotal: 27.4s\tremaining: 4.83s\n",
      "425:\tlearn: 0.0490975\ttotal: 27.5s\tremaining: 4.77s\n",
      "426:\tlearn: 0.0490971\ttotal: 27.5s\tremaining: 4.7s\n",
      "427:\tlearn: 0.0490931\ttotal: 27.6s\tremaining: 4.64s\n",
      "428:\tlearn: 0.0490928\ttotal: 27.6s\tremaining: 4.58s\n",
      "429:\tlearn: 0.0490928\ttotal: 27.7s\tremaining: 4.51s\n",
      "430:\tlearn: 0.0490875\ttotal: 27.8s\tremaining: 4.45s\n",
      "431:\tlearn: 0.0490715\ttotal: 27.8s\tremaining: 4.38s\n",
      "432:\tlearn: 0.0490709\ttotal: 27.9s\tremaining: 4.32s\n",
      "433:\tlearn: 0.0490707\ttotal: 28s\tremaining: 4.25s\n",
      "434:\tlearn: 0.0490686\ttotal: 28s\tremaining: 4.19s\n",
      "435:\tlearn: 0.0490683\ttotal: 28.1s\tremaining: 4.12s\n",
      "436:\tlearn: 0.0490679\ttotal: 28.1s\tremaining: 4.06s\n",
      "437:\tlearn: 0.0490606\ttotal: 28.2s\tremaining: 3.99s\n",
      "438:\tlearn: 0.0490499\ttotal: 28.3s\tremaining: 3.93s\n",
      "439:\tlearn: 0.0489470\ttotal: 28.3s\tremaining: 3.86s\n",
      "440:\tlearn: 0.0489290\ttotal: 28.4s\tremaining: 3.8s\n",
      "441:\tlearn: 0.0489288\ttotal: 28.5s\tremaining: 3.73s\n",
      "442:\tlearn: 0.0489288\ttotal: 28.5s\tremaining: 3.67s\n",
      "443:\tlearn: 0.0489248\ttotal: 28.6s\tremaining: 3.6s\n",
      "444:\tlearn: 0.0489237\ttotal: 28.6s\tremaining: 3.54s\n",
      "445:\tlearn: 0.0489237\ttotal: 28.7s\tremaining: 3.47s\n",
      "446:\tlearn: 0.0489142\ttotal: 28.7s\tremaining: 3.41s\n",
      "447:\tlearn: 0.0489056\ttotal: 28.8s\tremaining: 3.34s\n",
      "448:\tlearn: 0.0489056\ttotal: 28.9s\tremaining: 3.28s\n",
      "449:\tlearn: 0.0489054\ttotal: 28.9s\tremaining: 3.21s\n",
      "450:\tlearn: 0.0489054\ttotal: 29s\tremaining: 3.15s\n",
      "451:\tlearn: 0.0489050\ttotal: 29s\tremaining: 3.08s\n",
      "452:\tlearn: 0.0489046\ttotal: 29.1s\tremaining: 3.02s\n",
      "453:\tlearn: 0.0489039\ttotal: 29.2s\tremaining: 2.95s\n",
      "454:\tlearn: 0.0489035\ttotal: 29.2s\tremaining: 2.89s\n",
      "455:\tlearn: 0.0489034\ttotal: 29.3s\tremaining: 2.83s\n",
      "456:\tlearn: 0.0489033\ttotal: 29.3s\tremaining: 2.76s\n",
      "457:\tlearn: 0.0489032\ttotal: 29.4s\tremaining: 2.7s\n",
      "458:\tlearn: 0.0488918\ttotal: 29.5s\tremaining: 2.63s\n",
      "459:\tlearn: 0.0488542\ttotal: 29.5s\tremaining: 2.57s\n",
      "460:\tlearn: 0.0488541\ttotal: 29.6s\tremaining: 2.5s\n",
      "461:\tlearn: 0.0488541\ttotal: 29.7s\tremaining: 2.44s\n",
      "462:\tlearn: 0.0488541\ttotal: 29.7s\tremaining: 2.37s\n",
      "463:\tlearn: 0.0488540\ttotal: 29.8s\tremaining: 2.31s\n",
      "464:\tlearn: 0.0488535\ttotal: 29.8s\tremaining: 2.25s\n",
      "465:\tlearn: 0.0488534\ttotal: 29.9s\tremaining: 2.18s\n",
      "466:\tlearn: 0.0488017\ttotal: 29.9s\tremaining: 2.12s\n",
      "467:\tlearn: 0.0488017\ttotal: 30s\tremaining: 2.05s\n",
      "468:\tlearn: 0.0488015\ttotal: 30.1s\tremaining: 1.99s\n",
      "469:\tlearn: 0.0487984\ttotal: 30.1s\tremaining: 1.92s\n",
      "470:\tlearn: 0.0487905\ttotal: 30.2s\tremaining: 1.86s\n",
      "471:\tlearn: 0.0487904\ttotal: 30.2s\tremaining: 1.79s\n",
      "472:\tlearn: 0.0487734\ttotal: 30.3s\tremaining: 1.73s\n",
      "473:\tlearn: 0.0487552\ttotal: 30.4s\tremaining: 1.67s\n",
      "474:\tlearn: 0.0487549\ttotal: 30.4s\tremaining: 1.6s\n",
      "475:\tlearn: 0.0487311\ttotal: 30.5s\tremaining: 1.54s\n",
      "476:\tlearn: 0.0486893\ttotal: 30.6s\tremaining: 1.47s\n",
      "477:\tlearn: 0.0486570\ttotal: 30.6s\tremaining: 1.41s\n",
      "478:\tlearn: 0.0486570\ttotal: 30.7s\tremaining: 1.34s\n",
      "479:\tlearn: 0.0486570\ttotal: 30.7s\tremaining: 1.28s\n",
      "480:\tlearn: 0.0486570\ttotal: 30.8s\tremaining: 1.22s\n",
      "481:\tlearn: 0.0486570\ttotal: 30.8s\tremaining: 1.15s\n",
      "482:\tlearn: 0.0486569\ttotal: 30.9s\tremaining: 1.09s\n",
      "483:\tlearn: 0.0486552\ttotal: 31s\tremaining: 1.02s\n",
      "484:\tlearn: 0.0486549\ttotal: 31s\tremaining: 959ms\n",
      "485:\tlearn: 0.0486547\ttotal: 31.1s\tremaining: 895ms\n",
      "486:\tlearn: 0.0486547\ttotal: 31.1s\tremaining: 831ms\n",
      "487:\tlearn: 0.0486546\ttotal: 31.2s\tremaining: 767ms\n",
      "488:\tlearn: 0.0486431\ttotal: 31.3s\tremaining: 704ms\n",
      "489:\tlearn: 0.0486429\ttotal: 31.4s\tremaining: 640ms\n",
      "490:\tlearn: 0.0486426\ttotal: 31.4s\tremaining: 576ms\n",
      "491:\tlearn: 0.0486426\ttotal: 31.5s\tremaining: 512ms\n",
      "492:\tlearn: 0.0486420\ttotal: 31.5s\tremaining: 448ms\n",
      "493:\tlearn: 0.0486420\ttotal: 31.6s\tremaining: 384ms\n",
      "494:\tlearn: 0.0486420\ttotal: 31.7s\tremaining: 320ms\n",
      "495:\tlearn: 0.0486031\ttotal: 31.7s\tremaining: 256ms\n",
      "496:\tlearn: 0.0486027\ttotal: 31.8s\tremaining: 192ms\n",
      "497:\tlearn: 0.0485845\ttotal: 31.8s\tremaining: 128ms\n",
      "498:\tlearn: 0.0485780\ttotal: 31.9s\tremaining: 63.9ms\n",
      "499:\tlearn: 0.0485764\ttotal: 32s\tremaining: 0us\n"
     ]
    },
    {
     "data": {
      "text/plain": [
       "<catboost.core.CatBoostClassifier at 0x7f5d6268b390>"
      ]
     },
     "execution_count": 191,
     "metadata": {},
     "output_type": "execute_result"
    }
   ],
   "source": [
    "model_C.fit(train[FEATS],train[TARGET])"
   ]
  },
  {
   "cell_type": "code",
   "execution_count": 192,
   "metadata": {
    "execution": {
     "iopub.execute_input": "2021-09-15T04:16:57.397328Z",
     "iopub.status.busy": "2021-09-15T04:16:57.395634Z",
     "iopub.status.idle": "2021-09-15T04:16:57.409730Z",
     "shell.execute_reply": "2021-09-15T04:16:57.409083Z",
     "shell.execute_reply.started": "2021-09-15T04:16:57.397294Z"
    }
   },
   "outputs": [],
   "source": [
    "predition = model_C.predict(test[FEATS])\n",
    "test['steaming_processing_le'] = predition"
   ]
  },
  {
   "cell_type": "markdown",
   "metadata": {},
   "source": [
    "# P_PRICE 예측"
   ]
  },
  {
   "cell_type": "code",
   "execution_count": 193,
   "metadata": {
    "execution": {
     "iopub.execute_input": "2021-09-15T04:16:57.415876Z",
     "iopub.status.busy": "2021-09-15T04:16:57.413752Z",
     "iopub.status.idle": "2021-09-15T04:16:57.420454Z",
     "shell.execute_reply": "2021-09-15T04:16:57.419666Z",
     "shell.execute_reply.started": "2021-09-15T04:16:57.415843Z"
    }
   },
   "outputs": [],
   "source": [
    "from xgboost import XGBRegressor"
   ]
  },
  {
   "cell_type": "code",
   "execution_count": 194,
   "metadata": {
    "execution": {
     "iopub.execute_input": "2021-09-15T04:16:57.426392Z",
     "iopub.status.busy": "2021-09-15T04:16:57.424310Z",
     "iopub.status.idle": "2021-09-15T04:16:57.431728Z",
     "shell.execute_reply": "2021-09-15T04:16:57.430958Z",
     "shell.execute_reply.started": "2021-09-15T04:16:57.426360Z"
    }
   },
   "outputs": [],
   "source": [
    "params = {\n",
    "    \"iterations\": 500,\n",
    "    \"learning_rate\": 0.1,\n",
    "    \"task_type\": \"GPU\",\n",
    "    \"devices\": \"0:1\",\n",
    "    'one_hot_max_size':256,\n",
    "    'objective':'reg:linear',\n",
    "    'random_state':2\n",
    "}\n"
   ]
  },
  {
   "cell_type": "code",
   "execution_count": 195,
   "metadata": {
    "execution": {
     "iopub.execute_input": "2021-09-15T04:16:57.437577Z",
     "iopub.status.busy": "2021-09-15T04:16:57.435535Z",
     "iopub.status.idle": "2021-09-15T04:16:57.442974Z",
     "shell.execute_reply": "2021-09-15T04:16:57.442228Z",
     "shell.execute_reply.started": "2021-09-15T04:16:57.437543Z"
    }
   },
   "outputs": [],
   "source": [
    "FEATS = ['CTRY_1_le','CTRY_2_le', 'P_NAME_le', 'storage_le', 'part_le',\n",
    "       'process_le', 'sashimi_le', 'steaming_processing_le']\n",
    "TARGETS = ['P_PRICE']"
   ]
  },
  {
   "cell_type": "code",
   "execution_count": 196,
   "metadata": {
    "execution": {
     "iopub.execute_input": "2021-09-15T04:16:57.447287Z",
     "iopub.status.busy": "2021-09-15T04:16:57.446282Z",
     "iopub.status.idle": "2021-09-15T04:16:57.452441Z",
     "shell.execute_reply": "2021-09-15T04:16:57.451857Z",
     "shell.execute_reply.started": "2021-09-15T04:16:57.447255Z"
    }
   },
   "outputs": [],
   "source": [
    "model_R = XGBRegressor(**params)"
   ]
  },
  {
   "cell_type": "code",
   "execution_count": 197,
   "metadata": {
    "execution": {
     "iopub.execute_input": "2021-09-15T04:16:57.454719Z",
     "iopub.status.busy": "2021-09-15T04:16:57.454309Z",
     "iopub.status.idle": "2021-09-15T04:16:59.786979Z",
     "shell.execute_reply": "2021-09-15T04:16:59.786294Z",
     "shell.execute_reply.started": "2021-09-15T04:16:57.454689Z"
    }
   },
   "outputs": [
    {
     "name": "stdout",
     "output_type": "stream",
     "text": [
      "[04:16:57] WARNING: ../src/objective/regression_obj.cu:171: reg:linear is now deprecated in favor of reg:squarederror.\n",
      "[04:16:57] WARNING: ../src/learner.cc:573: \n",
      "Parameters: { \"devices\", \"iterations\", \"one_hot_max_size\", \"task_type\" } might not be used.\n",
      "\n",
      "  This may not be accurate due to some parameters are only used in language bindings but\n",
      "  passed down to XGBoost core.  Or some parameters are not used but slip through this\n",
      "  verification. Please open an issue if you find above cases.\n",
      "\n",
      "\n"
     ]
    },
    {
     "data": {
      "text/plain": [
       "XGBRegressor(base_score=0.5, booster='gbtree', colsample_bylevel=1,\n",
       "             colsample_bynode=1, colsample_bytree=1, devices='0:1', gamma=0,\n",
       "             gpu_id=-1, importance_type='gain', interaction_constraints='',\n",
       "             iterations=500, learning_rate=0.1, max_delta_step=0, max_depth=6,\n",
       "             min_child_weight=1, missing=nan, monotone_constraints='()',\n",
       "             n_estimators=100, n_jobs=2, num_parallel_tree=1,\n",
       "             objective='reg:linear', one_hot_max_size=256, random_state=2,\n",
       "             reg_alpha=0, reg_lambda=1, scale_pos_weight=1, subsample=1,\n",
       "             task_type='GPU', tree_method='exact', validate_parameters=1, ...)"
      ]
     },
     "execution_count": 197,
     "metadata": {},
     "output_type": "execute_result"
    }
   ],
   "source": [
    "model_R.fit(train[FEATS],train[TARGETS])"
   ]
  },
  {
   "cell_type": "code",
   "execution_count": 198,
   "metadata": {
    "execution": {
     "iopub.execute_input": "2021-09-15T04:16:59.788388Z",
     "iopub.status.busy": "2021-09-15T04:16:59.788116Z",
     "iopub.status.idle": "2021-09-15T04:16:59.798254Z",
     "shell.execute_reply": "2021-09-15T04:16:59.797535Z",
     "shell.execute_reply.started": "2021-09-15T04:16:59.788354Z"
    }
   },
   "outputs": [],
   "source": [
    "pred = model_R.predict(test[FEATS])\n",
    "test[\"P_PRICE\"] = pred"
   ]
  },
  {
   "cell_type": "code",
   "execution_count": 199,
   "metadata": {
    "execution": {
     "iopub.execute_input": "2021-09-15T04:16:59.800047Z",
     "iopub.status.busy": "2021-09-15T04:16:59.799795Z",
     "iopub.status.idle": "2021-09-15T04:16:59.808165Z",
     "shell.execute_reply": "2021-09-15T04:16:59.806972Z",
     "shell.execute_reply.started": "2021-09-15T04:16:59.800019Z"
    }
   },
   "outputs": [
    {
     "data": {
      "text/plain": [
       "Index(['REG_DATE', 'P_NAME', 'CTRY_1', 'CTRY_2', 'P_PURPOSE', 'CATEGORY_2',\n",
       "       'P_PRICE', 'YEAR', 'MONTH', 'DAY', '주차', 'CTRY_1_le', 'CTRY_2_le',\n",
       "       'P_NAME_le', 'P_PURPOSE_le', 'storage_le', 'part_le', 'process_le',\n",
       "       'sashimi_le', 'steaming_processing_le'],\n",
       "      dtype='object')"
      ]
     },
     "execution_count": 199,
     "metadata": {},
     "output_type": "execute_result"
    }
   ],
   "source": [
    "test.columns"
   ]
  },
  {
   "cell_type": "code",
   "execution_count": 200,
   "metadata": {
    "execution": {
     "iopub.execute_input": "2021-09-15T04:16:59.810061Z",
     "iopub.status.busy": "2021-09-15T04:16:59.809776Z",
     "iopub.status.idle": "2021-09-15T04:16:59.840750Z",
     "shell.execute_reply": "2021-09-15T04:16:59.840065Z",
     "shell.execute_reply.started": "2021-09-15T04:16:59.810027Z"
    }
   },
   "outputs": [
    {
     "data": {
      "text/html": [
       "<div>\n",
       "<style scoped>\n",
       "    .dataframe tbody tr th:only-of-type {\n",
       "        vertical-align: middle;\n",
       "    }\n",
       "\n",
       "    .dataframe tbody tr th {\n",
       "        vertical-align: top;\n",
       "    }\n",
       "\n",
       "    .dataframe thead th {\n",
       "        text-align: right;\n",
       "    }\n",
       "</style>\n",
       "<table border=\"1\" class=\"dataframe\">\n",
       "  <thead>\n",
       "    <tr style=\"text-align: right;\">\n",
       "      <th></th>\n",
       "      <th>REG_DATE</th>\n",
       "      <th>P_NAME</th>\n",
       "      <th>CTRY_1</th>\n",
       "      <th>CTRY_2</th>\n",
       "      <th>P_PURPOSE</th>\n",
       "      <th>CATEGORY_2</th>\n",
       "      <th>P_PRICE</th>\n",
       "      <th>YEAR</th>\n",
       "      <th>MONTH</th>\n",
       "      <th>DAY</th>\n",
       "      <th>주차</th>\n",
       "      <th>CTRY_1_le</th>\n",
       "      <th>CTRY_2_le</th>\n",
       "      <th>P_NAME_le</th>\n",
       "      <th>P_PURPOSE_le</th>\n",
       "      <th>storage_le</th>\n",
       "      <th>part_le</th>\n",
       "      <th>process_le</th>\n",
       "      <th>sashimi_le</th>\n",
       "      <th>steaming_processing_le</th>\n",
       "    </tr>\n",
       "  </thead>\n",
       "  <tbody>\n",
       "    <tr>\n",
       "      <th>0</th>\n",
       "      <td>2021-01-04</td>\n",
       "      <td>오징어</td>\n",
       "      <td>중국</td>\n",
       "      <td>중국</td>\n",
       "      <td>판매용</td>\n",
       "      <td>오징어</td>\n",
       "      <td>2.316528</td>\n",
       "      <td>2021</td>\n",
       "      <td>1</td>\n",
       "      <td>4</td>\n",
       "      <td>1</td>\n",
       "      <td>65</td>\n",
       "      <td>64</td>\n",
       "      <td>183</td>\n",
       "      <td>3</td>\n",
       "      <td>1</td>\n",
       "      <td>9</td>\n",
       "      <td>0</td>\n",
       "      <td>0</td>\n",
       "      <td>0</td>\n",
       "    </tr>\n",
       "    <tr>\n",
       "      <th>1</th>\n",
       "      <td>2021-01-04</td>\n",
       "      <td>오징어</td>\n",
       "      <td>페루</td>\n",
       "      <td>페루</td>\n",
       "      <td>판매용</td>\n",
       "      <td>오징어</td>\n",
       "      <td>5.702712</td>\n",
       "      <td>2021</td>\n",
       "      <td>1</td>\n",
       "      <td>4</td>\n",
       "      <td>1</td>\n",
       "      <td>80</td>\n",
       "      <td>80</td>\n",
       "      <td>183</td>\n",
       "      <td>3</td>\n",
       "      <td>1</td>\n",
       "      <td>9</td>\n",
       "      <td>0</td>\n",
       "      <td>0</td>\n",
       "      <td>1</td>\n",
       "    </tr>\n",
       "    <tr>\n",
       "      <th>2</th>\n",
       "      <td>2021-01-04</td>\n",
       "      <td>오징어</td>\n",
       "      <td>대만</td>\n",
       "      <td>대만</td>\n",
       "      <td>판매용</td>\n",
       "      <td>오징어</td>\n",
       "      <td>3.524622</td>\n",
       "      <td>2021</td>\n",
       "      <td>1</td>\n",
       "      <td>4</td>\n",
       "      <td>1</td>\n",
       "      <td>12</td>\n",
       "      <td>11</td>\n",
       "      <td>183</td>\n",
       "      <td>3</td>\n",
       "      <td>1</td>\n",
       "      <td>0</td>\n",
       "      <td>0</td>\n",
       "      <td>0</td>\n",
       "      <td>0</td>\n",
       "    </tr>\n",
       "    <tr>\n",
       "      <th>3</th>\n",
       "      <td>2021-01-11</td>\n",
       "      <td>오징어</td>\n",
       "      <td>중국</td>\n",
       "      <td>중국</td>\n",
       "      <td>판매용</td>\n",
       "      <td>오징어</td>\n",
       "      <td>2.316528</td>\n",
       "      <td>2021</td>\n",
       "      <td>1</td>\n",
       "      <td>11</td>\n",
       "      <td>2</td>\n",
       "      <td>65</td>\n",
       "      <td>64</td>\n",
       "      <td>183</td>\n",
       "      <td>3</td>\n",
       "      <td>1</td>\n",
       "      <td>9</td>\n",
       "      <td>0</td>\n",
       "      <td>0</td>\n",
       "      <td>0</td>\n",
       "    </tr>\n",
       "    <tr>\n",
       "      <th>4</th>\n",
       "      <td>2021-01-11</td>\n",
       "      <td>오징어</td>\n",
       "      <td>페루</td>\n",
       "      <td>페루</td>\n",
       "      <td>판매용</td>\n",
       "      <td>오징어</td>\n",
       "      <td>5.702712</td>\n",
       "      <td>2021</td>\n",
       "      <td>1</td>\n",
       "      <td>11</td>\n",
       "      <td>2</td>\n",
       "      <td>80</td>\n",
       "      <td>80</td>\n",
       "      <td>183</td>\n",
       "      <td>3</td>\n",
       "      <td>1</td>\n",
       "      <td>9</td>\n",
       "      <td>0</td>\n",
       "      <td>0</td>\n",
       "      <td>1</td>\n",
       "    </tr>\n",
       "    <tr>\n",
       "      <th>...</th>\n",
       "      <td>...</td>\n",
       "      <td>...</td>\n",
       "      <td>...</td>\n",
       "      <td>...</td>\n",
       "      <td>...</td>\n",
       "      <td>...</td>\n",
       "      <td>...</td>\n",
       "      <td>...</td>\n",
       "      <td>...</td>\n",
       "      <td>...</td>\n",
       "      <td>...</td>\n",
       "      <td>...</td>\n",
       "      <td>...</td>\n",
       "      <td>...</td>\n",
       "      <td>...</td>\n",
       "      <td>...</td>\n",
       "      <td>...</td>\n",
       "      <td>...</td>\n",
       "      <td>...</td>\n",
       "      <td>...</td>\n",
       "    </tr>\n",
       "    <tr>\n",
       "      <th>228</th>\n",
       "      <td>2021-06-21</td>\n",
       "      <td>흰다리새우</td>\n",
       "      <td>태국</td>\n",
       "      <td>태국</td>\n",
       "      <td>판매용</td>\n",
       "      <td>새우</td>\n",
       "      <td>11.821100</td>\n",
       "      <td>2021</td>\n",
       "      <td>6</td>\n",
       "      <td>21</td>\n",
       "      <td>9</td>\n",
       "      <td>73</td>\n",
       "      <td>72</td>\n",
       "      <td>285</td>\n",
       "      <td>3</td>\n",
       "      <td>1</td>\n",
       "      <td>15</td>\n",
       "      <td>0</td>\n",
       "      <td>0</td>\n",
       "      <td>0</td>\n",
       "    </tr>\n",
       "    <tr>\n",
       "      <th>229</th>\n",
       "      <td>2021-06-21</td>\n",
       "      <td>흰다리새우</td>\n",
       "      <td>에콰도르</td>\n",
       "      <td>에콰도르</td>\n",
       "      <td>판매용</td>\n",
       "      <td>새우</td>\n",
       "      <td>6.983263</td>\n",
       "      <td>2021</td>\n",
       "      <td>6</td>\n",
       "      <td>21</td>\n",
       "      <td>9</td>\n",
       "      <td>54</td>\n",
       "      <td>53</td>\n",
       "      <td>285</td>\n",
       "      <td>3</td>\n",
       "      <td>1</td>\n",
       "      <td>0</td>\n",
       "      <td>0</td>\n",
       "      <td>0</td>\n",
       "      <td>0</td>\n",
       "    </tr>\n",
       "    <tr>\n",
       "      <th>230</th>\n",
       "      <td>2021-06-28</td>\n",
       "      <td>흰다리새우</td>\n",
       "      <td>베트남</td>\n",
       "      <td>베트남</td>\n",
       "      <td>판매용</td>\n",
       "      <td>새우</td>\n",
       "      <td>8.858169</td>\n",
       "      <td>2021</td>\n",
       "      <td>6</td>\n",
       "      <td>28</td>\n",
       "      <td>10</td>\n",
       "      <td>33</td>\n",
       "      <td>32</td>\n",
       "      <td>285</td>\n",
       "      <td>3</td>\n",
       "      <td>1</td>\n",
       "      <td>15</td>\n",
       "      <td>0</td>\n",
       "      <td>0</td>\n",
       "      <td>1</td>\n",
       "    </tr>\n",
       "    <tr>\n",
       "      <th>231</th>\n",
       "      <td>2021-06-28</td>\n",
       "      <td>흰다리새우</td>\n",
       "      <td>태국</td>\n",
       "      <td>태국</td>\n",
       "      <td>판매용</td>\n",
       "      <td>새우</td>\n",
       "      <td>11.821100</td>\n",
       "      <td>2021</td>\n",
       "      <td>6</td>\n",
       "      <td>28</td>\n",
       "      <td>10</td>\n",
       "      <td>73</td>\n",
       "      <td>72</td>\n",
       "      <td>285</td>\n",
       "      <td>3</td>\n",
       "      <td>1</td>\n",
       "      <td>15</td>\n",
       "      <td>0</td>\n",
       "      <td>0</td>\n",
       "      <td>0</td>\n",
       "    </tr>\n",
       "    <tr>\n",
       "      <th>232</th>\n",
       "      <td>2021-06-28</td>\n",
       "      <td>흰다리새우</td>\n",
       "      <td>에콰도르</td>\n",
       "      <td>에콰도르</td>\n",
       "      <td>판매용</td>\n",
       "      <td>새우</td>\n",
       "      <td>6.983263</td>\n",
       "      <td>2021</td>\n",
       "      <td>6</td>\n",
       "      <td>28</td>\n",
       "      <td>10</td>\n",
       "      <td>54</td>\n",
       "      <td>53</td>\n",
       "      <td>285</td>\n",
       "      <td>3</td>\n",
       "      <td>1</td>\n",
       "      <td>0</td>\n",
       "      <td>0</td>\n",
       "      <td>0</td>\n",
       "      <td>0</td>\n",
       "    </tr>\n",
       "  </tbody>\n",
       "</table>\n",
       "<p>233 rows × 20 columns</p>\n",
       "</div>"
      ],
      "text/plain": [
       "      REG_DATE P_NAME CTRY_1 CTRY_2 P_PURPOSE CATEGORY_2    P_PRICE  YEAR  \\\n",
       "0   2021-01-04    오징어     중국     중국       판매용        오징어   2.316528  2021   \n",
       "1   2021-01-04    오징어     페루     페루       판매용        오징어   5.702712  2021   \n",
       "2   2021-01-04    오징어     대만     대만       판매용        오징어   3.524622  2021   \n",
       "3   2021-01-11    오징어     중국     중국       판매용        오징어   2.316528  2021   \n",
       "4   2021-01-11    오징어     페루     페루       판매용        오징어   5.702712  2021   \n",
       "..         ...    ...    ...    ...       ...        ...        ...   ...   \n",
       "228 2021-06-21  흰다리새우     태국     태국       판매용         새우  11.821100  2021   \n",
       "229 2021-06-21  흰다리새우   에콰도르   에콰도르       판매용         새우   6.983263  2021   \n",
       "230 2021-06-28  흰다리새우    베트남    베트남       판매용         새우   8.858169  2021   \n",
       "231 2021-06-28  흰다리새우     태국     태국       판매용         새우  11.821100  2021   \n",
       "232 2021-06-28  흰다리새우   에콰도르   에콰도르       판매용         새우   6.983263  2021   \n",
       "\n",
       "     MONTH  DAY  주차  CTRY_1_le  CTRY_2_le  P_NAME_le  P_PURPOSE_le  \\\n",
       "0        1    4   1         65         64        183             3   \n",
       "1        1    4   1         80         80        183             3   \n",
       "2        1    4   1         12         11        183             3   \n",
       "3        1   11   2         65         64        183             3   \n",
       "4        1   11   2         80         80        183             3   \n",
       "..     ...  ...  ..        ...        ...        ...           ...   \n",
       "228      6   21   9         73         72        285             3   \n",
       "229      6   21   9         54         53        285             3   \n",
       "230      6   28  10         33         32        285             3   \n",
       "231      6   28  10         73         72        285             3   \n",
       "232      6   28  10         54         53        285             3   \n",
       "\n",
       "     storage_le  part_le  process_le  sashimi_le  steaming_processing_le  \n",
       "0             1        9           0           0                       0  \n",
       "1             1        9           0           0                       1  \n",
       "2             1        0           0           0                       0  \n",
       "3             1        9           0           0                       0  \n",
       "4             1        9           0           0                       1  \n",
       "..          ...      ...         ...         ...                     ...  \n",
       "228           1       15           0           0                       0  \n",
       "229           1        0           0           0                       0  \n",
       "230           1       15           0           0                       1  \n",
       "231           1       15           0           0                       0  \n",
       "232           1        0           0           0                       0  \n",
       "\n",
       "[233 rows x 20 columns]"
      ]
     },
     "execution_count": 200,
     "metadata": {},
     "output_type": "execute_result"
    }
   ],
   "source": [
    "test"
   ]
  },
  {
   "cell_type": "code",
   "execution_count": 201,
   "metadata": {
    "execution": {
     "iopub.execute_input": "2021-09-15T04:16:59.842148Z",
     "iopub.status.busy": "2021-09-15T04:16:59.841903Z",
     "iopub.status.idle": "2021-09-15T04:16:59.854637Z",
     "shell.execute_reply": "2021-09-15T04:16:59.853775Z",
     "shell.execute_reply.started": "2021-09-15T04:16:59.842103Z"
    }
   },
   "outputs": [],
   "source": [
    "pred1 = test.loc[test['P_NAME']==\"오징어\", :].groupby([\"REG_DATE\"])[\"P_PRICE\"].mean().tolist()\n",
    "pred2 = test.loc[test['P_NAME']==\"연어\", :].groupby([\"REG_DATE\"])[\"P_PRICE\"].mean().tolist()\n",
    "pred3 = test.loc[test['P_NAME']==\"흰다리새우\", :].groupby([\"REG_DATE\"])[\"P_PRICE\"].mean().tolist()\n",
    "\n",
    "prediction = pred1 + pred2 + pred3"
   ]
  },
  {
   "cell_type": "code",
   "execution_count": 202,
   "metadata": {
    "execution": {
     "iopub.execute_input": "2021-09-15T04:16:59.856580Z",
     "iopub.status.busy": "2021-09-15T04:16:59.856093Z",
     "iopub.status.idle": "2021-09-15T04:16:59.864098Z",
     "shell.execute_reply": "2021-09-15T04:16:59.863344Z",
     "shell.execute_reply.started": "2021-09-15T04:16:59.856527Z"
    }
   },
   "outputs": [],
   "source": [
    "test_2['P_PRICE'] = prediction"
   ]
  },
  {
   "cell_type": "code",
   "execution_count": 203,
   "metadata": {
    "execution": {
     "iopub.execute_input": "2021-09-15T04:16:59.865992Z",
     "iopub.status.busy": "2021-09-15T04:16:59.865747Z",
     "iopub.status.idle": "2021-09-15T04:16:59.876559Z",
     "shell.execute_reply": "2021-09-15T04:16:59.875763Z",
     "shell.execute_reply.started": "2021-09-15T04:16:59.865961Z"
    }
   },
   "outputs": [],
   "source": [
    "test_2.to_csv('test.csv',encoding='CP949')"
   ]
  },
  {
   "cell_type": "code",
   "execution_count": null,
   "metadata": {},
   "outputs": [],
   "source": []
  }
 ],
 "metadata": {
  "kernelspec": {
   "display_name": "Python 3",
   "language": "python",
   "name": "python3"
  },
  "language_info": {
   "codemirror_mode": {
    "name": "ipython",
    "version": 3
   },
   "file_extension": ".py",
   "mimetype": "text/x-python",
   "name": "python",
   "nbconvert_exporter": "python",
   "pygments_lexer": "ipython3",
   "version": "3.8.5"
  }
 },
 "nbformat": 4,
 "nbformat_minor": 4
}
